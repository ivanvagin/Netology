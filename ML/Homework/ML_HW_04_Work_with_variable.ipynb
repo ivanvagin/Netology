{
 "cells": [
  {
   "cell_type": "markdown",
   "metadata": {},
   "source": [
    "Задание\n",
    "Цель: изучить применение методов разведочного анализа данных (EDA) для улучшения качества работы моделей машинного обучения.\n",
    "Описание задания:\n",
    "В домашнем задании нужно улучшить метрики RMSE, R2 модели линейной регрессии путем работы с данными, а именно проведения разведочного анализа данных. В качестве датасета необходимо загрузить данные о недвижимости Калифорнии из библиотеки sklearn.datasets. Целевая переменная – MedHouseVal. Прочитать информацию о признаках датасета можно, выполнив следующий код – print(fetch_california_housing().DESCR).\n",
    "Этапы работы:\n",
    "Получите данные и загрузите их в рабочую среду. (Jupyter Notebook или другую).\n",
    "Проверьте данные на наличие пропусков. Удалите их в случае обнаружения.\n",
    "Разделите выборку на обучающее и тестовое подмножества. 80% данных оставить на обучающее множество, 20% - на тестовое.\n",
    "Постройте модель линейной регрессии. Вычислите метрики RMSE, R2 на обучающем и тестовом множестве.\n",
    "Постройте график распределения целевой переменной. Сделайте вывод. Присутствуют ли в этом признаке выбросы?\n",
    "Посчитайте и выведите корреляционную матрицу. Убедитесь, что ячейки матрицы поделены на цветные категории, в ячейках указано числовое значение корреляции.\n",
    "Сделайте выводы.\n",
    "Удалите признаки на основании полученных значений, выводов.\n",
    "Повторите п. 3, п. 4 на измененных данных.\n",
    "Исследуйте оставленные признаки на выбросы.\n",
    "Удалите выбросы в случае обнаружения.\n",
    "Повторите п. 3, п. 4 на измененных данных.\n",
    "Измените несколько признаков на выбор математически. Например, вычислите логарифм, возведите в квадрат, извлеките квадратный корень.\n",
    "Повторите п. 3, п. 4 на измененных данных.\n",
    "Сформулируйте выводы по проделанной работе.\n",
    "Кратко опишите какие преобразования были сделаны с данными.\n",
    "Сравните метрики всех моделей. Желательно оформление в виде таблицы вида |модель|RMSE|R2|признаки, на которых проводилось обучение с указанием их преобразований|.\n",
    "Напишите свое мнение, в полной ли мере модели справились с поставленной задачей.\n",
    "Для получения зачета по этому домашнему заданию, минимально, должно быть реализовано обучение трех моделей классификации: на основе всех неизмененных признаков; на основе признаков, отобранных по значениям корреляций; на основе признаков, отобранных по значениям корреляций и с удалением выбросов в них. Должны быть выведены метрики RMSE, R2 моделей. Желательно добиться улучшения метрик."
   ]
  },
  {
   "cell_type": "code",
   "execution_count": 31,
   "metadata": {},
   "outputs": [],
   "source": [
    "from sklearn.datasets import fetch_california_housing\n",
    "\n",
    "import pandas as pd\n",
    "import numpy as np\n",
    "from scipy import stats\n",
    "import seaborn as sns\n",
    " \n",
    "from matplotlib import pyplot as plt\n",
    "%matplotlib inline\n",
    " \n",
    "from sklearn.linear_model import LinearRegression\n",
    "from sklearn.model_selection import train_test_split\n",
    "from sklearn.metrics import mean_squared_error\n",
    "\n",
    "import math"
   ]
  },
  {
   "cell_type": "markdown",
   "metadata": {},
   "source": [
    "Загрузим данные в датасет housing"
   ]
  },
  {
   "cell_type": "code",
   "execution_count": 32,
   "metadata": {},
   "outputs": [],
   "source": [
    "california_housing = fetch_california_housing(as_frame=True)\n",
    "# print(california_housing.DESCR)"
   ]
  },
  {
   "cell_type": "code",
   "execution_count": 33,
   "metadata": {},
   "outputs": [
    {
     "data": {
      "text/html": [
       "<div>\n",
       "<style scoped>\n",
       "    .dataframe tbody tr th:only-of-type {\n",
       "        vertical-align: middle;\n",
       "    }\n",
       "\n",
       "    .dataframe tbody tr th {\n",
       "        vertical-align: top;\n",
       "    }\n",
       "\n",
       "    .dataframe thead th {\n",
       "        text-align: right;\n",
       "    }\n",
       "</style>\n",
       "<table border=\"1\" class=\"dataframe\">\n",
       "  <thead>\n",
       "    <tr style=\"text-align: right;\">\n",
       "      <th></th>\n",
       "      <th>MedInc</th>\n",
       "      <th>HouseAge</th>\n",
       "      <th>AveRooms</th>\n",
       "      <th>AveBedrms</th>\n",
       "      <th>Population</th>\n",
       "      <th>AveOccup</th>\n",
       "      <th>Latitude</th>\n",
       "      <th>Longitude</th>\n",
       "    </tr>\n",
       "  </thead>\n",
       "  <tbody>\n",
       "    <tr>\n",
       "      <th>0</th>\n",
       "      <td>8.3252</td>\n",
       "      <td>41.0</td>\n",
       "      <td>6.984127</td>\n",
       "      <td>1.023810</td>\n",
       "      <td>322.0</td>\n",
       "      <td>2.555556</td>\n",
       "      <td>37.88</td>\n",
       "      <td>-122.23</td>\n",
       "    </tr>\n",
       "    <tr>\n",
       "      <th>1</th>\n",
       "      <td>8.3014</td>\n",
       "      <td>21.0</td>\n",
       "      <td>6.238137</td>\n",
       "      <td>0.971880</td>\n",
       "      <td>2401.0</td>\n",
       "      <td>2.109842</td>\n",
       "      <td>37.86</td>\n",
       "      <td>-122.22</td>\n",
       "    </tr>\n",
       "    <tr>\n",
       "      <th>2</th>\n",
       "      <td>7.2574</td>\n",
       "      <td>52.0</td>\n",
       "      <td>8.288136</td>\n",
       "      <td>1.073446</td>\n",
       "      <td>496.0</td>\n",
       "      <td>2.802260</td>\n",
       "      <td>37.85</td>\n",
       "      <td>-122.24</td>\n",
       "    </tr>\n",
       "  </tbody>\n",
       "</table>\n",
       "</div>"
      ],
      "text/plain": [
       "   MedInc  HouseAge  AveRooms  AveBedrms  Population  AveOccup  Latitude  \\\n",
       "0  8.3252      41.0  6.984127   1.023810       322.0  2.555556     37.88   \n",
       "1  8.3014      21.0  6.238137   0.971880      2401.0  2.109842     37.86   \n",
       "2  7.2574      52.0  8.288136   1.073446       496.0  2.802260     37.85   \n",
       "\n",
       "   Longitude  \n",
       "0    -122.23  \n",
       "1    -122.22  \n",
       "2    -122.24  "
      ]
     },
     "execution_count": 33,
     "metadata": {},
     "output_type": "execute_result"
    }
   ],
   "source": [
    "housing = pd.DataFrame(california_housing.data, columns=california_housing.feature_names)\n",
    "\n",
    "housing.head(3)"
   ]
  },
  {
   "cell_type": "markdown",
   "metadata": {},
   "source": [
    "Целевую переменную сохраним в housing_target"
   ]
  },
  {
   "cell_type": "code",
   "execution_count": 34,
   "metadata": {},
   "outputs": [
    {
     "data": {
      "text/html": [
       "<div>\n",
       "<style scoped>\n",
       "    .dataframe tbody tr th:only-of-type {\n",
       "        vertical-align: middle;\n",
       "    }\n",
       "\n",
       "    .dataframe tbody tr th {\n",
       "        vertical-align: top;\n",
       "    }\n",
       "\n",
       "    .dataframe thead th {\n",
       "        text-align: right;\n",
       "    }\n",
       "</style>\n",
       "<table border=\"1\" class=\"dataframe\">\n",
       "  <thead>\n",
       "    <tr style=\"text-align: right;\">\n",
       "      <th></th>\n",
       "      <th>MedHouseVal</th>\n",
       "    </tr>\n",
       "  </thead>\n",
       "  <tbody>\n",
       "    <tr>\n",
       "      <th>0</th>\n",
       "      <td>4.526</td>\n",
       "    </tr>\n",
       "    <tr>\n",
       "      <th>1</th>\n",
       "      <td>3.585</td>\n",
       "    </tr>\n",
       "    <tr>\n",
       "      <th>2</th>\n",
       "      <td>3.521</td>\n",
       "    </tr>\n",
       "  </tbody>\n",
       "</table>\n",
       "</div>"
      ],
      "text/plain": [
       "   MedHouseVal\n",
       "0        4.526\n",
       "1        3.585\n",
       "2        3.521"
      ]
     },
     "execution_count": 34,
     "metadata": {},
     "output_type": "execute_result"
    }
   ],
   "source": [
    "housing_target = pd.DataFrame(california_housing.target)\n",
    "housing_target.head(3)"
   ]
  },
  {
   "cell_type": "markdown",
   "metadata": {},
   "source": [
    "Проверим данные на пропуски "
   ]
  },
  {
   "cell_type": "code",
   "execution_count": 35,
   "metadata": {
    "scrolled": true
   },
   "outputs": [
    {
     "name": "stdout",
     "output_type": "stream",
     "text": [
      "<class 'pandas.core.frame.DataFrame'>\n",
      "RangeIndex: 20640 entries, 0 to 20639\n",
      "Data columns (total 8 columns):\n",
      " #   Column      Non-Null Count  Dtype  \n",
      "---  ------      --------------  -----  \n",
      " 0   MedInc      20640 non-null  float64\n",
      " 1   HouseAge    20640 non-null  float64\n",
      " 2   AveRooms    20640 non-null  float64\n",
      " 3   AveBedrms   20640 non-null  float64\n",
      " 4   Population  20640 non-null  float64\n",
      " 5   AveOccup    20640 non-null  float64\n",
      " 6   Latitude    20640 non-null  float64\n",
      " 7   Longitude   20640 non-null  float64\n",
      "dtypes: float64(8)\n",
      "memory usage: 1.3 MB\n"
     ]
    }
   ],
   "source": [
    "housing.info()"
   ]
  },
  {
   "cell_type": "markdown",
   "metadata": {},
   "source": [
    "Подготовим функции для нахождения нужных метрик"
   ]
  },
  {
   "cell_type": "code",
   "execution_count": 36,
   "metadata": {},
   "outputs": [],
   "source": [
    "def get_R2_score_test(X,y, random_seed=42, model=None):\n",
    "    if model is None:\n",
    "        model = LinearRegression()\n",
    "        X_train, X_test, y_train, y_test = train_test_split(X, y, test_size=0.3, random_state=random_seed )  \n",
    "        model.fit(X_train, y_train)\n",
    "    return model.score(X_test, y_test)\n",
    "\n",
    "def get_RMSE_test(X,y, random_seed=42, model=None):\n",
    "    if model is None:\n",
    "        model = LinearRegression()\n",
    "        X_train, X_test, y_train, y_test = train_test_split(X, y, test_size=0.2, random_state=random_seed )  \n",
    "        model.fit(X_train, y_train)\n",
    "        y_pred = model.predict(X_test)\n",
    "    return mean_squared_error(y_test, y_pred, squared=False)\n",
    "\n",
    "def get_R2_score_train(X,y, random_seed=42, model=None):\n",
    "    if model is None:\n",
    "        model = LinearRegression()\n",
    "        X_train, X_test, y_train, y_test = train_test_split(X, y, test_size=0.3, random_state=random_seed )  \n",
    "        model.fit(X_train, y_train)\n",
    "    return model.score(X_train, y_train)\n",
    "\n",
    "def get_RMSE_train(X,y, random_seed=42, model=None):\n",
    "    if model is None:\n",
    "        model = LinearRegression()\n",
    "        X_train, X_test, y_train, y_test = train_test_split(X, y, test_size=0.2, random_state=random_seed )  \n",
    "        model.fit(X_train, y_train)\n",
    "        y_pred = model.predict(X_train)\n",
    "    return mean_squared_error(y_train, y_pred, squared=False)\n",
    "\n",
    "def get_boxplot(X, columns=[]):\n",
    "    for i in columns:\n",
    "        sns.boxplot(x=X[i])\n",
    "    pass  \n",
    "\n",
    "def get_pairplot(X, columns=None):\n",
    "    if columns is None:\n",
    "        columns = list(X.columns)\n",
    "        sns.pairplot(X[columns])\n",
    "    pass"
   ]
  },
  {
   "cell_type": "markdown",
   "metadata": {},
   "source": [
    "Подготовим данные для модели линейной регрессии "
   ]
  },
  {
   "cell_type": "code",
   "execution_count": 37,
   "metadata": {},
   "outputs": [],
   "source": [
    "X = housing\n",
    "y = housing_target"
   ]
  },
  {
   "cell_type": "markdown",
   "metadata": {},
   "source": [
    "Через готовые фукнции построим модель линейной ригрессии и получим метрики RMSE и R2 на тестовом множестве "
   ]
  },
  {
   "cell_type": "code",
   "execution_count": 38,
   "metadata": {
    "scrolled": true
   },
   "outputs": [
    {
     "name": "stdout",
     "output_type": "stream",
     "text": [
      "RMSE_test =  0.7455813830127763\n",
      "R2_test =  0.5957702326061667\n"
     ]
    }
   ],
   "source": [
    "print('RMSE_test = ', get_RMSE_test(X,y, random_seed=42, model=None))\n",
    "print('R2_test = ', get_R2_score_test(X,y, random_seed=42, model=None))\n",
    "list_result_rmse = []\n",
    "list_result_r2 = []\n",
    "list_result_rmse.append(get_RMSE_test(X,y, random_seed=42, model=None))\n",
    "list_result_r2.append(get_R2_score_test(X,y, random_seed=42, model=None))"
   ]
  },
  {
   "cell_type": "markdown",
   "metadata": {},
   "source": [
    "Получим метрики RMSE и R2 на обучающем множестве "
   ]
  },
  {
   "cell_type": "code",
   "execution_count": 39,
   "metadata": {
    "scrolled": true
   },
   "outputs": [
    {
     "name": "stdout",
     "output_type": "stream",
     "text": [
      "RMSE_train =  0.7196757085831575\n",
      "R2_train =  0.6093459727972159\n"
     ]
    }
   ],
   "source": [
    "print('RMSE_train = ',get_RMSE_train(X,y, random_seed=42, model=None))\n",
    "print('R2_train = ', get_R2_score_train(X,y, random_seed=42, model=None))\n",
    "list_result_rmse.append(get_RMSE_train(X,y, random_seed=42, model=None))\n",
    "list_result_r2.append(get_R2_score_train(X,y, random_seed=42, model=None))"
   ]
  },
  {
   "cell_type": "markdown",
   "metadata": {},
   "source": [
    "График распределения целевой переменной "
   ]
  },
  {
   "cell_type": "code",
   "execution_count": 40,
   "metadata": {},
   "outputs": [
    {
     "data": {
      "image/png": "[encoded data removed]",
      "text/plain": [
       "<Figure size 576x432 with 1 Axes>"
      ]
     },
     "metadata": {
      "needs_background": "light"
     },
     "output_type": "display_data"
    }
   ],
   "source": [
    "plt.rcParams[\"figure.figsize\"] = (8,6)\n",
    "plt.title('График распределения целевой переменной')\n",
    "plt.xlabel('Целевая переменная')\n",
    "plt.ylabel('Количество')\n",
    "plt.hist(y)\n",
    "plt.show()"
   ]
  },
  {
   "cell_type": "markdown",
   "metadata": {},
   "source": [
    "Вывод по графику: Целевая переменная имеет нормальное распределение и выбросы. "
   ]
  },
  {
   "cell_type": "markdown",
   "metadata": {},
   "source": [
    "Посмотрим на выбросы визуально.  "
   ]
  },
  {
   "cell_type": "code",
   "execution_count": 41,
   "metadata": {
    "scrolled": false
   },
   "outputs": [
    {
     "data": {
      "image/png": "[encoded data removed]",
      "text/plain": [
       "<Figure size 576x432 with 1 Axes>"
      ]
     },
     "metadata": {
      "needs_background": "light"
     },
     "output_type": "display_data"
    }
   ],
   "source": [
    "plt.rcParams[\"figure.figsize\"] = (8,6)\n",
    "plt.boxplot(y)\n",
    "plt.title('Визуализация выбросов')\n",
    "plt.ylabel('Значения целевой переменной')\n",
    "plt.show()"
   ]
  },
  {
   "cell_type": "markdown",
   "metadata": {},
   "source": [
    "Рассчитаем диапазон выбросов"
   ]
  },
  {
   "cell_type": "code",
   "execution_count": 42,
   "metadata": {},
   "outputs": [
    {
     "name": "stdout",
     "output_type": "stream",
     "text": [
      "-0.9808749999999995\n",
      "4.824124999999999\n"
     ]
    }
   ],
   "source": [
    "q1 = y['MedHouseVal'].quantile(0.25)\n",
    "q3 = y['MedHouseVal'].quantile(0.75)\n",
    "iqr = q3 - q1\n",
    "lower_bound = q1 - (1.5 * iqr) \n",
    "print(lower_bound)\n",
    "upper_bound = q3 + (1.5 * iqr)\n",
    "print(upper_bound)"
   ]
  },
  {
   "cell_type": "markdown",
   "metadata": {},
   "source": [
    "Посмотрим на  корреляционную матрицу."
   ]
  },
  {
   "cell_type": "code",
   "execution_count": 43,
   "metadata": {
    "scrolled": false
   },
   "outputs": [
    {
     "data": {
      "text/html": [
       "<style  type=\"text/css\" >\n",
       "#T_11b8cf44_0520_11ed_8246_2016d8b42490row0_col0,#T_11b8cf44_0520_11ed_8246_2016d8b42490row1_col1,#T_11b8cf44_0520_11ed_8246_2016d8b42490row2_col2,#T_11b8cf44_0520_11ed_8246_2016d8b42490row3_col3,#T_11b8cf44_0520_11ed_8246_2016d8b42490row4_col4,#T_11b8cf44_0520_11ed_8246_2016d8b42490row5_col5,#T_11b8cf44_0520_11ed_8246_2016d8b42490row6_col6,#T_11b8cf44_0520_11ed_8246_2016d8b42490row7_col7{\n",
       "            background-color:  #b40426;\n",
       "            color:  #f1f1f1;\n",
       "        }#T_11b8cf44_0520_11ed_8246_2016d8b42490row0_col1{\n",
       "            background-color:  #6485ec;\n",
       "            color:  #000000;\n",
       "        }#T_11b8cf44_0520_11ed_8246_2016d8b42490row0_col2{\n",
       "            background-color:  #c5d6f2;\n",
       "            color:  #000000;\n",
       "        }#T_11b8cf44_0520_11ed_8246_2016d8b42490row0_col3{\n",
       "            background-color:  #3e51c5;\n",
       "            color:  #f1f1f1;\n",
       "        }#T_11b8cf44_0520_11ed_8246_2016d8b42490row0_col4{\n",
       "            background-color:  #86a9fc;\n",
       "            color:  #000000;\n",
       "        }#T_11b8cf44_0520_11ed_8246_2016d8b42490row0_col5{\n",
       "            background-color:  #4257c9;\n",
       "            color:  #f1f1f1;\n",
       "        }#T_11b8cf44_0520_11ed_8246_2016d8b42490row0_col6{\n",
       "            background-color:  #ccd9ed;\n",
       "            color:  #000000;\n",
       "        }#T_11b8cf44_0520_11ed_8246_2016d8b42490row0_col7{\n",
       "            background-color:  #d5dbe5;\n",
       "            color:  #000000;\n",
       "        }#T_11b8cf44_0520_11ed_8246_2016d8b42490row1_col0,#T_11b8cf44_0520_11ed_8246_2016d8b42490row1_col2,#T_11b8cf44_0520_11ed_8246_2016d8b42490row1_col3,#T_11b8cf44_0520_11ed_8246_2016d8b42490row1_col4,#T_11b8cf44_0520_11ed_8246_2016d8b42490row2_col5,#T_11b8cf44_0520_11ed_8246_2016d8b42490row3_col5,#T_11b8cf44_0520_11ed_8246_2016d8b42490row4_col1,#T_11b8cf44_0520_11ed_8246_2016d8b42490row6_col7,#T_11b8cf44_0520_11ed_8246_2016d8b42490row7_col6{\n",
       "            background-color:  #3b4cc0;\n",
       "            color:  #f1f1f1;\n",
       "        }#T_11b8cf44_0520_11ed_8246_2016d8b42490row1_col5{\n",
       "            background-color:  #3f53c6;\n",
       "            color:  #f1f1f1;\n",
       "        }#T_11b8cf44_0520_11ed_8246_2016d8b42490row1_col6,#T_11b8cf44_0520_11ed_8246_2016d8b42490row3_col7{\n",
       "            background-color:  #d9dce1;\n",
       "            color:  #000000;\n",
       "        }#T_11b8cf44_0520_11ed_8246_2016d8b42490row1_col7,#T_11b8cf44_0520_11ed_8246_2016d8b42490row4_col6{\n",
       "            background-color:  #c7d7f0;\n",
       "            color:  #000000;\n",
       "        }#T_11b8cf44_0520_11ed_8246_2016d8b42490row2_col0{\n",
       "            background-color:  #c0d4f5;\n",
       "            color:  #000000;\n",
       "        }#T_11b8cf44_0520_11ed_8246_2016d8b42490row2_col1,#T_11b8cf44_0520_11ed_8246_2016d8b42490row4_col0{\n",
       "            background-color:  #5d7ce6;\n",
       "            color:  #000000;\n",
       "        }#T_11b8cf44_0520_11ed_8246_2016d8b42490row2_col3{\n",
       "            background-color:  #e26952;\n",
       "            color:  #000000;\n",
       "        }#T_11b8cf44_0520_11ed_8246_2016d8b42490row2_col4{\n",
       "            background-color:  #7295f4;\n",
       "            color:  #000000;\n",
       "        }#T_11b8cf44_0520_11ed_8246_2016d8b42490row2_col6{\n",
       "            background-color:  #e6d7cf;\n",
       "            color:  #000000;\n",
       "        }#T_11b8cf44_0520_11ed_8246_2016d8b42490row2_col7{\n",
       "            background-color:  #d4dbe6;\n",
       "            color:  #000000;\n",
       "        }#T_11b8cf44_0520_11ed_8246_2016d8b42490row3_col0{\n",
       "            background-color:  #4a63d3;\n",
       "            color:  #f1f1f1;\n",
       "        }#T_11b8cf44_0520_11ed_8246_2016d8b42490row3_col1{\n",
       "            background-color:  #7093f3;\n",
       "            color:  #000000;\n",
       "        }#T_11b8cf44_0520_11ed_8246_2016d8b42490row3_col2{\n",
       "            background-color:  #df634e;\n",
       "            color:  #000000;\n",
       "        }#T_11b8cf44_0520_11ed_8246_2016d8b42490row3_col4{\n",
       "            background-color:  #7396f5;\n",
       "            color:  #000000;\n",
       "        }#T_11b8cf44_0520_11ed_8246_2016d8b42490row3_col6{\n",
       "            background-color:  #e1dad6;\n",
       "            color:  #000000;\n",
       "        }#T_11b8cf44_0520_11ed_8246_2016d8b42490row4_col2{\n",
       "            background-color:  #4f69d9;\n",
       "            color:  #000000;\n",
       "        }#T_11b8cf44_0520_11ed_8246_2016d8b42490row4_col3,#T_11b8cf44_0520_11ed_8246_2016d8b42490row6_col5,#T_11b8cf44_0520_11ed_8246_2016d8b42490row7_col5{\n",
       "            background-color:  #3d50c3;\n",
       "            color:  #f1f1f1;\n",
       "        }#T_11b8cf44_0520_11ed_8246_2016d8b42490row4_col5{\n",
       "            background-color:  #516ddb;\n",
       "            color:  #000000;\n",
       "        }#T_11b8cf44_0520_11ed_8246_2016d8b42490row4_col7{\n",
       "            background-color:  #e5d8d1;\n",
       "            color:  #000000;\n",
       "        }#T_11b8cf44_0520_11ed_8246_2016d8b42490row5_col0{\n",
       "            background-color:  #6180e9;\n",
       "            color:  #000000;\n",
       "        }#T_11b8cf44_0520_11ed_8246_2016d8b42490row5_col1{\n",
       "            background-color:  #89acfd;\n",
       "            color:  #000000;\n",
       "        }#T_11b8cf44_0520_11ed_8246_2016d8b42490row5_col2{\n",
       "            background-color:  #6282ea;\n",
       "            color:  #000000;\n",
       "        }#T_11b8cf44_0520_11ed_8246_2016d8b42490row5_col3{\n",
       "            background-color:  #4e68d8;\n",
       "            color:  #000000;\n",
       "        }#T_11b8cf44_0520_11ed_8246_2016d8b42490row5_col4{\n",
       "            background-color:  #98b9ff;\n",
       "            color:  #000000;\n",
       "        }#T_11b8cf44_0520_11ed_8246_2016d8b42490row5_col6,#T_11b8cf44_0520_11ed_8246_2016d8b42490row5_col7{\n",
       "            background-color:  #d8dce2;\n",
       "            color:  #000000;\n",
       "        }#T_11b8cf44_0520_11ed_8246_2016d8b42490row6_col0{\n",
       "            background-color:  #445acc;\n",
       "            color:  #f1f1f1;\n",
       "        }#T_11b8cf44_0520_11ed_8246_2016d8b42490row6_col1{\n",
       "            background-color:  #88abfd;\n",
       "            color:  #000000;\n",
       "        }#T_11b8cf44_0520_11ed_8246_2016d8b42490row6_col2{\n",
       "            background-color:  #84a7fc;\n",
       "            color:  #000000;\n",
       "        }#T_11b8cf44_0520_11ed_8246_2016d8b42490row6_col3{\n",
       "            background-color:  #6687ed;\n",
       "            color:  #000000;\n",
       "        }#T_11b8cf44_0520_11ed_8246_2016d8b42490row6_col4,#T_11b8cf44_0520_11ed_8246_2016d8b42490row7_col1{\n",
       "            background-color:  #688aef;\n",
       "            color:  #000000;\n",
       "        }#T_11b8cf44_0520_11ed_8246_2016d8b42490row7_col0{\n",
       "            background-color:  #5673e0;\n",
       "            color:  #000000;\n",
       "        }#T_11b8cf44_0520_11ed_8246_2016d8b42490row7_col2{\n",
       "            background-color:  #5b7ae5;\n",
       "            color:  #000000;\n",
       "        }#T_11b8cf44_0520_11ed_8246_2016d8b42490row7_col3{\n",
       "            background-color:  #5470de;\n",
       "            color:  #000000;\n",
       "        }#T_11b8cf44_0520_11ed_8246_2016d8b42490row7_col4{\n",
       "            background-color:  #a1c0ff;\n",
       "            color:  #000000;\n",
       "        }</style><table id=\"T_11b8cf44_0520_11ed_8246_2016d8b42490\" ><thead>    <tr>        <th class=\"blank level0\" ></th>        <th class=\"col_heading level0 col0\" >MedInc</th>        <th class=\"col_heading level0 col1\" >HouseAge</th>        <th class=\"col_heading level0 col2\" >AveRooms</th>        <th class=\"col_heading level0 col3\" >AveBedrms</th>        <th class=\"col_heading level0 col4\" >Population</th>        <th class=\"col_heading level0 col5\" >AveOccup</th>        <th class=\"col_heading level0 col6\" >Latitude</th>        <th class=\"col_heading level0 col7\" >Longitude</th>    </tr></thead><tbody>\n",
       "                <tr>\n",
       "                        <th id=\"T_11b8cf44_0520_11ed_8246_2016d8b42490level0_row0\" class=\"row_heading level0 row0\" >MedInc</th>\n",
       "                        <td id=\"T_11b8cf44_0520_11ed_8246_2016d8b42490row0_col0\" class=\"data row0 col0\" >1.000000</td>\n",
       "                        <td id=\"T_11b8cf44_0520_11ed_8246_2016d8b42490row0_col1\" class=\"data row0 col1\" >-0.119034</td>\n",
       "                        <td id=\"T_11b8cf44_0520_11ed_8246_2016d8b42490row0_col2\" class=\"data row0 col2\" >0.326895</td>\n",
       "                        <td id=\"T_11b8cf44_0520_11ed_8246_2016d8b42490row0_col3\" class=\"data row0 col3\" >-0.062040</td>\n",
       "                        <td id=\"T_11b8cf44_0520_11ed_8246_2016d8b42490row0_col4\" class=\"data row0 col4\" >0.004834</td>\n",
       "                        <td id=\"T_11b8cf44_0520_11ed_8246_2016d8b42490row0_col5\" class=\"data row0 col5\" >0.018766</td>\n",
       "                        <td id=\"T_11b8cf44_0520_11ed_8246_2016d8b42490row0_col6\" class=\"data row0 col6\" >-0.079809</td>\n",
       "                        <td id=\"T_11b8cf44_0520_11ed_8246_2016d8b42490row0_col7\" class=\"data row0 col7\" >-0.015176</td>\n",
       "            </tr>\n",
       "            <tr>\n",
       "                        <th id=\"T_11b8cf44_0520_11ed_8246_2016d8b42490level0_row1\" class=\"row_heading level0 row1\" >HouseAge</th>\n",
       "                        <td id=\"T_11b8cf44_0520_11ed_8246_2016d8b42490row1_col0\" class=\"data row1 col0\" >-0.119034</td>\n",
       "                        <td id=\"T_11b8cf44_0520_11ed_8246_2016d8b42490row1_col1\" class=\"data row1 col1\" >1.000000</td>\n",
       "                        <td id=\"T_11b8cf44_0520_11ed_8246_2016d8b42490row1_col2\" class=\"data row1 col2\" >-0.153277</td>\n",
       "                        <td id=\"T_11b8cf44_0520_11ed_8246_2016d8b42490row1_col3\" class=\"data row1 col3\" >-0.077747</td>\n",
       "                        <td id=\"T_11b8cf44_0520_11ed_8246_2016d8b42490row1_col4\" class=\"data row1 col4\" >-0.296244</td>\n",
       "                        <td id=\"T_11b8cf44_0520_11ed_8246_2016d8b42490row1_col5\" class=\"data row1 col5\" >0.013191</td>\n",
       "                        <td id=\"T_11b8cf44_0520_11ed_8246_2016d8b42490row1_col6\" class=\"data row1 col6\" >0.011173</td>\n",
       "                        <td id=\"T_11b8cf44_0520_11ed_8246_2016d8b42490row1_col7\" class=\"data row1 col7\" >-0.108197</td>\n",
       "            </tr>\n",
       "            <tr>\n",
       "                        <th id=\"T_11b8cf44_0520_11ed_8246_2016d8b42490level0_row2\" class=\"row_heading level0 row2\" >AveRooms</th>\n",
       "                        <td id=\"T_11b8cf44_0520_11ed_8246_2016d8b42490row2_col0\" class=\"data row2 col0\" >0.326895</td>\n",
       "                        <td id=\"T_11b8cf44_0520_11ed_8246_2016d8b42490row2_col1\" class=\"data row2 col1\" >-0.153277</td>\n",
       "                        <td id=\"T_11b8cf44_0520_11ed_8246_2016d8b42490row2_col2\" class=\"data row2 col2\" >1.000000</td>\n",
       "                        <td id=\"T_11b8cf44_0520_11ed_8246_2016d8b42490row2_col3\" class=\"data row2 col3\" >0.847621</td>\n",
       "                        <td id=\"T_11b8cf44_0520_11ed_8246_2016d8b42490row2_col4\" class=\"data row2 col4\" >-0.072213</td>\n",
       "                        <td id=\"T_11b8cf44_0520_11ed_8246_2016d8b42490row2_col5\" class=\"data row2 col5\" >-0.004852</td>\n",
       "                        <td id=\"T_11b8cf44_0520_11ed_8246_2016d8b42490row2_col6\" class=\"data row2 col6\" >0.106389</td>\n",
       "                        <td id=\"T_11b8cf44_0520_11ed_8246_2016d8b42490row2_col7\" class=\"data row2 col7\" >-0.027540</td>\n",
       "            </tr>\n",
       "            <tr>\n",
       "                        <th id=\"T_11b8cf44_0520_11ed_8246_2016d8b42490level0_row3\" class=\"row_heading level0 row3\" >AveBedrms</th>\n",
       "                        <td id=\"T_11b8cf44_0520_11ed_8246_2016d8b42490row3_col0\" class=\"data row3 col0\" >-0.062040</td>\n",
       "                        <td id=\"T_11b8cf44_0520_11ed_8246_2016d8b42490row3_col1\" class=\"data row3 col1\" >-0.077747</td>\n",
       "                        <td id=\"T_11b8cf44_0520_11ed_8246_2016d8b42490row3_col2\" class=\"data row3 col2\" >0.847621</td>\n",
       "                        <td id=\"T_11b8cf44_0520_11ed_8246_2016d8b42490row3_col3\" class=\"data row3 col3\" >1.000000</td>\n",
       "                        <td id=\"T_11b8cf44_0520_11ed_8246_2016d8b42490row3_col4\" class=\"data row3 col4\" >-0.066197</td>\n",
       "                        <td id=\"T_11b8cf44_0520_11ed_8246_2016d8b42490row3_col5\" class=\"data row3 col5\" >-0.006181</td>\n",
       "                        <td id=\"T_11b8cf44_0520_11ed_8246_2016d8b42490row3_col6\" class=\"data row3 col6\" >0.069721</td>\n",
       "                        <td id=\"T_11b8cf44_0520_11ed_8246_2016d8b42490row3_col7\" class=\"data row3 col7\" >0.013344</td>\n",
       "            </tr>\n",
       "            <tr>\n",
       "                        <th id=\"T_11b8cf44_0520_11ed_8246_2016d8b42490level0_row4\" class=\"row_heading level0 row4\" >Population</th>\n",
       "                        <td id=\"T_11b8cf44_0520_11ed_8246_2016d8b42490row4_col0\" class=\"data row4 col0\" >0.004834</td>\n",
       "                        <td id=\"T_11b8cf44_0520_11ed_8246_2016d8b42490row4_col1\" class=\"data row4 col1\" >-0.296244</td>\n",
       "                        <td id=\"T_11b8cf44_0520_11ed_8246_2016d8b42490row4_col2\" class=\"data row4 col2\" >-0.072213</td>\n",
       "                        <td id=\"T_11b8cf44_0520_11ed_8246_2016d8b42490row4_col3\" class=\"data row4 col3\" >-0.066197</td>\n",
       "                        <td id=\"T_11b8cf44_0520_11ed_8246_2016d8b42490row4_col4\" class=\"data row4 col4\" >1.000000</td>\n",
       "                        <td id=\"T_11b8cf44_0520_11ed_8246_2016d8b42490row4_col5\" class=\"data row4 col5\" >0.069863</td>\n",
       "                        <td id=\"T_11b8cf44_0520_11ed_8246_2016d8b42490row4_col6\" class=\"data row4 col6\" >-0.108785</td>\n",
       "                        <td id=\"T_11b8cf44_0520_11ed_8246_2016d8b42490row4_col7\" class=\"data row4 col7\" >0.099773</td>\n",
       "            </tr>\n",
       "            <tr>\n",
       "                        <th id=\"T_11b8cf44_0520_11ed_8246_2016d8b42490level0_row5\" class=\"row_heading level0 row5\" >AveOccup</th>\n",
       "                        <td id=\"T_11b8cf44_0520_11ed_8246_2016d8b42490row5_col0\" class=\"data row5 col0\" >0.018766</td>\n",
       "                        <td id=\"T_11b8cf44_0520_11ed_8246_2016d8b42490row5_col1\" class=\"data row5 col1\" >0.013191</td>\n",
       "                        <td id=\"T_11b8cf44_0520_11ed_8246_2016d8b42490row5_col2\" class=\"data row5 col2\" >-0.004852</td>\n",
       "                        <td id=\"T_11b8cf44_0520_11ed_8246_2016d8b42490row5_col3\" class=\"data row5 col3\" >-0.006181</td>\n",
       "                        <td id=\"T_11b8cf44_0520_11ed_8246_2016d8b42490row5_col4\" class=\"data row5 col4\" >0.069863</td>\n",
       "                        <td id=\"T_11b8cf44_0520_11ed_8246_2016d8b42490row5_col5\" class=\"data row5 col5\" >1.000000</td>\n",
       "                        <td id=\"T_11b8cf44_0520_11ed_8246_2016d8b42490row5_col6\" class=\"data row5 col6\" >0.002366</td>\n",
       "                        <td id=\"T_11b8cf44_0520_11ed_8246_2016d8b42490row5_col7\" class=\"data row5 col7\" >0.002476</td>\n",
       "            </tr>\n",
       "            <tr>\n",
       "                        <th id=\"T_11b8cf44_0520_11ed_8246_2016d8b42490level0_row6\" class=\"row_heading level0 row6\" >Latitude</th>\n",
       "                        <td id=\"T_11b8cf44_0520_11ed_8246_2016d8b42490row6_col0\" class=\"data row6 col0\" >-0.079809</td>\n",
       "                        <td id=\"T_11b8cf44_0520_11ed_8246_2016d8b42490row6_col1\" class=\"data row6 col1\" >0.011173</td>\n",
       "                        <td id=\"T_11b8cf44_0520_11ed_8246_2016d8b42490row6_col2\" class=\"data row6 col2\" >0.106389</td>\n",
       "                        <td id=\"T_11b8cf44_0520_11ed_8246_2016d8b42490row6_col3\" class=\"data row6 col3\" >0.069721</td>\n",
       "                        <td id=\"T_11b8cf44_0520_11ed_8246_2016d8b42490row6_col4\" class=\"data row6 col4\" >-0.108785</td>\n",
       "                        <td id=\"T_11b8cf44_0520_11ed_8246_2016d8b42490row6_col5\" class=\"data row6 col5\" >0.002366</td>\n",
       "                        <td id=\"T_11b8cf44_0520_11ed_8246_2016d8b42490row6_col6\" class=\"data row6 col6\" >1.000000</td>\n",
       "                        <td id=\"T_11b8cf44_0520_11ed_8246_2016d8b42490row6_col7\" class=\"data row6 col7\" >-0.924664</td>\n",
       "            </tr>\n",
       "            <tr>\n",
       "                        <th id=\"T_11b8cf44_0520_11ed_8246_2016d8b42490level0_row7\" class=\"row_heading level0 row7\" >Longitude</th>\n",
       "                        <td id=\"T_11b8cf44_0520_11ed_8246_2016d8b42490row7_col0\" class=\"data row7 col0\" >-0.015176</td>\n",
       "                        <td id=\"T_11b8cf44_0520_11ed_8246_2016d8b42490row7_col1\" class=\"data row7 col1\" >-0.108197</td>\n",
       "                        <td id=\"T_11b8cf44_0520_11ed_8246_2016d8b42490row7_col2\" class=\"data row7 col2\" >-0.027540</td>\n",
       "                        <td id=\"T_11b8cf44_0520_11ed_8246_2016d8b42490row7_col3\" class=\"data row7 col3\" >0.013344</td>\n",
       "                        <td id=\"T_11b8cf44_0520_11ed_8246_2016d8b42490row7_col4\" class=\"data row7 col4\" >0.099773</td>\n",
       "                        <td id=\"T_11b8cf44_0520_11ed_8246_2016d8b42490row7_col5\" class=\"data row7 col5\" >0.002476</td>\n",
       "                        <td id=\"T_11b8cf44_0520_11ed_8246_2016d8b42490row7_col6\" class=\"data row7 col6\" >-0.924664</td>\n",
       "                        <td id=\"T_11b8cf44_0520_11ed_8246_2016d8b42490row7_col7\" class=\"data row7 col7\" >1.000000</td>\n",
       "            </tr>\n",
       "    </tbody></table>"
      ],
      "text/plain": [
       "<pandas.io.formats.style.Styler at 0x20f3673b700>"
      ]
     },
     "execution_count": 43,
     "metadata": {},
     "output_type": "execute_result"
    }
   ],
   "source": [
    "housing.corr().style.background_gradient(cmap='coolwarm')"
   ]
  },
  {
   "cell_type": "markdown",
   "metadata": {},
   "source": [
    "Сильно коррелированные друг с другом переменные дают модели одну и ту же информацию, поэтому, для анализа не нужно использовать их все. Иначе модель  окажется переобучена (overfit) и предвзята относительно одного отдельного признака.   \n",
    "В наших данных сильно скоррелированными признаками являются AveBedrms и AveRooms. Также сильную обратную корреляцию имеют Latitude и  Longitude. Удалим эти признаки и обучим модель без их участия."
   ]
  },
  {
   "cell_type": "code",
   "execution_count": 44,
   "metadata": {
    "scrolled": true
   },
   "outputs": [
    {
     "data": {
      "text/html": [
       "<div>\n",
       "<style scoped>\n",
       "    .dataframe tbody tr th:only-of-type {\n",
       "        vertical-align: middle;\n",
       "    }\n",
       "\n",
       "    .dataframe tbody tr th {\n",
       "        vertical-align: top;\n",
       "    }\n",
       "\n",
       "    .dataframe thead th {\n",
       "        text-align: right;\n",
       "    }\n",
       "</style>\n",
       "<table border=\"1\" class=\"dataframe\">\n",
       "  <thead>\n",
       "    <tr style=\"text-align: right;\">\n",
       "      <th></th>\n",
       "      <th>MedInc</th>\n",
       "      <th>HouseAge</th>\n",
       "      <th>AveRooms</th>\n",
       "      <th>Population</th>\n",
       "      <th>AveOccup</th>\n",
       "      <th>Longitude</th>\n",
       "    </tr>\n",
       "  </thead>\n",
       "  <tbody>\n",
       "    <tr>\n",
       "      <th>0</th>\n",
       "      <td>8.3252</td>\n",
       "      <td>41.0</td>\n",
       "      <td>6.984127</td>\n",
       "      <td>322.0</td>\n",
       "      <td>2.555556</td>\n",
       "      <td>-122.23</td>\n",
       "    </tr>\n",
       "    <tr>\n",
       "      <th>1</th>\n",
       "      <td>8.3014</td>\n",
       "      <td>21.0</td>\n",
       "      <td>6.238137</td>\n",
       "      <td>2401.0</td>\n",
       "      <td>2.109842</td>\n",
       "      <td>-122.22</td>\n",
       "    </tr>\n",
       "    <tr>\n",
       "      <th>2</th>\n",
       "      <td>7.2574</td>\n",
       "      <td>52.0</td>\n",
       "      <td>8.288136</td>\n",
       "      <td>496.0</td>\n",
       "      <td>2.802260</td>\n",
       "      <td>-122.24</td>\n",
       "    </tr>\n",
       "  </tbody>\n",
       "</table>\n",
       "</div>"
      ],
      "text/plain": [
       "   MedInc  HouseAge  AveRooms  Population  AveOccup  Longitude\n",
       "0  8.3252      41.0  6.984127       322.0  2.555556    -122.23\n",
       "1  8.3014      21.0  6.238137      2401.0  2.109842    -122.22\n",
       "2  7.2574      52.0  8.288136       496.0  2.802260    -122.24"
      ]
     },
     "execution_count": 44,
     "metadata": {},
     "output_type": "execute_result"
    }
   ],
   "source": [
    "housing_corr = housing.drop(['AveBedrms','Latitude'], axis=1)\n",
    "housing_corr.head(3)"
   ]
  },
  {
   "cell_type": "markdown",
   "metadata": {},
   "source": [
    "Обучим модель и получим метрики для измененых данных на обучающем множестве"
   ]
  },
  {
   "cell_type": "code",
   "execution_count": 45,
   "metadata": {},
   "outputs": [],
   "source": [
    "X2 = housing_corr"
   ]
  },
  {
   "cell_type": "code",
   "execution_count": 46,
   "metadata": {
    "scrolled": true
   },
   "outputs": [
    {
     "name": "stdout",
     "output_type": "stream",
     "text": [
      "RMSE_test =  0.8097659356275917\n",
      "R2_test =  0.5144861813486294\n"
     ]
    }
   ],
   "source": [
    "print('RMSE_test = ', get_RMSE_test(X2,y, random_seed=42, model=None))\n",
    "print('R2_test = ', get_R2_score_test(X2,y, random_seed=42, model=None))\n",
    "list_result_rmse.append(get_RMSE_test(X2,y, random_seed=42, model=None))\n",
    "list_result_r2.append(get_R2_score_test(X2,y, random_seed=42, model=None))"
   ]
  },
  {
   "cell_type": "markdown",
   "metadata": {},
   "source": [
    "И на тестовом множестве "
   ]
  },
  {
   "cell_type": "code",
   "execution_count": 47,
   "metadata": {},
   "outputs": [
    {
     "name": "stdout",
     "output_type": "stream",
     "text": [
      "RMSE_train =  0.8023610043918035\n",
      "R2_train =  0.5148020397466025\n"
     ]
    }
   ],
   "source": [
    "print('RMSE_train = ',get_RMSE_train(X2,y, random_seed=42, model=None))\n",
    "print('R2_train = ', get_R2_score_train(X2,y, random_seed=42, model=None))\n",
    "list_result_rmse.append(get_RMSE_train(X2,y, random_seed=42, model=None))\n",
    "list_result_r2.append(get_R2_score_train(X2,y, random_seed=42, model=None))"
   ]
  },
  {
   "cell_type": "markdown",
   "metadata": {},
   "source": [
    "Проверим признаки на выбросы"
   ]
  },
  {
   "cell_type": "code",
   "execution_count": 48,
   "metadata": {
    "scrolled": false
   },
   "outputs": [
    {
     "data": {
      "image/png": "[encoded data removed]",
      "text/plain": [
       "<Figure size 1296x720 with 4 Axes>"
      ]
     },
     "metadata": {
      "needs_background": "light"
     },
     "output_type": "display_data"
    }
   ],
   "source": [
    "fig, ax = plt.subplots(nrows=1, ncols=4, figsize=(18,10))\n",
    "ax[0].boxplot(X2['MedInc'])\n",
    "ax[0].set(ylabel='',xlabel='MedInc',)\n",
    "ax[1].boxplot(X2['HouseAge'])\n",
    "ax[1].set(ylabel='',xlabel='HouseAge',)\n",
    "ax[2].boxplot(X2['AveRooms'])\n",
    "ax[2].set(ylabel='',xlabel='AveRooms',)\n",
    "ax[3].boxplot(X2['Population'])\n",
    "ax[3].set(ylabel='',xlabel='Population',)\n",
    "fig.suptitle('Визуализация выбросов', fontsize=14, fontweight='bold')\n",
    "plt.show()"
   ]
  },
  {
   "cell_type": "markdown",
   "metadata": {},
   "source": [
    "Удалим выбросы с помощью определения стандартного отклонения"
   ]
  },
  {
   "cell_type": "code",
   "execution_count": 49,
   "metadata": {},
   "outputs": [
    {
     "name": "stdout",
     "output_type": "stream",
     "text": [
      "<class 'pandas.core.frame.DataFrame'>\n",
      "Int64Index: 19820 entries, 0 to 20639\n",
      "Data columns (total 7 columns):\n",
      " #   Column       Non-Null Count  Dtype  \n",
      "---  ------       --------------  -----  \n",
      " 0   MedInc       19820 non-null  float64\n",
      " 1   HouseAge     19820 non-null  float64\n",
      " 2   AveRooms     19820 non-null  float64\n",
      " 3   Population   19820 non-null  float64\n",
      " 4   AveOccup     19820 non-null  float64\n",
      " 5   Longitude    19820 non-null  float64\n",
      " 6   MedHouseVal  19820 non-null  float64\n",
      "dtypes: float64(7)\n",
      "memory usage: 1.2 MB\n"
     ]
    }
   ],
   "source": [
    "X3_outliers = X2[(np.abs(stats.zscore(X2)) < 3).all(axis=1)]\n",
    "X3_outliers = pd.concat([X3_outliers, y], axis=1, join='inner')\n",
    "X3_outliers.info()"
   ]
  },
  {
   "cell_type": "markdown",
   "metadata": {},
   "source": [
    "Подготовим данные для новой модели "
   ]
  },
  {
   "cell_type": "code",
   "execution_count": 50,
   "metadata": {},
   "outputs": [
    {
     "name": "stdout",
     "output_type": "stream",
     "text": [
      "<class 'pandas.core.frame.DataFrame'>\n",
      "Int64Index: 19820 entries, 0 to 20639\n",
      "Data columns (total 6 columns):\n",
      " #   Column      Non-Null Count  Dtype  \n",
      "---  ------      --------------  -----  \n",
      " 0   MedInc      19820 non-null  float64\n",
      " 1   HouseAge    19820 non-null  float64\n",
      " 2   AveRooms    19820 non-null  float64\n",
      " 3   Population  19820 non-null  float64\n",
      " 4   AveOccup    19820 non-null  float64\n",
      " 5   Longitude   19820 non-null  float64\n",
      "dtypes: float64(6)\n",
      "memory usage: 1.1 MB\n"
     ]
    }
   ],
   "source": [
    "X3 = X3_outliers.drop(['MedHouseVal'], axis=1)\n",
    "X3.info()"
   ]
  },
  {
   "cell_type": "code",
   "execution_count": 51,
   "metadata": {},
   "outputs": [],
   "source": [
    "y3 = X3_outliers['MedHouseVal']"
   ]
  },
  {
   "cell_type": "markdown",
   "metadata": {},
   "source": [
    "Получим метрики RMSE и R2 на тестовом множестве на данных с удаленными выбросами"
   ]
  },
  {
   "cell_type": "code",
   "execution_count": 52,
   "metadata": {},
   "outputs": [
    {
     "name": "stdout",
     "output_type": "stream",
     "text": [
      "RMSE_test =  0.7517204987941162\n",
      "R2_test =  0.5561049302015569\n"
     ]
    }
   ],
   "source": [
    "print('RMSE_test = ', get_RMSE_test(X3,y3, random_seed=42, model=None))\n",
    "print('R2_test = ', get_R2_score_test(X3,y3, random_seed=42, model=None))\n",
    "list_result_rmse.append(get_RMSE_test(X3,y3, random_seed=42, model=None))\n",
    "list_result_r2.append(get_R2_score_test(X3,y3, random_seed=42, model=None))"
   ]
  },
  {
   "cell_type": "markdown",
   "metadata": {},
   "source": [
    "Получим метрики RMSE и R2 на обучающем множестве на данных с удаленными выбросами"
   ]
  },
  {
   "cell_type": "code",
   "execution_count": 53,
   "metadata": {},
   "outputs": [
    {
     "name": "stdout",
     "output_type": "stream",
     "text": [
      "RMSE_train =  0.7436064850639136\n",
      "R2_train =  0.5434549534097028\n"
     ]
    }
   ],
   "source": [
    "print('RMSE_train = ',get_RMSE_train(X3,y3, random_seed=42, model=None))\n",
    "print('R2_train = ', get_R2_score_train(X3,y3, random_seed=42, model=None))\n",
    "list_result_rmse.append(get_RMSE_train(X3,y3, random_seed=42, model=None))\n",
    "list_result_r2.append(get_R2_score_train(X3,y3, random_seed=42, model=None))"
   ]
  },
  {
   "cell_type": "markdown",
   "metadata": {},
   "source": [
    "Изменим математически признаки MedInc и HouseAge возведением в квадрат"
   ]
  },
  {
   "cell_type": "code",
   "execution_count": 54,
   "metadata": {
    "scrolled": true
   },
   "outputs": [
    {
     "data": {
      "text/html": [
       "<div>\n",
       "<style scoped>\n",
       "    .dataframe tbody tr th:only-of-type {\n",
       "        vertical-align: middle;\n",
       "    }\n",
       "\n",
       "    .dataframe tbody tr th {\n",
       "        vertical-align: top;\n",
       "    }\n",
       "\n",
       "    .dataframe thead th {\n",
       "        text-align: right;\n",
       "    }\n",
       "</style>\n",
       "<table border=\"1\" class=\"dataframe\">\n",
       "  <thead>\n",
       "    <tr style=\"text-align: right;\">\n",
       "      <th></th>\n",
       "      <th>MedInc</th>\n",
       "      <th>HouseAge</th>\n",
       "      <th>AveRooms</th>\n",
       "      <th>Population</th>\n",
       "      <th>AveOccup</th>\n",
       "      <th>Longitude</th>\n",
       "    </tr>\n",
       "  </thead>\n",
       "  <tbody>\n",
       "    <tr>\n",
       "      <th>0</th>\n",
       "      <td>69.308955</td>\n",
       "      <td>1681.0</td>\n",
       "      <td>6.984127</td>\n",
       "      <td>322.0</td>\n",
       "      <td>2.555556</td>\n",
       "      <td>-122.23</td>\n",
       "    </tr>\n",
       "    <tr>\n",
       "      <th>1</th>\n",
       "      <td>68.913242</td>\n",
       "      <td>441.0</td>\n",
       "      <td>6.238137</td>\n",
       "      <td>2401.0</td>\n",
       "      <td>2.109842</td>\n",
       "      <td>-122.22</td>\n",
       "    </tr>\n",
       "    <tr>\n",
       "      <th>2</th>\n",
       "      <td>52.669855</td>\n",
       "      <td>2704.0</td>\n",
       "      <td>8.288136</td>\n",
       "      <td>496.0</td>\n",
       "      <td>2.802260</td>\n",
       "      <td>-122.24</td>\n",
       "    </tr>\n",
       "    <tr>\n",
       "      <th>3</th>\n",
       "      <td>31.844578</td>\n",
       "      <td>2704.0</td>\n",
       "      <td>5.817352</td>\n",
       "      <td>558.0</td>\n",
       "      <td>2.547945</td>\n",
       "      <td>-122.25</td>\n",
       "    </tr>\n",
       "    <tr>\n",
       "      <th>4</th>\n",
       "      <td>14.793254</td>\n",
       "      <td>2704.0</td>\n",
       "      <td>6.281853</td>\n",
       "      <td>565.0</td>\n",
       "      <td>2.181467</td>\n",
       "      <td>-122.25</td>\n",
       "    </tr>\n",
       "  </tbody>\n",
       "</table>\n",
       "</div>"
      ],
      "text/plain": [
       "      MedInc  HouseAge  AveRooms  Population  AveOccup  Longitude\n",
       "0  69.308955    1681.0  6.984127       322.0  2.555556    -122.23\n",
       "1  68.913242     441.0  6.238137      2401.0  2.109842    -122.22\n",
       "2  52.669855    2704.0  8.288136       496.0  2.802260    -122.24\n",
       "3  31.844578    2704.0  5.817352       558.0  2.547945    -122.25\n",
       "4  14.793254    2704.0  6.281853       565.0  2.181467    -122.25"
      ]
     },
     "execution_count": 54,
     "metadata": {},
     "output_type": "execute_result"
    }
   ],
   "source": [
    "X3[['MedInc', 'HouseAge']] = X3[['MedInc', 'HouseAge']].apply(lambda x: x**2)\n",
    "X3.head()"
   ]
  },
  {
   "cell_type": "code",
   "execution_count": 55,
   "metadata": {
    "scrolled": true
   },
   "outputs": [
    {
     "name": "stdout",
     "output_type": "stream",
     "text": [
      "<class 'pandas.core.frame.DataFrame'>\n",
      "Int64Index: 19820 entries, 0 to 20639\n",
      "Data columns (total 6 columns):\n",
      " #   Column      Non-Null Count  Dtype  \n",
      "---  ------      --------------  -----  \n",
      " 0   MedInc      19820 non-null  float64\n",
      " 1   HouseAge    19820 non-null  float64\n",
      " 2   AveRooms    19820 non-null  float64\n",
      " 3   Population  19820 non-null  float64\n",
      " 4   AveOccup    19820 non-null  float64\n",
      " 5   Longitude   19820 non-null  float64\n",
      "dtypes: float64(6)\n",
      "memory usage: 1.1 MB\n"
     ]
    }
   ],
   "source": [
    "X4 = pd.DataFrame(X3)\n",
    "X4.info()"
   ]
  },
  {
   "cell_type": "markdown",
   "metadata": {},
   "source": [
    "Получим метрики RMSE и R2 на тестовом  и обучающем множестве на данных с измененными признаками"
   ]
  },
  {
   "cell_type": "code",
   "execution_count": 56,
   "metadata": {},
   "outputs": [
    {
     "name": "stdout",
     "output_type": "stream",
     "text": [
      "RMSE_test =  0.7703697463381973\n",
      "R2_test =  0.5382321477824943\n",
      "RMSE_train =  0.7534832380621926\n",
      "R2_train =  0.5307800893298273\n"
     ]
    }
   ],
   "source": [
    "print('RMSE_test = ', get_RMSE_test(X4,y3, random_seed=42, model=None))\n",
    "print('R2_test = ', get_R2_score_test(X4,y3, random_seed=42, model=None))\n",
    "print('RMSE_train = ',get_RMSE_train(X4,y3, random_seed=42, model=None))\n",
    "print('R2_train = ', get_R2_score_train(X4,y3, random_seed=42, model=None))\n",
    "list_result_rmse.append(get_RMSE_test(X4,y3, random_seed=42, model=None))\n",
    "list_result_r2.append(get_R2_score_test(X4,y3, random_seed=42, model=None))\n",
    "list_result_rmse.append(get_RMSE_train(X4,y3, random_seed=42, model=None))\n",
    "list_result_r2.append(get_R2_score_train(X4,y3, random_seed=42, model=None))"
   ]
  },
  {
   "cell_type": "markdown",
   "metadata": {},
   "source": [
    "Создаем датафрейм с результами"
   ]
  },
  {
   "cell_type": "code",
   "execution_count": 57,
   "metadata": {},
   "outputs": [],
   "source": [
    "df_result = pd.DataFrame({\n",
    "    'Model': ['№1-Test', '№1-Train', '№2-Test', '№2-Train', '№3-Test', '№3-Train', '№4-Test', '№4-Train'], \n",
    "    'RMSE': list_result_rmse,\n",
    "    'R2': list_result_r2,\n",
    "    'Fetch':[california_housing.feature_names,california_housing.feature_names,\n",
    "             list(housing_corr.columns),list(housing_corr.columns),\n",
    "             list(housing_corr.columns + ' - remove_outliers'),list(housing_corr.columns + ' - remove_outliers'),\n",
    "             ['MedInc - squaring','HouseAge - squaring','AveRooms','Population','AveOccup','Longitude'],\n",
    "             ['MedInc - squaring','HouseAge - squaring','AveRooms','Population','AveOccup','Longitude']]\n",
    "                        })"
   ]
  },
  {
   "cell_type": "code",
   "execution_count": 58,
   "metadata": {},
   "outputs": [
    {
     "data": {
      "text/html": [
       "<div>\n",
       "<style scoped>\n",
       "    .dataframe tbody tr th:only-of-type {\n",
       "        vertical-align: middle;\n",
       "    }\n",
       "\n",
       "    .dataframe tbody tr th {\n",
       "        vertical-align: top;\n",
       "    }\n",
       "\n",
       "    .dataframe thead th {\n",
       "        text-align: right;\n",
       "    }\n",
       "</style>\n",
       "<table border=\"1\" class=\"dataframe\">\n",
       "  <thead>\n",
       "    <tr style=\"text-align: right;\">\n",
       "      <th></th>\n",
       "      <th>Model</th>\n",
       "      <th>RMSE</th>\n",
       "      <th>R2</th>\n",
       "      <th>Fetch</th>\n",
       "    </tr>\n",
       "  </thead>\n",
       "  <tbody>\n",
       "    <tr>\n",
       "      <th>0</th>\n",
       "      <td>№1-Test</td>\n",
       "      <td>0.745581</td>\n",
       "      <td>0.595770</td>\n",
       "      <td>[MedInc, HouseAge, AveRooms, AveBedrms, Population, AveOccup, Latitude, Longitude]</td>\n",
       "    </tr>\n",
       "    <tr>\n",
       "      <th>1</th>\n",
       "      <td>№1-Train</td>\n",
       "      <td>0.719676</td>\n",
       "      <td>0.609346</td>\n",
       "      <td>[MedInc, HouseAge, AveRooms, AveBedrms, Population, AveOccup, Latitude, Longitude]</td>\n",
       "    </tr>\n",
       "    <tr>\n",
       "      <th>2</th>\n",
       "      <td>№2-Test</td>\n",
       "      <td>0.809766</td>\n",
       "      <td>0.514486</td>\n",
       "      <td>[MedInc, HouseAge, AveRooms, Population, AveOccup, Longitude]</td>\n",
       "    </tr>\n",
       "    <tr>\n",
       "      <th>3</th>\n",
       "      <td>№2-Train</td>\n",
       "      <td>0.802361</td>\n",
       "      <td>0.514802</td>\n",
       "      <td>[MedInc, HouseAge, AveRooms, Population, AveOccup, Longitude]</td>\n",
       "    </tr>\n",
       "    <tr>\n",
       "      <th>4</th>\n",
       "      <td>№3-Test</td>\n",
       "      <td>0.751720</td>\n",
       "      <td>0.556105</td>\n",
       "      <td>[MedInc - remove_outliers, HouseAge - remove_outliers, AveRooms - remove_outliers, Population - remove_outliers, AveOccup - remove_outliers, Longitude - remove_outliers]</td>\n",
       "    </tr>\n",
       "    <tr>\n",
       "      <th>5</th>\n",
       "      <td>№3-Train</td>\n",
       "      <td>0.743606</td>\n",
       "      <td>0.543455</td>\n",
       "      <td>[MedInc - remove_outliers, HouseAge - remove_outliers, AveRooms - remove_outliers, Population - remove_outliers, AveOccup - remove_outliers, Longitude - remove_outliers]</td>\n",
       "    </tr>\n",
       "    <tr>\n",
       "      <th>6</th>\n",
       "      <td>№4-Test</td>\n",
       "      <td>0.770370</td>\n",
       "      <td>0.538232</td>\n",
       "      <td>[MedInc - squaring, HouseAge - squaring, AveRooms, Population, AveOccup, Longitude]</td>\n",
       "    </tr>\n",
       "    <tr>\n",
       "      <th>7</th>\n",
       "      <td>№4-Train</td>\n",
       "      <td>0.753483</td>\n",
       "      <td>0.530780</td>\n",
       "      <td>[MedInc - squaring, HouseAge - squaring, AveRooms, Population, AveOccup, Longitude]</td>\n",
       "    </tr>\n",
       "  </tbody>\n",
       "</table>\n",
       "</div>"
      ],
      "text/plain": [
       "      Model      RMSE        R2  \\\n",
       "0   №1-Test  0.745581  0.595770   \n",
       "1  №1-Train  0.719676  0.609346   \n",
       "2   №2-Test  0.809766  0.514486   \n",
       "3  №2-Train  0.802361  0.514802   \n",
       "4   №3-Test  0.751720  0.556105   \n",
       "5  №3-Train  0.743606  0.543455   \n",
       "6   №4-Test  0.770370  0.538232   \n",
       "7  №4-Train  0.753483  0.530780   \n",
       "\n",
       "                                                                                                                                                                       Fetch  \n",
       "0                                                                                         [MedInc, HouseAge, AveRooms, AveBedrms, Population, AveOccup, Latitude, Longitude]  \n",
       "1                                                                                         [MedInc, HouseAge, AveRooms, AveBedrms, Population, AveOccup, Latitude, Longitude]  \n",
       "2                                                                                                              [MedInc, HouseAge, AveRooms, Population, AveOccup, Longitude]  \n",
       "3                                                                                                              [MedInc, HouseAge, AveRooms, Population, AveOccup, Longitude]  \n",
       "4  [MedInc - remove_outliers, HouseAge - remove_outliers, AveRooms - remove_outliers, Population - remove_outliers, AveOccup - remove_outliers, Longitude - remove_outliers]  \n",
       "5  [MedInc - remove_outliers, HouseAge - remove_outliers, AveRooms - remove_outliers, Population - remove_outliers, AveOccup - remove_outliers, Longitude - remove_outliers]  \n",
       "6                                                                                        [MedInc - squaring, HouseAge - squaring, AveRooms, Population, AveOccup, Longitude]  \n",
       "7                                                                                        [MedInc - squaring, HouseAge - squaring, AveRooms, Population, AveOccup, Longitude]  "
      ]
     },
     "execution_count": 58,
     "metadata": {},
     "output_type": "execute_result"
    }
   ],
   "source": [
    "pd.set_option('display.max_colwidth', None)\n",
    "df_result"
   ]
  },
  {
   "cell_type": "markdown",
   "metadata": {},
   "source": [
    "#### Вывод: \n",
    "В данной работе было создано 4 модели линейной регрессии для выбранных данных.   \n",
    "1. Модель на первоначальных данных без каких либо преобразований   \n",
    "2. Модель на данных с удалением одного из сильно скоррелированых признаков. Данное преобразование дало улучшение метрик\n",
    "3. Модель на данных с удалением выбросов. Что дало ухудшение метрик от предыдущей модели\n",
    "4. Модель на данных с математическим преобразованием некоторых признаков. Что дало улучшение метрик от предыдущей модели"
   ]
  }
 ],
 "metadata": {
  "kernelspec": {
   "display_name": "Python 3",
   "language": "python",
   "name": "python3"
  },
  "language_info": {
   "codemirror_mode": {
    "name": "ipython",
    "version": 3
   },
   "file_extension": ".py",
   "mimetype": "text/x-python",
   "name": "python",
   "nbconvert_exporter": "python",
   "pygments_lexer": "ipython3",
   "version": "3.8.5"
  }
 },
 "nbformat": 4,
 "nbformat_minor": 4
}
