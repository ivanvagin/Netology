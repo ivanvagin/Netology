{
 "cells": [
  {
   "cell_type": "markdown",
   "metadata": {},
   "source": [
    "### Домашнее задание №1 - Линейная алгебра. Матрицы\n",
    "Задание 1.\n",
    "Создайте случайную матрицу А размерностью  на . Вычислить транспонированную матрицу  и найти обратную матрицу  Найдите определитель и ранг каждой полученной матрицы.\n"
   ]
  },
  {
   "cell_type": "code",
   "execution_count": 1,
   "metadata": {},
   "outputs": [],
   "source": [
    "import numpy as np"
   ]
  },
  {
   "cell_type": "code",
   "execution_count": 54,
   "metadata": {},
   "outputs": [
    {
     "name": "stdout",
     "output_type": "stream",
     "text": [
      "[[14 97 46 74 99]\n",
      " [82 34 73 74 61]\n",
      " [61 16  7 29 84]\n",
      " [76 16 71 59 36]\n",
      " [64 96 77 99 59]]\n",
      "70050825.00000001\n",
      "5\n"
     ]
    }
   ],
   "source": [
    "A1 = np.matrix(np.random.randint(100, size=(int(5), (int(5)))))\n",
    "print(A1)\n",
    "print(np.linalg.det(A1))\n",
    "print(np.linalg.matrix_rank(A1))"
   ]
  },
  {
   "cell_type": "code",
   "execution_count": 56,
   "metadata": {
    "scrolled": false
   },
   "outputs": [
    {
     "name": "stdout",
     "output_type": "stream",
     "text": [
      "[[14 82 61 76 64]\n",
      " [97 34 16 16 96]\n",
      " [46 73  7 71 77]\n",
      " [74 74 29 59 99]\n",
      " [99 61 84 36 59]]\n",
      "70050825.00000001\n",
      "5\n"
     ]
    }
   ],
   "source": [
    "A2 = np.transpose(A1)\n",
    "print(A2)\n",
    "print(np.linalg.det(A2))\n",
    "print(np.linalg.matrix_rank(A2))"
   ]
  },
  {
   "cell_type": "code",
   "execution_count": 57,
   "metadata": {},
   "outputs": [
    {
     "name": "stdout",
     "output_type": "stream",
     "text": [
      "[[-0.00772154 -0.08884906  0.0279986   0.0684371   0.02319673]\n",
      " [ 0.01224844 -0.16808347  0.03088526  0.12814768  0.03106472]\n",
      " [ 0.03126242 -0.14166073  0.00831622  0.14648851 -0.00721735]\n",
      " [-0.03978526  0.33495758 -0.05738248 -0.29084211 -0.02039369]\n",
      " [ 0.01440446 -0.00729782  0.00480714  0.01409495 -0.01512021]]\n",
      "1.4275349362409412e-08\n",
      "5\n"
     ]
    }
   ],
   "source": [
    "A3 = np.linalg.inv(A1)\n",
    "print(A3)\n",
    "print(np.linalg.det(A3))\n",
    "print(np.linalg.matrix_rank(A3))"
   ]
  },
  {
   "cell_type": "markdown",
   "metadata": {},
   "source": [
    "### Задание 2.\n",
    "Создайте диагональную матрицу, поэлементно перемножив единичную матрицу  I  и случайную матрицу  A размерности 6 на 6 Найдите определитель и ранг полученной матрицы."
   ]
  },
  {
   "cell_type": "code",
   "execution_count": 64,
   "metadata": {},
   "outputs": [
    {
     "data": {
      "text/plain": [
       "array([[0.85683924, 0.        , 0.        , 0.        , 0.        ,\n",
       "        0.        ],\n",
       "       [0.        , 0.876797  , 0.        , 0.        , 0.        ,\n",
       "        0.        ],\n",
       "       [0.        , 0.        , 0.83837386, 0.        , 0.        ,\n",
       "        0.        ],\n",
       "       [0.        , 0.        , 0.        , 0.04119307, 0.        ,\n",
       "        0.        ],\n",
       "       [0.        , 0.        , 0.        , 0.        , 0.449783  ,\n",
       "        0.        ],\n",
       "       [0.        , 0.        , 0.        , 0.        , 0.        ,\n",
       "        0.39036043]])"
      ]
     },
     "execution_count": 64,
     "metadata": {},
     "output_type": "execute_result"
    }
   ],
   "source": [
    "I = np.eye(6)\n",
    "A4 = np.random.random((6,6))\n",
    "A5 = I * A4\n",
    "A5"
   ]
  },
  {
   "cell_type": "code",
   "execution_count": 65,
   "metadata": {},
   "outputs": [
    {
     "name": "stdout",
     "output_type": "stream",
     "text": [
      "0.004555426975063046\n",
      "6\n"
     ]
    }
   ],
   "source": [
    "print(np.linalg.det(A5))\n",
    "print(np.linalg.matrix_rank(A5))"
   ]
  },
  {
   "cell_type": "markdown",
   "metadata": {},
   "source": [
    "### Задание 3.\n",
    "Далее давайте представим изображения в виде матриц и также определим их свойства. Для первых 10  цифр (от 0 до  9) из тестовой базы рукописных цифр (MNIST) определить какая из этих цифр имеет максимальный ранг?"
   ]
  },
  {
   "cell_type": "code",
   "execution_count": 66,
   "metadata": {},
   "outputs": [],
   "source": [
    "from sklearn.datasets import load_digits\n",
    "import matplotlib.pyplot as plt\n",
    "digits = load_digits()"
   ]
  },
  {
   "cell_type": "code",
   "execution_count": 78,
   "metadata": {},
   "outputs": [
    {
     "data": {
      "text/plain": [
       "<Figure size 432x288 with 0 Axes>"
      ]
     },
     "metadata": {},
     "output_type": "display_data"
    },
    {
     "data": {
      "image/png": "[encoded data removed]",
      "text/plain": [
       "<Figure size 288x288 with 1 Axes>"
      ]
     },
     "metadata": {
      "needs_background": "light"
     },
     "output_type": "display_data"
    }
   ],
   "source": [
    "plt.gray();\n",
    "plt.matshow(digits.images[7]);\n",
    "plt.show()"
   ]
  },
  {
   "cell_type": "code",
   "execution_count": 77,
   "metadata": {},
   "outputs": [
    {
     "name": "stdout",
     "output_type": "stream",
     "text": [
      "6\n",
      "5\n",
      "6\n",
      "6\n",
      "6\n",
      "5\n",
      "5\n",
      "7\n",
      "6\n",
      "6\n"
     ]
    }
   ],
   "source": [
    "matrix0 = digits.images[0]\n",
    "print(np.linalg.matrix_rank(matrix0))\n",
    "matrix1 = digits.images[1]\n",
    "print(np.linalg.matrix_rank(matrix1))\n",
    "matrix2 = digits.images[2]\n",
    "print(np.linalg.matrix_rank(matrix2))\n",
    "matrix3 = digits.images[3]\n",
    "print(np.linalg.matrix_rank(matrix3))\n",
    "matrix4 = digits.images[4]\n",
    "print(np.linalg.matrix_rank(matrix4))\n",
    "matrix5 = digits.images[5]\n",
    "print(np.linalg.matrix_rank(matrix5))\n",
    "matrix6 = digits.images[6]\n",
    "print(np.linalg.matrix_rank(matrix6))\n",
    "matrix7 = digits.images[7]\n",
    "print(np.linalg.matrix_rank(matrix7))\n",
    "matrix8 = digits.images[8]\n",
    "print(np.linalg.matrix_rank(matrix8))\n",
    "matrix9 = digits.images[9]\n",
    "print(np.linalg.matrix_rank(matrix9))"
   ]
  },
  {
   "cell_type": "markdown",
   "metadata": {},
   "source": [
    "### Задание 4.\n",
    "Для первых  цифр 10 (от 0   до 9) из тестовой базы рукописных цифр (MNIST) найдите все собственные числа. Для каких цифр все собственные значения не являются комплексными? \n",
    "### Ответ: 0, 2,6\n"
   ]
  },
  {
   "cell_type": "code",
   "execution_count": 81,
   "metadata": {},
   "outputs": [
    {
     "name": "stdout",
     "output_type": "stream",
     "text": [
      "[  0.           0.          38.87795499  -3.63459035  -0.73101\n",
      "   3.91352574   2.68851616 -14.11439655]\n",
      "[ 0.        +0.j          0.        +0.j          0.        +0.j\n",
      " 43.90876882+0.j         -2.81320584+5.92806111j -2.81320584-5.92806111j\n",
      "  1.35882143+0.32955102j  1.35882143-0.32955102j]\n",
      "[  0.           0.           5.          39.6980372  -18.4455357\n",
      "  -4.77732707   8.20786562   4.31695994]\n",
      "[ 0.        +0.j          0.        +0.j         26.78722854+0.j\n",
      " -4.6394655 +0.j          0.69927242+0.j         11.54360992+6.68082411j\n",
      " 11.54360992-6.68082411j  9.0657447 +0.j        ]\n",
      "[  0.        +0.j           0.        +0.j\n",
      "  42.31646853+0.j         -16.51428562+0.j\n",
      "   2.74751936+8.20271632j   2.74751936-8.20271632j\n",
      "  -1.03051134+0.j           1.73328971+0.j        ]\n",
      "[ 0.        +0.j          0.        +0.j          0.        +0.j\n",
      " 37.46865411+0.j         19.99538181+0.j         -2.16232674+0.79050023j\n",
      " -2.16232674-0.79050023j  2.86061757+0.j        ]\n",
      "[ 0.          0.          0.         30.23327329 20.52704925 -2.74115196\n",
      "  5.8593327   3.12149672]\n",
      "[  0.        +0.j           0.        +0.j\n",
      "  38.91161854+0.j         -13.97150918+0.j\n",
      "   6.08033452+0.j          -1.23858742+6.12713731j\n",
      "  -1.23858742-6.12713731j  -5.54326904+0.j        ]\n",
      "[ 0.        +0.j          0.        +0.j         44.56329631+0.j\n",
      " 18.3859097 +0.j         -1.71753054+6.38032702j -1.71753054-6.38032702j\n",
      "  4.59692012+0.j         -2.11106505+0.j        ]\n",
      "[  0.        +0.j           0.        +0.j\n",
      "  40.5091891 +0.j          16.66230149+0.j\n",
      " -12.29208882+0.j          -3.97807147+0.j\n",
      "   0.04933485+4.15644444j   0.04933485-4.15644444j]\n"
     ]
    }
   ],
   "source": [
    "print(np.linalg.eigvals(matrix0))\n",
    "print(np.linalg.eigvals(matrix1))\n",
    "print(np.linalg.eigvals(matrix2))\n",
    "print(np.linalg.eigvals(matrix3))\n",
    "print(np.linalg.eigvals(matrix4))\n",
    "print(np.linalg.eigvals(matrix5))\n",
    "print(np.linalg.eigvals(matrix6))\n",
    "print(np.linalg.eigvals(matrix7))\n",
    "print(np.linalg.eigvals(matrix8))\n",
    "print(np.linalg.eigvals(matrix9))"
   ]
  }
 ],
 "metadata": {
  "kernelspec": {
   "display_name": "Python 3",
   "language": "python",
   "name": "python3"
  },
  "language_info": {
   "codemirror_mode": {
    "name": "ipython",
    "version": 3
   },
   "file_extension": ".py",
   "mimetype": "text/x-python",
   "name": "python",
   "nbconvert_exporter": "python",
   "pygments_lexer": "ipython3",
   "version": "3.8.5"
  }
 },
 "nbformat": 4,
 "nbformat_minor": 4
}
