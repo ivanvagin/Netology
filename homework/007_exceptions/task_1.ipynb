{
 "cells": [
  {
   "cell_type": "markdown",
   "metadata": {},
   "source": [
    "### Задание 1\n",
    "Печатные газеты использовали свой формат дат для каждого выпуска. Для каждой газеты из списка напишите формат указанной даты для перевода в объект datetime:\n",
    "The Moscow Times - Wednesday, October 2, 2002\n",
    "The Guardian - Friday, 11.10.13\n",
    "Daily News - Thursday, 18 August 1977"
   ]
  },
  {
   "cell_type": "code",
   "execution_count": 15,
   "metadata": {},
   "outputs": [
    {
     "name": "stdout",
     "output_type": "stream",
     "text": [
      "2002-10-02 00:00:00\n",
      "2013-10-11 00:00:00\n",
      "1977-08-18 00:00:00\n"
     ]
    }
   ],
   "source": [
    "from datetime import datetime\n",
    "\n",
    "mosco_times = str('Wednesday, October 2, 2002')\n",
    "guardian = str('Friday, 11.10.13')\n",
    "daily_news = str('Thursday, 18 August 1977')\n",
    "\n",
    "mosco_times_dt = datetime.strptime(mosco_times, '%A, %B %d, %Y')\n",
    "print(mosco_times_dt)  \n",
    "guardian_dt = datetime.strptime(guardian, '%A, %d.%m.%y')\n",
    "print(guardian_dt)\n",
    "daily_news_dt = datetime.strptime(daily_news, '%A, %d %B %Y')\n",
    "print(daily_news_dt)"
   ]
  },
  {
   "cell_type": "code",
   "execution_count": 16,
   "metadata": {},
   "outputs": [
    {
     "name": "stdout",
     "output_type": "stream",
     "text": [
      "Wednesday, October 02, 2002\n",
      "Friday, 11.10.13\n",
      "Thursday, 18 August 1977\n"
     ]
    }
   ],
   "source": [
    "print(mosco_times_dt.strftime('%A, %B %d, %Y'))\n",
    "print(guardian_dt.strftime('%A, %d.%m.%y'))\n",
    "print(daily_news_dt.strftime('%A, %d %B %Y'))"
   ]
  }
 ],
 "metadata": {
  "kernelspec": {
   "display_name": "Python 3",
   "language": "python",
   "name": "python3"
  },
  "language_info": {
   "codemirror_mode": {
    "name": "ipython",
    "version": 3
   },
   "file_extension": ".py",
   "mimetype": "text/x-python",
   "name": "python",
   "nbconvert_exporter": "python",
   "pygments_lexer": "ipython3",
   "version": "3.8.5"
  }
 },
 "nbformat": 4,
 "nbformat_minor": 4
}
