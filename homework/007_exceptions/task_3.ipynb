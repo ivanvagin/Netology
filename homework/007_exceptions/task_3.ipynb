{
 "cells": [
  {
   "cell_type": "markdown",
   "metadata": {},
   "source": [
    "### Задание 3\n",
    "Напишите функцию date_range, которая возвращает список дат за период от start_date до end_date. Даты должны вводиться в формате YYYY-MM-DD. В случае неверного формата или при start_date > end_date должен возвращаться пустой список."
   ]
  },
  {
   "cell_type": "code",
   "execution_count": 155,
   "metadata": {},
   "outputs": [
    {
     "name": "stdout",
     "output_type": "stream",
     "text": [
      "2018-01-01\n",
      "2018-01-05\n"
     ]
    },
    {
     "data": {
      "text/plain": [
       "['2018-01-01', '2018-01-02', '2018-01-03', '2018-01-04', '2018-01-05']"
      ]
     },
     "execution_count": 155,
     "metadata": {},
     "output_type": "execute_result"
    }
   ],
   "source": [
    "from datetime import datetime\n",
    "from datetime import timedelta\n",
    "\n",
    "input_start_date = input('')\n",
    "input_end_date = input('')\n",
    "    \n",
    "def date_range():\n",
    "    list_date = []\n",
    "    list_empty = []\n",
    "    try:\n",
    "        x = abs(datetime.strptime(input_end_date, '%Y-%m-%d') - datetime.strptime(input_start_date, '%Y-%m-%d')).days #Считаем кол-во дней в диапазоне указанных дат \n",
    "        d = datetime.strptime(input_start_date, '%Y-%m-%d') # Присваиваем переменной начальную дату для добавления потом в список\n",
    "        for i in range(x + 1): # +1 чтобы выводилаcь end_date тоже\n",
    "            if datetime.strptime(input_start_date, '%Y-%m-%d') and datetime.strptime(input_end_date, '%Y-%m-%d') and datetime.strptime(input_start_date, '%Y-%m-%d') < datetime.strptime(input_end_date, '%Y-%m-%d'):\n",
    "                list_date.append(datetime.strftime(d, '%Y-%m-%d'))\n",
    "                d += timedelta(days=1)\n",
    "            else:\n",
    "                return(list_empty)\n",
    "        return(list_date)\n",
    "    except ValueError:\n",
    "        return(list_empty) \n",
    "\n",
    "\n",
    "date_range()"
   ]
  }
 ],
 "metadata": {
  "kernelspec": {
   "display_name": "Python 3",
   "language": "python",
   "name": "python3"
  },
  "language_info": {
   "codemirror_mode": {
    "name": "ipython",
    "version": 3
   },
   "file_extension": ".py",
   "mimetype": "text/x-python",
   "name": "python",
   "nbconvert_exporter": "python",
   "pygments_lexer": "ipython3",
   "version": "3.8.5"
  }
 },
 "nbformat": 4,
 "nbformat_minor": 4
}
