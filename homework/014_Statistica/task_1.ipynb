{
 "cells": [
  {
   "cell_type": "markdown",
   "metadata": {},
   "source": [
    "### Задание 1. Загрузка данных\n",
    "Изучить представленный набор данных на основе описания его столбцов, загрузить его и оставить 8 столбцов для дальнейшего изучения: \n",
    "\n",
    "surgery, Age, rectal temperature, pulse, respiratory rate, temperature of extremities, pain, outcome."
   ]
  },
  {
   "cell_type": "code",
   "execution_count": 770,
   "metadata": {},
   "outputs": [],
   "source": [
    "import pandas as pd\n",
    "import seaborn as sea\n",
    "import numpy as np\n",
    "import matplotlib.pyplot as plt"
   ]
  },
  {
   "cell_type": "code",
   "execution_count": 645,
   "metadata": {
    "scrolled": false
   },
   "outputs": [
    {
     "data": {
      "text/html": [
       "<div>\n",
       "<style scoped>\n",
       "    .dataframe tbody tr th:only-of-type {\n",
       "        vertical-align: middle;\n",
       "    }\n",
       "\n",
       "    .dataframe tbody tr th {\n",
       "        vertical-align: top;\n",
       "    }\n",
       "\n",
       "    .dataframe thead th {\n",
       "        text-align: right;\n",
       "    }\n",
       "</style>\n",
       "<table border=\"1\" class=\"dataframe\">\n",
       "  <thead>\n",
       "    <tr style=\"text-align: right;\">\n",
       "      <th></th>\n",
       "      <th>2</th>\n",
       "      <th>1</th>\n",
       "      <th>530101</th>\n",
       "      <th>38.50</th>\n",
       "      <th>66</th>\n",
       "      <th>28</th>\n",
       "      <th>3</th>\n",
       "      <th>3.1</th>\n",
       "      <th>?</th>\n",
       "      <th>2.1</th>\n",
       "      <th>...</th>\n",
       "      <th>45.00</th>\n",
       "      <th>8.40</th>\n",
       "      <th>?.4</th>\n",
       "      <th>?.5</th>\n",
       "      <th>2.2</th>\n",
       "      <th>2.3</th>\n",
       "      <th>11300</th>\n",
       "      <th>00000</th>\n",
       "      <th>00000.1</th>\n",
       "      <th>2.4</th>\n",
       "    </tr>\n",
       "  </thead>\n",
       "  <tbody>\n",
       "    <tr>\n",
       "      <th>0</th>\n",
       "      <td>1.0</td>\n",
       "      <td>1</td>\n",
       "      <td>534817</td>\n",
       "      <td>39.2</td>\n",
       "      <td>88.0</td>\n",
       "      <td>20.0</td>\n",
       "      <td>NaN</td>\n",
       "      <td>NaN</td>\n",
       "      <td>4.0</td>\n",
       "      <td>1.0</td>\n",
       "      <td>...</td>\n",
       "      <td>50.0</td>\n",
       "      <td>85.0</td>\n",
       "      <td>2.0</td>\n",
       "      <td>2.0</td>\n",
       "      <td>3.0</td>\n",
       "      <td>2</td>\n",
       "      <td>2208</td>\n",
       "      <td>0</td>\n",
       "      <td>0</td>\n",
       "      <td>2</td>\n",
       "    </tr>\n",
       "    <tr>\n",
       "      <th>1</th>\n",
       "      <td>2.0</td>\n",
       "      <td>1</td>\n",
       "      <td>530334</td>\n",
       "      <td>38.3</td>\n",
       "      <td>40.0</td>\n",
       "      <td>24.0</td>\n",
       "      <td>1.0</td>\n",
       "      <td>1.0</td>\n",
       "      <td>3.0</td>\n",
       "      <td>1.0</td>\n",
       "      <td>...</td>\n",
       "      <td>33.0</td>\n",
       "      <td>6.7</td>\n",
       "      <td>NaN</td>\n",
       "      <td>NaN</td>\n",
       "      <td>1.0</td>\n",
       "      <td>2</td>\n",
       "      <td>0</td>\n",
       "      <td>0</td>\n",
       "      <td>0</td>\n",
       "      <td>1</td>\n",
       "    </tr>\n",
       "    <tr>\n",
       "      <th>2</th>\n",
       "      <td>1.0</td>\n",
       "      <td>9</td>\n",
       "      <td>5290409</td>\n",
       "      <td>39.1</td>\n",
       "      <td>164.0</td>\n",
       "      <td>84.0</td>\n",
       "      <td>4.0</td>\n",
       "      <td>1.0</td>\n",
       "      <td>6.0</td>\n",
       "      <td>2.0</td>\n",
       "      <td>...</td>\n",
       "      <td>48.0</td>\n",
       "      <td>7.2</td>\n",
       "      <td>3.0</td>\n",
       "      <td>5.3</td>\n",
       "      <td>2.0</td>\n",
       "      <td>1</td>\n",
       "      <td>2208</td>\n",
       "      <td>0</td>\n",
       "      <td>0</td>\n",
       "      <td>1</td>\n",
       "    </tr>\n",
       "    <tr>\n",
       "      <th>3</th>\n",
       "      <td>2.0</td>\n",
       "      <td>1</td>\n",
       "      <td>530255</td>\n",
       "      <td>37.3</td>\n",
       "      <td>104.0</td>\n",
       "      <td>35.0</td>\n",
       "      <td>NaN</td>\n",
       "      <td>NaN</td>\n",
       "      <td>6.0</td>\n",
       "      <td>2.0</td>\n",
       "      <td>...</td>\n",
       "      <td>74.0</td>\n",
       "      <td>7.4</td>\n",
       "      <td>NaN</td>\n",
       "      <td>NaN</td>\n",
       "      <td>2.0</td>\n",
       "      <td>2</td>\n",
       "      <td>4300</td>\n",
       "      <td>0</td>\n",
       "      <td>0</td>\n",
       "      <td>2</td>\n",
       "    </tr>\n",
       "    <tr>\n",
       "      <th>4</th>\n",
       "      <td>2.0</td>\n",
       "      <td>1</td>\n",
       "      <td>528355</td>\n",
       "      <td>NaN</td>\n",
       "      <td>NaN</td>\n",
       "      <td>NaN</td>\n",
       "      <td>2.0</td>\n",
       "      <td>1.0</td>\n",
       "      <td>3.0</td>\n",
       "      <td>1.0</td>\n",
       "      <td>...</td>\n",
       "      <td>NaN</td>\n",
       "      <td>NaN</td>\n",
       "      <td>NaN</td>\n",
       "      <td>NaN</td>\n",
       "      <td>1.0</td>\n",
       "      <td>2</td>\n",
       "      <td>0</td>\n",
       "      <td>0</td>\n",
       "      <td>0</td>\n",
       "      <td>2</td>\n",
       "    </tr>\n",
       "  </tbody>\n",
       "</table>\n",
       "<p>5 rows × 28 columns</p>\n",
       "</div>"
      ],
      "text/plain": [
       "     2  1   530101  38.50     66    28    3  3.1    ?  2.1  ...  45.00  8.40  \\\n",
       "0  1.0  1   534817   39.2   88.0  20.0  NaN  NaN  4.0  1.0  ...   50.0  85.0   \n",
       "1  2.0  1   530334   38.3   40.0  24.0  1.0  1.0  3.0  1.0  ...   33.0   6.7   \n",
       "2  1.0  9  5290409   39.1  164.0  84.0  4.0  1.0  6.0  2.0  ...   48.0   7.2   \n",
       "3  2.0  1   530255   37.3  104.0  35.0  NaN  NaN  6.0  2.0  ...   74.0   7.4   \n",
       "4  2.0  1   528355    NaN    NaN   NaN  2.0  1.0  3.0  1.0  ...    NaN   NaN   \n",
       "\n",
       "   ?.4  ?.5  2.2  2.3  11300  00000  00000.1  2.4  \n",
       "0  2.0  2.0  3.0    2   2208      0        0    2  \n",
       "1  NaN  NaN  1.0    2      0      0        0    1  \n",
       "2  3.0  5.3  2.0    1   2208      0        0    1  \n",
       "3  NaN  NaN  2.0    2   4300      0        0    2  \n",
       "4  NaN  NaN  1.0    2      0      0        0    2  \n",
       "\n",
       "[5 rows x 28 columns]"
      ]
     },
     "execution_count": 645,
     "metadata": {},
     "output_type": "execute_result"
    }
   ],
   "source": [
    "total_horse_data = pd.read_csv('horse_data.csv', na_values='?')\n",
    "total_horse_data.head()"
   ]
  },
  {
   "cell_type": "code",
   "execution_count": 547,
   "metadata": {},
   "outputs": [
    {
     "name": "stdout",
     "output_type": "stream",
     "text": [
      "<class 'pandas.core.frame.DataFrame'>\n",
      "RangeIndex: 299 entries, 0 to 298\n",
      "Data columns (total 8 columns):\n",
      " #   Column                      Non-Null Count  Dtype  \n",
      "---  ------                      --------------  -----  \n",
      " 0   Surgery                     298 non-null    object \n",
      " 1   Age                         299 non-null    object \n",
      " 2   Rectal temperature          239 non-null    float64\n",
      " 3   Pulse                       275 non-null    float64\n",
      " 4   Respiratory rate            241 non-null    float64\n",
      " 5   Temperature of extremities  243 non-null    object \n",
      " 6   Pain                        244 non-null    object \n",
      " 7   Outcome                     298 non-null    object \n",
      "dtypes: float64(3), object(5)\n",
      "memory usage: 18.8+ KB\n"
     ]
    }
   ],
   "source": [
    "df1.info()"
   ]
  },
  {
   "cell_type": "markdown",
   "metadata": {},
   "source": [
    "### Задание 2. Первичное изучение данных¶\n",
    "Проанализировать значения по столбцам, рассчитать базовые статистики, найти выбросы."
   ]
  },
  {
   "cell_type": "code",
   "execution_count": 978,
   "metadata": {},
   "outputs": [
    {
     "data": {
      "text/html": [
       "<div>\n",
       "<style scoped>\n",
       "    .dataframe tbody tr th:only-of-type {\n",
       "        vertical-align: middle;\n",
       "    }\n",
       "\n",
       "    .dataframe tbody tr th {\n",
       "        vertical-align: top;\n",
       "    }\n",
       "\n",
       "    .dataframe thead th {\n",
       "        text-align: right;\n",
       "    }\n",
       "</style>\n",
       "<table border=\"1\" class=\"dataframe\">\n",
       "  <thead>\n",
       "    <tr style=\"text-align: right;\">\n",
       "      <th></th>\n",
       "      <th>Surgery</th>\n",
       "      <th>Age</th>\n",
       "      <th>Rectal temperature</th>\n",
       "      <th>Pulse</th>\n",
       "      <th>Respiratory rate</th>\n",
       "      <th>Temperature of extremities</th>\n",
       "      <th>Pain</th>\n",
       "      <th>Outcome</th>\n",
       "    </tr>\n",
       "  </thead>\n",
       "  <tbody>\n",
       "    <tr>\n",
       "      <th>294</th>\n",
       "      <td>Yes</td>\n",
       "      <td>Adult</td>\n",
       "      <td>NaN</td>\n",
       "      <td>120.0</td>\n",
       "      <td>70.0</td>\n",
       "      <td>Cold</td>\n",
       "      <td>Depressed</td>\n",
       "      <td>Euthenized</td>\n",
       "    </tr>\n",
       "    <tr>\n",
       "      <th>0</th>\n",
       "      <td>Yes</td>\n",
       "      <td>Adult</td>\n",
       "      <td>39.2</td>\n",
       "      <td>88.0</td>\n",
       "      <td>20.0</td>\n",
       "      <td>NaN</td>\n",
       "      <td>Mild pain</td>\n",
       "      <td>Euthenized</td>\n",
       "    </tr>\n",
       "    <tr>\n",
       "      <th>101</th>\n",
       "      <td>No</td>\n",
       "      <td>Adult</td>\n",
       "      <td>38.3</td>\n",
       "      <td>40.0</td>\n",
       "      <td>16.0</td>\n",
       "      <td>Coll</td>\n",
       "      <td>Depressed</td>\n",
       "      <td>Lived</td>\n",
       "    </tr>\n",
       "    <tr>\n",
       "      <th>279</th>\n",
       "      <td>Yes</td>\n",
       "      <td>Adult</td>\n",
       "      <td>38.6</td>\n",
       "      <td>48.0</td>\n",
       "      <td>12.0</td>\n",
       "      <td>NaN</td>\n",
       "      <td>No Pain</td>\n",
       "      <td>Lived</td>\n",
       "    </tr>\n",
       "    <tr>\n",
       "      <th>107</th>\n",
       "      <td>Yes</td>\n",
       "      <td>Adult</td>\n",
       "      <td>38.7</td>\n",
       "      <td>60.0</td>\n",
       "      <td>32.0</td>\n",
       "      <td>Cold</td>\n",
       "      <td>Severe Pain</td>\n",
       "      <td>Euthenized</td>\n",
       "    </tr>\n",
       "    <tr>\n",
       "      <th>32</th>\n",
       "      <td>Yes</td>\n",
       "      <td>Adult</td>\n",
       "      <td>38.2</td>\n",
       "      <td>64.0</td>\n",
       "      <td>28.0</td>\n",
       "      <td>Normal</td>\n",
       "      <td>Mild pain</td>\n",
       "      <td>Lived</td>\n",
       "    </tr>\n",
       "    <tr>\n",
       "      <th>71</th>\n",
       "      <td>Yes</td>\n",
       "      <td>Adult</td>\n",
       "      <td>37.7</td>\n",
       "      <td>56.0</td>\n",
       "      <td>NaN</td>\n",
       "      <td>NaN</td>\n",
       "      <td>NaN</td>\n",
       "      <td>Died</td>\n",
       "    </tr>\n",
       "    <tr>\n",
       "      <th>7</th>\n",
       "      <td>No</td>\n",
       "      <td>Adult</td>\n",
       "      <td>NaN</td>\n",
       "      <td>80.0</td>\n",
       "      <td>36.0</td>\n",
       "      <td>Coll</td>\n",
       "      <td>Severe Pain</td>\n",
       "      <td>Euthenized</td>\n",
       "    </tr>\n",
       "    <tr>\n",
       "      <th>57</th>\n",
       "      <td>Yes</td>\n",
       "      <td>Adult</td>\n",
       "      <td>NaN</td>\n",
       "      <td>NaN</td>\n",
       "      <td>20.0</td>\n",
       "      <td>Cold</td>\n",
       "      <td>Greaterthansevere</td>\n",
       "      <td>Died</td>\n",
       "    </tr>\n",
       "    <tr>\n",
       "      <th>62</th>\n",
       "      <td>No</td>\n",
       "      <td>Adult</td>\n",
       "      <td>38.2</td>\n",
       "      <td>130.0</td>\n",
       "      <td>16.0</td>\n",
       "      <td>Cold</td>\n",
       "      <td>Depressed</td>\n",
       "      <td>Euthenized</td>\n",
       "    </tr>\n",
       "  </tbody>\n",
       "</table>\n",
       "</div>"
      ],
      "text/plain": [
       "    Surgery    Age  Rectal temperature  Pulse  Respiratory rate  \\\n",
       "294     Yes  Adult                 NaN  120.0              70.0   \n",
       "0       Yes  Adult                39.2   88.0              20.0   \n",
       "101      No  Adult                38.3   40.0              16.0   \n",
       "279     Yes  Adult                38.6   48.0              12.0   \n",
       "107     Yes  Adult                38.7   60.0              32.0   \n",
       "32      Yes  Adult                38.2   64.0              28.0   \n",
       "71      Yes  Adult                37.7   56.0               NaN   \n",
       "7        No  Adult                 NaN   80.0              36.0   \n",
       "57      Yes  Adult                 NaN    NaN              20.0   \n",
       "62       No  Adult                38.2  130.0              16.0   \n",
       "\n",
       "    Temperature of extremities               Pain     Outcome  \n",
       "294                       Cold          Depressed  Euthenized  \n",
       "0                          NaN          Mild pain  Euthenized  \n",
       "101                       Coll          Depressed       Lived  \n",
       "279                        NaN            No Pain       Lived  \n",
       "107                       Cold        Severe Pain  Euthenized  \n",
       "32                      Normal          Mild pain       Lived  \n",
       "71                         NaN                NaN        Died  \n",
       "7                         Coll        Severe Pain  Euthenized  \n",
       "57                        Cold  Greaterthansevere        Died  \n",
       "62                        Cold          Depressed  Euthenized  "
      ]
     },
     "execution_count": 978,
     "metadata": {},
     "output_type": "execute_result"
    }
   ],
   "source": [
    "# В DataFrame сохраняем нужные столбцы\n",
    "df1 = total_horse_data.iloc[:,[0,1,3,4,5,6,10,22]] \n",
    "\n",
    "# Меняем заголовки столбцов на нужные нам для удобства восптриятия\n",
    "df1.set_axis(['Surgery', 'Age', 'Rectal temperature', 'Pulse', 'Respiratory rate', 'Temperature of extremities', 'Pain', 'Outcome'], axis=1, inplace=True)\n",
    "\n",
    "df1.loc[:, 'Age'].replace(9, 2, inplace=True) #Замена 9 на 2 -  вероятно ошибка ввода.По описательной части значение 1 или 2 \n",
    "\n",
    "# Меняем числовые значения на категории в номинальных столбцах\n",
    "df1['Outcome'].replace({1:'Lived', 2:'Died', 3:'Euthenized'}, inplace = True)\n",
    "df1['Age'].replace({1:'Adult', 2:'Young'}, inplace = True)\n",
    "df1['Surgery'].replace({1.0:'Yes', 2.0:'No'}, inplace = True)\n",
    "df1['Temperature of extremities'].replace({1.0:'Normal', 2.0:'Warm', 3.0:'Coll', 4.0:'Cold'}, inplace = True)\n",
    "df1['Pain'].replace({1:'No Pain', 2:'Depressed', 3:'Mild pain', 4:'Severe Pain', 5:'Greaterthansevere'}, inplace = True)\n",
    "\n",
    "df1.sample(10)"
   ]
  },
  {
   "cell_type": "code",
   "execution_count": 979,
   "metadata": {
    "scrolled": true
   },
   "outputs": [
    {
     "name": "stdout",
     "output_type": "stream",
     "text": [
      "Average 38.17\n",
      "Median 38.2\n",
      "Moda =  0    38.0\n",
      "dtype: float64\n",
      "Min 35.4\n",
      "Max 40.8\n",
      "Размах 5.4\n"
     ]
    }
   ],
   "source": [
    "# Расчитываем базовые  по температуре \n",
    "print('Average', round(df['Rectal temperature'].mean(),2))\n",
    "print('Median', df['Rectal temperature'].median())\n",
    "print('Moda = ', df['Rectal temperature'].mode())\n",
    "print('Min', df['Rectal temperature'].min())\n",
    "print('Max', df['Rectal temperature'].max())\n",
    "print('Размах', round(df['Rectal temperature'].max() - df['Rectal temperature'].min(),2) )"
   ]
  },
  {
   "cell_type": "code",
   "execution_count": 980,
   "metadata": {},
   "outputs": [
    {
     "data": {
      "text/html": [
       "<div>\n",
       "<style scoped>\n",
       "    .dataframe tbody tr th:only-of-type {\n",
       "        vertical-align: middle;\n",
       "    }\n",
       "\n",
       "    .dataframe tbody tr th {\n",
       "        vertical-align: top;\n",
       "    }\n",
       "\n",
       "    .dataframe thead th {\n",
       "        text-align: right;\n",
       "    }\n",
       "</style>\n",
       "<table border=\"1\" class=\"dataframe\">\n",
       "  <thead>\n",
       "    <tr style=\"text-align: right;\">\n",
       "      <th></th>\n",
       "      <th>Rectal temperature</th>\n",
       "      <th>Pulse</th>\n",
       "      <th>Respiratory rate</th>\n",
       "    </tr>\n",
       "  </thead>\n",
       "  <tbody>\n",
       "    <tr>\n",
       "      <th>count</th>\n",
       "      <td>239.000000</td>\n",
       "      <td>275.000000</td>\n",
       "      <td>241.000000</td>\n",
       "    </tr>\n",
       "    <tr>\n",
       "      <th>mean</th>\n",
       "      <td>38.166527</td>\n",
       "      <td>71.934545</td>\n",
       "      <td>30.427386</td>\n",
       "    </tr>\n",
       "    <tr>\n",
       "      <th>std</th>\n",
       "      <td>0.733508</td>\n",
       "      <td>28.680522</td>\n",
       "      <td>17.678256</td>\n",
       "    </tr>\n",
       "    <tr>\n",
       "      <th>min</th>\n",
       "      <td>35.400000</td>\n",
       "      <td>30.000000</td>\n",
       "      <td>8.000000</td>\n",
       "    </tr>\n",
       "    <tr>\n",
       "      <th>25%</th>\n",
       "      <td>37.800000</td>\n",
       "      <td>48.000000</td>\n",
       "      <td>18.000000</td>\n",
       "    </tr>\n",
       "    <tr>\n",
       "      <th>50%</th>\n",
       "      <td>38.200000</td>\n",
       "      <td>64.000000</td>\n",
       "      <td>24.000000</td>\n",
       "    </tr>\n",
       "    <tr>\n",
       "      <th>75%</th>\n",
       "      <td>38.500000</td>\n",
       "      <td>88.000000</td>\n",
       "      <td>36.000000</td>\n",
       "    </tr>\n",
       "    <tr>\n",
       "      <th>max</th>\n",
       "      <td>40.800000</td>\n",
       "      <td>184.000000</td>\n",
       "      <td>96.000000</td>\n",
       "    </tr>\n",
       "  </tbody>\n",
       "</table>\n",
       "</div>"
      ],
      "text/plain": [
       "       Rectal temperature       Pulse  Respiratory rate\n",
       "count          239.000000  275.000000        241.000000\n",
       "mean            38.166527   71.934545         30.427386\n",
       "std              0.733508   28.680522         17.678256\n",
       "min             35.400000   30.000000          8.000000\n",
       "25%             37.800000   48.000000         18.000000\n",
       "50%             38.200000   64.000000         24.000000\n",
       "75%             38.500000   88.000000         36.000000\n",
       "max             40.800000  184.000000         96.000000"
      ]
     },
     "execution_count": 980,
     "metadata": {},
     "output_type": "execute_result"
    }
   ],
   "source": [
    "# Общая статистика исключая не числовые столбы \n",
    "df1.describe(exclude='object')"
   ]
  },
  {
   "cell_type": "code",
   "execution_count": 981,
   "metadata": {},
   "outputs": [
    {
     "name": "stdout",
     "output_type": "stream",
     "text": [
      "Average 71.93\n",
      "Median 64.0\n",
      "Moda =  0    38.0\n",
      "dtype: float64\n",
      "Min 30.0\n",
      "Max 184.0\n",
      "Размах 154.0\n"
     ]
    }
   ],
   "source": [
    "# Расчитываем базовые  по пульсу\n",
    "print('Average', round(df['Pulse'].mean(),2))\n",
    "print('Median', df['Pulse'].median())\n",
    "print('Moda = ', df['Rectal temperature'].mode())\n",
    "print('Min', df['Pulse'].min())\n",
    "print('Max', df['Pulse'].max())\n",
    "print('Размах', round(df['Pulse'].max() - df['Pulse'].min(),2) )"
   ]
  },
  {
   "cell_type": "code",
   "execution_count": 982,
   "metadata": {},
   "outputs": [
    {
     "data": {
      "text/html": [
       "<div>\n",
       "<style scoped>\n",
       "    .dataframe tbody tr th:only-of-type {\n",
       "        vertical-align: middle;\n",
       "    }\n",
       "\n",
       "    .dataframe tbody tr th {\n",
       "        vertical-align: top;\n",
       "    }\n",
       "\n",
       "    .dataframe thead th {\n",
       "        text-align: right;\n",
       "    }\n",
       "</style>\n",
       "<table border=\"1\" class=\"dataframe\">\n",
       "  <thead>\n",
       "    <tr style=\"text-align: right;\">\n",
       "      <th></th>\n",
       "      <th>Rectal temperature</th>\n",
       "      <th>Pulse</th>\n",
       "      <th>Respiratory rate</th>\n",
       "    </tr>\n",
       "    <tr>\n",
       "      <th>Age</th>\n",
       "      <th></th>\n",
       "      <th></th>\n",
       "      <th></th>\n",
       "    </tr>\n",
       "  </thead>\n",
       "  <tbody>\n",
       "    <tr>\n",
       "      <th>Adult</th>\n",
       "      <td>38.122831</td>\n",
       "      <td>67.462451</td>\n",
       "      <td>28.239819</td>\n",
       "    </tr>\n",
       "    <tr>\n",
       "      <th>Young</th>\n",
       "      <td>38.645000</td>\n",
       "      <td>123.363636</td>\n",
       "      <td>54.600000</td>\n",
       "    </tr>\n",
       "  </tbody>\n",
       "</table>\n",
       "</div>"
      ],
      "text/plain": [
       "       Rectal temperature       Pulse  Respiratory rate\n",
       "Age                                                    \n",
       "Adult           38.122831   67.462451         28.239819\n",
       "Young           38.645000  123.363636         54.600000"
      ]
     },
     "execution_count": 982,
     "metadata": {},
     "output_type": "execute_result"
    }
   ],
   "source": [
    "# Раcсчитываем средние значения  относительно группы возраста\n",
    "df1.groupby('Age')[['Rectal temperature', 'Pulse', 'Respiratory rate']].mean()"
   ]
  },
  {
   "cell_type": "code",
   "execution_count": 983,
   "metadata": {},
   "outputs": [
    {
     "data": {
      "text/html": [
       "<div>\n",
       "<style scoped>\n",
       "    .dataframe tbody tr th:only-of-type {\n",
       "        vertical-align: middle;\n",
       "    }\n",
       "\n",
       "    .dataframe tbody tr th {\n",
       "        vertical-align: top;\n",
       "    }\n",
       "\n",
       "    .dataframe thead th {\n",
       "        text-align: right;\n",
       "    }\n",
       "</style>\n",
       "<table border=\"1\" class=\"dataframe\">\n",
       "  <thead>\n",
       "    <tr style=\"text-align: right;\">\n",
       "      <th></th>\n",
       "      <th></th>\n",
       "      <th>Rectal temperature</th>\n",
       "      <th>Pulse</th>\n",
       "      <th>Respiratory rate</th>\n",
       "    </tr>\n",
       "    <tr>\n",
       "      <th>Outcome</th>\n",
       "      <th>Surgery</th>\n",
       "      <th></th>\n",
       "      <th></th>\n",
       "      <th></th>\n",
       "    </tr>\n",
       "  </thead>\n",
       "  <tbody>\n",
       "    <tr>\n",
       "      <th rowspan=\"2\" valign=\"top\">Died</th>\n",
       "      <th>No</th>\n",
       "      <td>38.00</td>\n",
       "      <td>92.0</td>\n",
       "      <td>30.0</td>\n",
       "    </tr>\n",
       "    <tr>\n",
       "      <th>Yes</th>\n",
       "      <td>38.10</td>\n",
       "      <td>84.0</td>\n",
       "      <td>30.0</td>\n",
       "    </tr>\n",
       "    <tr>\n",
       "      <th rowspan=\"2\" valign=\"top\">Euthenized</th>\n",
       "      <th>No</th>\n",
       "      <td>38.20</td>\n",
       "      <td>85.0</td>\n",
       "      <td>20.0</td>\n",
       "    </tr>\n",
       "    <tr>\n",
       "      <th>Yes</th>\n",
       "      <td>38.00</td>\n",
       "      <td>80.0</td>\n",
       "      <td>32.0</td>\n",
       "    </tr>\n",
       "    <tr>\n",
       "      <th rowspan=\"2\" valign=\"top\">Lived</th>\n",
       "      <th>No</th>\n",
       "      <td>38.25</td>\n",
       "      <td>52.0</td>\n",
       "      <td>24.0</td>\n",
       "    </tr>\n",
       "    <tr>\n",
       "      <th>Yes</th>\n",
       "      <td>38.20</td>\n",
       "      <td>60.0</td>\n",
       "      <td>28.0</td>\n",
       "    </tr>\n",
       "  </tbody>\n",
       "</table>\n",
       "</div>"
      ],
      "text/plain": [
       "                    Rectal temperature  Pulse  Respiratory rate\n",
       "Outcome    Surgery                                             \n",
       "Died       No                    38.00   92.0              30.0\n",
       "           Yes                   38.10   84.0              30.0\n",
       "Euthenized No                    38.20   85.0              20.0\n",
       "           Yes                   38.00   80.0              32.0\n",
       "Lived      No                    38.25   52.0              24.0\n",
       "           Yes                   38.20   60.0              28.0"
      ]
     },
     "execution_count": 983,
     "metadata": {},
     "output_type": "execute_result"
    }
   ],
   "source": [
    "# Расчет медианы по  по исходу и наличию операци \n",
    "df1.groupby(['Outcome', 'Surgery'])[['Rectal temperature', 'Pulse', 'Respiratory rate']].median()"
   ]
  },
  {
   "cell_type": "code",
   "execution_count": 984,
   "metadata": {},
   "outputs": [
    {
     "name": "stdout",
     "output_type": "stream",
     "text": [
      "0.7335083691537396\n",
      "28.68052200365475\n",
      "17.67825633053121\n"
     ]
    }
   ],
   "source": [
    "# СКО\n",
    "print(df1['Rectal temperature'].std())\n",
    "print(df1['Pulse'].std())\n",
    "print(df1['Respiratory rate'].std())"
   ]
  },
  {
   "cell_type": "code",
   "execution_count": 985,
   "metadata": {},
   "outputs": [
    {
     "name": "stdout",
     "output_type": "stream",
     "text": [
      "0.5380345276185787\n",
      "822.5723424021243\n",
      "312.5207468879668\n"
     ]
    }
   ],
   "source": [
    "# Дисперсия\n",
    "print(df1['Rectal temperature'].var())\n",
    "print(df1['Pulse'].var())\n",
    "print(df1['Respiratory rate'].var())"
   ]
  },
  {
   "cell_type": "code",
   "execution_count": 986,
   "metadata": {
    "scrolled": true
   },
   "outputs": [
    {
     "data": {
      "text/plain": [
       "0.7000000000000028"
      ]
     },
     "execution_count": 986,
     "metadata": {},
     "output_type": "execute_result"
    }
   ],
   "source": [
    "# Межквартильный размах\n",
    "Q1 = df1['Rectal temperature'].quantile(0.25)\n",
    "Q3 = df1['Rectal temperature'].quantile(0.75)\n",
    "IQR = Q3 - Q1\n",
    "IQR"
   ]
  },
  {
   "cell_type": "code",
   "execution_count": 989,
   "metadata": {
    "scrolled": true
   },
   "outputs": [
    {
     "name": "stdout",
     "output_type": "stream",
     "text": [
      "36.74999999999999\n",
      "39.550000000000004\n"
     ]
    },
    {
     "data": {
      "text/html": [
       "<div>\n",
       "<style scoped>\n",
       "    .dataframe tbody tr th:only-of-type {\n",
       "        vertical-align: middle;\n",
       "    }\n",
       "\n",
       "    .dataframe tbody tr th {\n",
       "        vertical-align: top;\n",
       "    }\n",
       "\n",
       "    .dataframe thead th {\n",
       "        text-align: right;\n",
       "    }\n",
       "</style>\n",
       "<table border=\"1\" class=\"dataframe\">\n",
       "  <thead>\n",
       "    <tr style=\"text-align: right;\">\n",
       "      <th></th>\n",
       "      <th>Surgery</th>\n",
       "      <th>Age</th>\n",
       "      <th>Rectal temperature</th>\n",
       "      <th>Pulse</th>\n",
       "      <th>Respiratory rate</th>\n",
       "      <th>Temperature of extremities</th>\n",
       "      <th>Pain</th>\n",
       "      <th>Outcome</th>\n",
       "    </tr>\n",
       "  </thead>\n",
       "  <tbody>\n",
       "    <tr>\n",
       "      <th>112</th>\n",
       "      <td>Yes</td>\n",
       "      <td>Adult</td>\n",
       "      <td>36.8</td>\n",
       "      <td>60.0</td>\n",
       "      <td>28.0</td>\n",
       "      <td>NaN</td>\n",
       "      <td>NaN</td>\n",
       "      <td>Died</td>\n",
       "    </tr>\n",
       "    <tr>\n",
       "      <th>276</th>\n",
       "      <td>No</td>\n",
       "      <td>Adult</td>\n",
       "      <td>36.9</td>\n",
       "      <td>50.0</td>\n",
       "      <td>40.0</td>\n",
       "      <td>Warm</td>\n",
       "      <td>No Pain</td>\n",
       "      <td>Lived</td>\n",
       "    </tr>\n",
       "    <tr>\n",
       "      <th>291</th>\n",
       "      <td>Yes</td>\n",
       "      <td>Adult</td>\n",
       "      <td>37.0</td>\n",
       "      <td>66.0</td>\n",
       "      <td>20.0</td>\n",
       "      <td>Normal</td>\n",
       "      <td>Severe Pain</td>\n",
       "      <td>Died</td>\n",
       "    </tr>\n",
       "    <tr>\n",
       "      <th>69</th>\n",
       "      <td>No</td>\n",
       "      <td>Adult</td>\n",
       "      <td>37.0</td>\n",
       "      <td>60.0</td>\n",
       "      <td>20.0</td>\n",
       "      <td>Coll</td>\n",
       "      <td>Mild pain</td>\n",
       "      <td>Euthenized</td>\n",
       "    </tr>\n",
       "    <tr>\n",
       "      <th>262</th>\n",
       "      <td>Yes</td>\n",
       "      <td>Adult</td>\n",
       "      <td>37.1</td>\n",
       "      <td>75.0</td>\n",
       "      <td>36.0</td>\n",
       "      <td>NaN</td>\n",
       "      <td>Severe Pain</td>\n",
       "      <td>Died</td>\n",
       "    </tr>\n",
       "    <tr>\n",
       "      <th>...</th>\n",
       "      <td>...</td>\n",
       "      <td>...</td>\n",
       "      <td>...</td>\n",
       "      <td>...</td>\n",
       "      <td>...</td>\n",
       "      <td>...</td>\n",
       "      <td>...</td>\n",
       "      <td>...</td>\n",
       "    </tr>\n",
       "    <tr>\n",
       "      <th>119</th>\n",
       "      <td>Yes</td>\n",
       "      <td>Adult</td>\n",
       "      <td>39.4</td>\n",
       "      <td>54.0</td>\n",
       "      <td>66.0</td>\n",
       "      <td>Normal</td>\n",
       "      <td>Depressed</td>\n",
       "      <td>Lived</td>\n",
       "    </tr>\n",
       "    <tr>\n",
       "      <th>286</th>\n",
       "      <td>No</td>\n",
       "      <td>Young</td>\n",
       "      <td>39.5</td>\n",
       "      <td>84.0</td>\n",
       "      <td>30.0</td>\n",
       "      <td>NaN</td>\n",
       "      <td>NaN</td>\n",
       "      <td>Lived</td>\n",
       "    </tr>\n",
       "    <tr>\n",
       "      <th>161</th>\n",
       "      <td>No</td>\n",
       "      <td>Adult</td>\n",
       "      <td>39.5</td>\n",
       "      <td>60.0</td>\n",
       "      <td>10.0</td>\n",
       "      <td>Coll</td>\n",
       "      <td>Mild pain</td>\n",
       "      <td>Lived</td>\n",
       "    </tr>\n",
       "    <tr>\n",
       "      <th>230</th>\n",
       "      <td>No</td>\n",
       "      <td>Adult</td>\n",
       "      <td>39.5</td>\n",
       "      <td>92.0</td>\n",
       "      <td>28.0</td>\n",
       "      <td>Coll</td>\n",
       "      <td>Greaterthansevere</td>\n",
       "      <td>Died</td>\n",
       "    </tr>\n",
       "    <tr>\n",
       "      <th>116</th>\n",
       "      <td>No</td>\n",
       "      <td>Adult</td>\n",
       "      <td>39.5</td>\n",
       "      <td>NaN</td>\n",
       "      <td>NaN</td>\n",
       "      <td>Coll</td>\n",
       "      <td>Mild pain</td>\n",
       "      <td>Euthenized</td>\n",
       "    </tr>\n",
       "  </tbody>\n",
       "</table>\n",
       "<p>225 rows × 8 columns</p>\n",
       "</div>"
      ],
      "text/plain": [
       "    Surgery    Age  Rectal temperature  Pulse  Respiratory rate  \\\n",
       "112     Yes  Adult                36.8   60.0              28.0   \n",
       "276      No  Adult                36.9   50.0              40.0   \n",
       "291     Yes  Adult                37.0   66.0              20.0   \n",
       "69       No  Adult                37.0   60.0              20.0   \n",
       "262     Yes  Adult                37.1   75.0              36.0   \n",
       "..      ...    ...                 ...    ...               ...   \n",
       "119     Yes  Adult                39.4   54.0              66.0   \n",
       "286      No  Young                39.5   84.0              30.0   \n",
       "161      No  Adult                39.5   60.0              10.0   \n",
       "230      No  Adult                39.5   92.0              28.0   \n",
       "116      No  Adult                39.5    NaN               NaN   \n",
       "\n",
       "    Temperature of extremities               Pain     Outcome  \n",
       "112                        NaN                NaN        Died  \n",
       "276                       Warm            No Pain       Lived  \n",
       "291                     Normal        Severe Pain        Died  \n",
       "69                        Coll          Mild pain  Euthenized  \n",
       "262                        NaN        Severe Pain        Died  \n",
       "..                         ...                ...         ...  \n",
       "119                     Normal          Depressed       Lived  \n",
       "286                        NaN                NaN       Lived  \n",
       "161                       Coll          Mild pain       Lived  \n",
       "230                       Coll  Greaterthansevere        Died  \n",
       "116                       Coll          Mild pain  Euthenized  \n",
       "\n",
       "[225 rows x 8 columns]"
      ]
     },
     "execution_count": 989,
     "metadata": {},
     "output_type": "execute_result"
    }
   ],
   "source": [
    "# Выбросы - Температура\n",
    "q1 = df1['Rectal temperature'].quantile(0.25)\n",
    "q3 = df1['Rectal temperature'].quantile(0.75)\n",
    "iqr = q3 - q1\n",
    "lower_bound = q1 - (1.5 * iqr) \n",
    "print(lower_bound)\n",
    "upper_bound = q3 + (1.5 * iqr)\n",
    "print(upper_bound)\n",
    "remove_outliers = df1[df1['Rectal temperature'].between(lower_bound, upper_bound, inclusive=True)].sort_values('Rectal temperature')\n",
    "remove_outliers"
   ]
  },
  {
   "cell_type": "code",
   "execution_count": 570,
   "metadata": {
    "scrolled": true
   },
   "outputs": [
    {
     "data": {
      "text/html": [
       "<div>\n",
       "<style scoped>\n",
       "    .dataframe tbody tr th:only-of-type {\n",
       "        vertical-align: middle;\n",
       "    }\n",
       "\n",
       "    .dataframe tbody tr th {\n",
       "        vertical-align: top;\n",
       "    }\n",
       "\n",
       "    .dataframe thead th {\n",
       "        text-align: right;\n",
       "    }\n",
       "</style>\n",
       "<table border=\"1\" class=\"dataframe\">\n",
       "  <thead>\n",
       "    <tr style=\"text-align: right;\">\n",
       "      <th></th>\n",
       "      <th>Surgery</th>\n",
       "      <th>Age</th>\n",
       "      <th>Rectal temperature</th>\n",
       "      <th>Pulse</th>\n",
       "      <th>Respiratory rate</th>\n",
       "      <th>Temperature of extremities</th>\n",
       "      <th>Pain</th>\n",
       "      <th>Outcome</th>\n",
       "    </tr>\n",
       "  </thead>\n",
       "  <tbody>\n",
       "    <tr>\n",
       "      <th>4</th>\n",
       "      <td>No</td>\n",
       "      <td>Adult</td>\n",
       "      <td>NaN</td>\n",
       "      <td>NaN</td>\n",
       "      <td>NaN</td>\n",
       "      <td>Warm</td>\n",
       "      <td>Depressed</td>\n",
       "      <td>Lived</td>\n",
       "    </tr>\n",
       "    <tr>\n",
       "      <th>6</th>\n",
       "      <td>Yes</td>\n",
       "      <td>Adult</td>\n",
       "      <td>NaN</td>\n",
       "      <td>60.0</td>\n",
       "      <td>NaN</td>\n",
       "      <td>Coll</td>\n",
       "      <td>NaN</td>\n",
       "      <td>Died</td>\n",
       "    </tr>\n",
       "    <tr>\n",
       "      <th>7</th>\n",
       "      <td>No</td>\n",
       "      <td>Adult</td>\n",
       "      <td>NaN</td>\n",
       "      <td>80.0</td>\n",
       "      <td>36.0</td>\n",
       "      <td>Coll</td>\n",
       "      <td>Severe Pain</td>\n",
       "      <td>Euthenized</td>\n",
       "    </tr>\n",
       "    <tr>\n",
       "      <th>15</th>\n",
       "      <td>Yes</td>\n",
       "      <td>Young</td>\n",
       "      <td>NaN</td>\n",
       "      <td>128.0</td>\n",
       "      <td>36.0</td>\n",
       "      <td>Coll</td>\n",
       "      <td>Severe Pain</td>\n",
       "      <td>Died</td>\n",
       "    </tr>\n",
       "    <tr>\n",
       "      <th>19</th>\n",
       "      <td>Yes</td>\n",
       "      <td>Adult</td>\n",
       "      <td>39.9</td>\n",
       "      <td>72.0</td>\n",
       "      <td>60.0</td>\n",
       "      <td>Normal</td>\n",
       "      <td>Greaterthansevere</td>\n",
       "      <td>Lived</td>\n",
       "    </tr>\n",
       "    <tr>\n",
       "      <th>...</th>\n",
       "      <td>...</td>\n",
       "      <td>...</td>\n",
       "      <td>...</td>\n",
       "      <td>...</td>\n",
       "      <td>...</td>\n",
       "      <td>...</td>\n",
       "      <td>...</td>\n",
       "      <td>...</td>\n",
       "    </tr>\n",
       "    <tr>\n",
       "      <th>273</th>\n",
       "      <td>Yes</td>\n",
       "      <td>Adult</td>\n",
       "      <td>NaN</td>\n",
       "      <td>76.0</td>\n",
       "      <td>NaN</td>\n",
       "      <td>NaN</td>\n",
       "      <td>NaN</td>\n",
       "      <td>Euthenized</td>\n",
       "    </tr>\n",
       "    <tr>\n",
       "      <th>280</th>\n",
       "      <td>No</td>\n",
       "      <td>Adult</td>\n",
       "      <td>40.0</td>\n",
       "      <td>78.0</td>\n",
       "      <td>NaN</td>\n",
       "      <td>Coll</td>\n",
       "      <td>Depressed</td>\n",
       "      <td>Died</td>\n",
       "    </tr>\n",
       "    <tr>\n",
       "      <th>292</th>\n",
       "      <td>Yes</td>\n",
       "      <td>Adult</td>\n",
       "      <td>NaN</td>\n",
       "      <td>78.0</td>\n",
       "      <td>24.0</td>\n",
       "      <td>Coll</td>\n",
       "      <td>NaN</td>\n",
       "      <td>Euthenized</td>\n",
       "    </tr>\n",
       "    <tr>\n",
       "      <th>294</th>\n",
       "      <td>Yes</td>\n",
       "      <td>Adult</td>\n",
       "      <td>NaN</td>\n",
       "      <td>120.0</td>\n",
       "      <td>70.0</td>\n",
       "      <td>Cold</td>\n",
       "      <td>Depressed</td>\n",
       "      <td>Euthenized</td>\n",
       "    </tr>\n",
       "    <tr>\n",
       "      <th>297</th>\n",
       "      <td>Yes</td>\n",
       "      <td>Adult</td>\n",
       "      <td>36.5</td>\n",
       "      <td>100.0</td>\n",
       "      <td>24.0</td>\n",
       "      <td>Coll</td>\n",
       "      <td>Mild pain</td>\n",
       "      <td>Lived</td>\n",
       "    </tr>\n",
       "  </tbody>\n",
       "</table>\n",
       "<p>61 rows × 8 columns</p>\n",
       "</div>"
      ],
      "text/plain": [
       "    Surgery    Age  Rectal temperature  Pulse  Respiratory rate  \\\n",
       "4        No  Adult                 NaN    NaN               NaN   \n",
       "6       Yes  Adult                 NaN   60.0               NaN   \n",
       "7        No  Adult                 NaN   80.0              36.0   \n",
       "15      Yes  Young                 NaN  128.0              36.0   \n",
       "19      Yes  Adult                39.9   72.0              60.0   \n",
       "..      ...    ...                 ...    ...               ...   \n",
       "273     Yes  Adult                 NaN   76.0               NaN   \n",
       "280      No  Adult                40.0   78.0               NaN   \n",
       "292     Yes  Adult                 NaN   78.0              24.0   \n",
       "294     Yes  Adult                 NaN  120.0              70.0   \n",
       "297     Yes  Adult                36.5  100.0              24.0   \n",
       "\n",
       "    Temperature of extremities               Pain     Outcome  \n",
       "4                         Warm          Depressed       Lived  \n",
       "6                         Coll                NaN        Died  \n",
       "7                         Coll        Severe Pain  Euthenized  \n",
       "15                        Coll        Severe Pain        Died  \n",
       "19                      Normal  Greaterthansevere       Lived  \n",
       "..                         ...                ...         ...  \n",
       "273                        NaN                NaN  Euthenized  \n",
       "280                       Coll          Depressed        Died  \n",
       "292                       Coll                NaN  Euthenized  \n",
       "294                       Cold          Depressed  Euthenized  \n",
       "297                       Coll          Mild pain       Lived  \n",
       "\n",
       "[61 rows x 8 columns]"
      ]
     },
     "execution_count": 570,
     "metadata": {},
     "output_type": "execute_result"
    }
   ],
   "source": [
    "# Что это за выбросы?\n",
    "pd.concat([df1, remove_outliers]).drop_duplicates(keep=False)"
   ]
  },
  {
   "cell_type": "code",
   "execution_count": 991,
   "metadata": {
    "scrolled": false
   },
   "outputs": [
    {
     "data": {
      "text/plain": [
       "<AxesSubplot:ylabel='Rectal temperature'>"
      ]
     },
     "execution_count": 991,
     "metadata": {},
     "output_type": "execute_result"
    },
    {
     "data": {
      "image/png": "[encoded data removed]",
      "text/plain": [
       "<Figure size 432x288 with 1 Axes>"
      ]
     },
     "metadata": {
      "needs_background": "light"
     },
     "output_type": "display_data"
    }
   ],
   "source": [
    "sea.boxplot(data=df1, y='Rectal temperature')"
   ]
  },
  {
   "cell_type": "code",
   "execution_count": 992,
   "metadata": {
    "scrolled": true
   },
   "outputs": [
    {
     "name": "stdout",
     "output_type": "stream",
     "text": [
      "46.949999999999996\n",
      "89.05000000000001\n"
     ]
    },
    {
     "data": {
      "text/html": [
       "<div>\n",
       "<style scoped>\n",
       "    .dataframe tbody tr th:only-of-type {\n",
       "        vertical-align: middle;\n",
       "    }\n",
       "\n",
       "    .dataframe tbody tr th {\n",
       "        vertical-align: top;\n",
       "    }\n",
       "\n",
       "    .dataframe thead th {\n",
       "        text-align: right;\n",
       "    }\n",
       "</style>\n",
       "<table border=\"1\" class=\"dataframe\">\n",
       "  <thead>\n",
       "    <tr style=\"text-align: right;\">\n",
       "      <th></th>\n",
       "      <th>Surgery</th>\n",
       "      <th>Age</th>\n",
       "      <th>Rectal temperature</th>\n",
       "      <th>Pulse</th>\n",
       "      <th>Respiratory rate</th>\n",
       "      <th>Temperature of extremities</th>\n",
       "      <th>Pain</th>\n",
       "      <th>Outcome</th>\n",
       "    </tr>\n",
       "  </thead>\n",
       "  <tbody>\n",
       "    <tr>\n",
       "      <th>148</th>\n",
       "      <td>No</td>\n",
       "      <td>Adult</td>\n",
       "      <td>38.7</td>\n",
       "      <td>48.0</td>\n",
       "      <td>24.0</td>\n",
       "      <td>NaN</td>\n",
       "      <td>No Pain</td>\n",
       "      <td>Lived</td>\n",
       "    </tr>\n",
       "    <tr>\n",
       "      <th>59</th>\n",
       "      <td>No</td>\n",
       "      <td>Adult</td>\n",
       "      <td>37.8</td>\n",
       "      <td>48.0</td>\n",
       "      <td>32.0</td>\n",
       "      <td>Normal</td>\n",
       "      <td>Depressed</td>\n",
       "      <td>Lived</td>\n",
       "    </tr>\n",
       "    <tr>\n",
       "      <th>93</th>\n",
       "      <td>No</td>\n",
       "      <td>Adult</td>\n",
       "      <td>37.5</td>\n",
       "      <td>48.0</td>\n",
       "      <td>30.0</td>\n",
       "      <td>Cold</td>\n",
       "      <td>NaN</td>\n",
       "      <td>Lived</td>\n",
       "    </tr>\n",
       "    <tr>\n",
       "      <th>94</th>\n",
       "      <td>Yes</td>\n",
       "      <td>Adult</td>\n",
       "      <td>37.3</td>\n",
       "      <td>48.0</td>\n",
       "      <td>20.0</td>\n",
       "      <td>NaN</td>\n",
       "      <td>Mild pain</td>\n",
       "      <td>Lived</td>\n",
       "    </tr>\n",
       "    <tr>\n",
       "      <th>260</th>\n",
       "      <td>No</td>\n",
       "      <td>Adult</td>\n",
       "      <td>38.4</td>\n",
       "      <td>48.0</td>\n",
       "      <td>16.0</td>\n",
       "      <td>Warm</td>\n",
       "      <td>No Pain</td>\n",
       "      <td>Lived</td>\n",
       "    </tr>\n",
       "    <tr>\n",
       "      <th>...</th>\n",
       "      <td>...</td>\n",
       "      <td>...</td>\n",
       "      <td>...</td>\n",
       "      <td>...</td>\n",
       "      <td>...</td>\n",
       "      <td>...</td>\n",
       "      <td>...</td>\n",
       "      <td>...</td>\n",
       "    </tr>\n",
       "    <tr>\n",
       "      <th>96</th>\n",
       "      <td>Yes</td>\n",
       "      <td>Adult</td>\n",
       "      <td>38.1</td>\n",
       "      <td>88.0</td>\n",
       "      <td>32.0</td>\n",
       "      <td>Coll</td>\n",
       "      <td>Depressed</td>\n",
       "      <td>Euthenized</td>\n",
       "    </tr>\n",
       "    <tr>\n",
       "      <th>246</th>\n",
       "      <td>Yes</td>\n",
       "      <td>Adult</td>\n",
       "      <td>38.1</td>\n",
       "      <td>88.0</td>\n",
       "      <td>24.0</td>\n",
       "      <td>Coll</td>\n",
       "      <td>Greaterthansevere</td>\n",
       "      <td>Died</td>\n",
       "    </tr>\n",
       "    <tr>\n",
       "      <th>130</th>\n",
       "      <td>No</td>\n",
       "      <td>Adult</td>\n",
       "      <td>37.6</td>\n",
       "      <td>88.0</td>\n",
       "      <td>36.0</td>\n",
       "      <td>Coll</td>\n",
       "      <td>Mild pain</td>\n",
       "      <td>Died</td>\n",
       "    </tr>\n",
       "    <tr>\n",
       "      <th>193</th>\n",
       "      <td>No</td>\n",
       "      <td>Adult</td>\n",
       "      <td>37.9</td>\n",
       "      <td>88.0</td>\n",
       "      <td>24.0</td>\n",
       "      <td>Normal</td>\n",
       "      <td>Depressed</td>\n",
       "      <td>Lived</td>\n",
       "    </tr>\n",
       "    <tr>\n",
       "      <th>0</th>\n",
       "      <td>Yes</td>\n",
       "      <td>Adult</td>\n",
       "      <td>39.2</td>\n",
       "      <td>88.0</td>\n",
       "      <td>20.0</td>\n",
       "      <td>NaN</td>\n",
       "      <td>Mild pain</td>\n",
       "      <td>Euthenized</td>\n",
       "    </tr>\n",
       "  </tbody>\n",
       "</table>\n",
       "<p>160 rows × 8 columns</p>\n",
       "</div>"
      ],
      "text/plain": [
       "    Surgery    Age  Rectal temperature  Pulse  Respiratory rate  \\\n",
       "148      No  Adult                38.7   48.0              24.0   \n",
       "59       No  Adult                37.8   48.0              32.0   \n",
       "93       No  Adult                37.5   48.0              30.0   \n",
       "94      Yes  Adult                37.3   48.0              20.0   \n",
       "260      No  Adult                38.4   48.0              16.0   \n",
       "..      ...    ...                 ...    ...               ...   \n",
       "96      Yes  Adult                38.1   88.0              32.0   \n",
       "246     Yes  Adult                38.1   88.0              24.0   \n",
       "130      No  Adult                37.6   88.0              36.0   \n",
       "193      No  Adult                37.9   88.0              24.0   \n",
       "0       Yes  Adult                39.2   88.0              20.0   \n",
       "\n",
       "    Temperature of extremities               Pain     Outcome  \n",
       "148                        NaN            No Pain       Lived  \n",
       "59                      Normal          Depressed       Lived  \n",
       "93                        Cold                NaN       Lived  \n",
       "94                         NaN          Mild pain       Lived  \n",
       "260                       Warm            No Pain       Lived  \n",
       "..                         ...                ...         ...  \n",
       "96                        Coll          Depressed  Euthenized  \n",
       "246                       Coll  Greaterthansevere        Died  \n",
       "130                       Coll          Mild pain        Died  \n",
       "193                     Normal          Depressed       Lived  \n",
       "0                          NaN          Mild pain  Euthenized  \n",
       "\n",
       "[160 rows x 8 columns]"
      ]
     },
     "execution_count": 992,
     "metadata": {},
     "output_type": "execute_result"
    }
   ],
   "source": [
    "# Выбросы - Pulse\n",
    "q1_p = df1['Pulse'].quantile(0.25)\n",
    "q3_p = df1['Pulse'].quantile(0.75)\n",
    "iqr_p = q3 - q1\n",
    "lower_bound_p = q1_p - (1.5 * iqr_p) \n",
    "print(lower_bound_p)\n",
    "upper_bound_p = q3_p + (1.5 * iqr_p)\n",
    "print(upper_bound_p)\n",
    "remove_outliers_p = df1[df1['Pulse'].between(lower_bound_p, upper_bound_p, inclusive=True)].sort_values('Pulse')\n",
    "remove_outliers_p"
   ]
  },
  {
   "cell_type": "code",
   "execution_count": 993,
   "metadata": {
    "scrolled": true
   },
   "outputs": [
    {
     "data": {
      "text/html": [
       "<div>\n",
       "<style scoped>\n",
       "    .dataframe tbody tr th:only-of-type {\n",
       "        vertical-align: middle;\n",
       "    }\n",
       "\n",
       "    .dataframe tbody tr th {\n",
       "        vertical-align: top;\n",
       "    }\n",
       "\n",
       "    .dataframe thead th {\n",
       "        text-align: right;\n",
       "    }\n",
       "</style>\n",
       "<table border=\"1\" class=\"dataframe\">\n",
       "  <thead>\n",
       "    <tr style=\"text-align: right;\">\n",
       "      <th></th>\n",
       "      <th>Surgery</th>\n",
       "      <th>Age</th>\n",
       "      <th>Rectal temperature</th>\n",
       "      <th>Pulse</th>\n",
       "      <th>Respiratory rate</th>\n",
       "      <th>Temperature of extremities</th>\n",
       "      <th>Pain</th>\n",
       "      <th>Outcome</th>\n",
       "    </tr>\n",
       "  </thead>\n",
       "  <tbody>\n",
       "    <tr>\n",
       "      <th>1</th>\n",
       "      <td>No</td>\n",
       "      <td>Adult</td>\n",
       "      <td>38.3</td>\n",
       "      <td>40.0</td>\n",
       "      <td>24.0</td>\n",
       "      <td>Normal</td>\n",
       "      <td>Mild pain</td>\n",
       "      <td>Lived</td>\n",
       "    </tr>\n",
       "    <tr>\n",
       "      <th>2</th>\n",
       "      <td>Yes</td>\n",
       "      <td>Young</td>\n",
       "      <td>39.1</td>\n",
       "      <td>164.0</td>\n",
       "      <td>84.0</td>\n",
       "      <td>Cold</td>\n",
       "      <td>Depressed</td>\n",
       "      <td>Died</td>\n",
       "    </tr>\n",
       "    <tr>\n",
       "      <th>3</th>\n",
       "      <td>No</td>\n",
       "      <td>Adult</td>\n",
       "      <td>37.3</td>\n",
       "      <td>104.0</td>\n",
       "      <td>35.0</td>\n",
       "      <td>NaN</td>\n",
       "      <td>NaN</td>\n",
       "      <td>Died</td>\n",
       "    </tr>\n",
       "    <tr>\n",
       "      <th>4</th>\n",
       "      <td>No</td>\n",
       "      <td>Adult</td>\n",
       "      <td>NaN</td>\n",
       "      <td>NaN</td>\n",
       "      <td>NaN</td>\n",
       "      <td>Warm</td>\n",
       "      <td>Depressed</td>\n",
       "      <td>Lived</td>\n",
       "    </tr>\n",
       "    <tr>\n",
       "      <th>8</th>\n",
       "      <td>No</td>\n",
       "      <td>Young</td>\n",
       "      <td>38.3</td>\n",
       "      <td>90.0</td>\n",
       "      <td>NaN</td>\n",
       "      <td>Normal</td>\n",
       "      <td>Greaterthansevere</td>\n",
       "      <td>Lived</td>\n",
       "    </tr>\n",
       "    <tr>\n",
       "      <th>...</th>\n",
       "      <td>...</td>\n",
       "      <td>...</td>\n",
       "      <td>...</td>\n",
       "      <td>...</td>\n",
       "      <td>...</td>\n",
       "      <td>...</td>\n",
       "      <td>...</td>\n",
       "      <td>...</td>\n",
       "    </tr>\n",
       "    <tr>\n",
       "      <th>289</th>\n",
       "      <td>No</td>\n",
       "      <td>Adult</td>\n",
       "      <td>38.6</td>\n",
       "      <td>45.0</td>\n",
       "      <td>16.0</td>\n",
       "      <td>Warm</td>\n",
       "      <td>No Pain</td>\n",
       "      <td>Lived</td>\n",
       "    </tr>\n",
       "    <tr>\n",
       "      <th>293</th>\n",
       "      <td>No</td>\n",
       "      <td>Adult</td>\n",
       "      <td>38.5</td>\n",
       "      <td>40.0</td>\n",
       "      <td>16.0</td>\n",
       "      <td>Normal</td>\n",
       "      <td>Depressed</td>\n",
       "      <td>Lived</td>\n",
       "    </tr>\n",
       "    <tr>\n",
       "      <th>294</th>\n",
       "      <td>Yes</td>\n",
       "      <td>Adult</td>\n",
       "      <td>NaN</td>\n",
       "      <td>120.0</td>\n",
       "      <td>70.0</td>\n",
       "      <td>Cold</td>\n",
       "      <td>Depressed</td>\n",
       "      <td>Euthenized</td>\n",
       "    </tr>\n",
       "    <tr>\n",
       "      <th>297</th>\n",
       "      <td>Yes</td>\n",
       "      <td>Adult</td>\n",
       "      <td>36.5</td>\n",
       "      <td>100.0</td>\n",
       "      <td>24.0</td>\n",
       "      <td>Coll</td>\n",
       "      <td>Mild pain</td>\n",
       "      <td>Lived</td>\n",
       "    </tr>\n",
       "    <tr>\n",
       "      <th>298</th>\n",
       "      <td>Yes</td>\n",
       "      <td>Adult</td>\n",
       "      <td>37.2</td>\n",
       "      <td>40.0</td>\n",
       "      <td>20.0</td>\n",
       "      <td>NaN</td>\n",
       "      <td>NaN</td>\n",
       "      <td>Euthenized</td>\n",
       "    </tr>\n",
       "  </tbody>\n",
       "</table>\n",
       "<p>124 rows × 8 columns</p>\n",
       "</div>"
      ],
      "text/plain": [
       "    Surgery    Age  Rectal temperature  Pulse  Respiratory rate  \\\n",
       "1        No  Adult                38.3   40.0              24.0   \n",
       "2       Yes  Young                39.1  164.0              84.0   \n",
       "3        No  Adult                37.3  104.0              35.0   \n",
       "4        No  Adult                 NaN    NaN               NaN   \n",
       "8        No  Young                38.3   90.0               NaN   \n",
       "..      ...    ...                 ...    ...               ...   \n",
       "289      No  Adult                38.6   45.0              16.0   \n",
       "293      No  Adult                38.5   40.0              16.0   \n",
       "294     Yes  Adult                 NaN  120.0              70.0   \n",
       "297     Yes  Adult                36.5  100.0              24.0   \n",
       "298     Yes  Adult                37.2   40.0              20.0   \n",
       "\n",
       "    Temperature of extremities               Pain     Outcome  \n",
       "1                       Normal          Mild pain       Lived  \n",
       "2                         Cold          Depressed        Died  \n",
       "3                          NaN                NaN        Died  \n",
       "4                         Warm          Depressed       Lived  \n",
       "8                       Normal  Greaterthansevere       Lived  \n",
       "..                         ...                ...         ...  \n",
       "289                       Warm            No Pain       Lived  \n",
       "293                     Normal          Depressed       Lived  \n",
       "294                       Cold          Depressed  Euthenized  \n",
       "297                       Coll          Mild pain       Lived  \n",
       "298                        NaN                NaN  Euthenized  \n",
       "\n",
       "[124 rows x 8 columns]"
      ]
     },
     "execution_count": 993,
     "metadata": {},
     "output_type": "execute_result"
    }
   ],
   "source": [
    "pd.concat([df1, remove_outliers_p]).drop_duplicates(keep=False)"
   ]
  },
  {
   "cell_type": "code",
   "execution_count": 994,
   "metadata": {
    "scrolled": true
   },
   "outputs": [
    {
     "data": {
      "text/plain": [
       "<AxesSubplot:ylabel='Pulse'>"
      ]
     },
     "execution_count": 994,
     "metadata": {},
     "output_type": "execute_result"
    },
    {
     "data": {
      "image/png": "[encoded data removed]",
      "text/plain": [
       "<Figure size 432x288 with 1 Axes>"
      ]
     },
     "metadata": {
      "needs_background": "light"
     },
     "output_type": "display_data"
    }
   ],
   "source": [
    "sea.boxplot(data=df1, y='Pulse')"
   ]
  },
  {
   "cell_type": "code",
   "execution_count": 995,
   "metadata": {
    "scrolled": true
   },
   "outputs": [
    {
     "name": "stdout",
     "output_type": "stream",
     "text": [
      "16.949999999999996\n",
      "37.050000000000004\n"
     ]
    },
    {
     "data": {
      "text/html": [
       "<div>\n",
       "<style scoped>\n",
       "    .dataframe tbody tr th:only-of-type {\n",
       "        vertical-align: middle;\n",
       "    }\n",
       "\n",
       "    .dataframe tbody tr th {\n",
       "        vertical-align: top;\n",
       "    }\n",
       "\n",
       "    .dataframe thead th {\n",
       "        text-align: right;\n",
       "    }\n",
       "</style>\n",
       "<table border=\"1\" class=\"dataframe\">\n",
       "  <thead>\n",
       "    <tr style=\"text-align: right;\">\n",
       "      <th></th>\n",
       "      <th>Surgery</th>\n",
       "      <th>Age</th>\n",
       "      <th>Rectal temperature</th>\n",
       "      <th>Pulse</th>\n",
       "      <th>Respiratory rate</th>\n",
       "      <th>Temperature of extremities</th>\n",
       "      <th>Pain</th>\n",
       "      <th>Outcome</th>\n",
       "    </tr>\n",
       "  </thead>\n",
       "  <tbody>\n",
       "    <tr>\n",
       "      <th>191</th>\n",
       "      <td>Yes</td>\n",
       "      <td>Adult</td>\n",
       "      <td>38.2</td>\n",
       "      <td>48.0</td>\n",
       "      <td>18.0</td>\n",
       "      <td>Normal</td>\n",
       "      <td>Mild pain</td>\n",
       "      <td>Lived</td>\n",
       "    </tr>\n",
       "    <tr>\n",
       "      <th>216</th>\n",
       "      <td>Yes</td>\n",
       "      <td>Adult</td>\n",
       "      <td>38.0</td>\n",
       "      <td>76.0</td>\n",
       "      <td>18.0</td>\n",
       "      <td>NaN</td>\n",
       "      <td>NaN</td>\n",
       "      <td>Lived</td>\n",
       "    </tr>\n",
       "    <tr>\n",
       "      <th>250</th>\n",
       "      <td>No</td>\n",
       "      <td>Adult</td>\n",
       "      <td>36.6</td>\n",
       "      <td>42.0</td>\n",
       "      <td>18.0</td>\n",
       "      <td>Coll</td>\n",
       "      <td>No Pain</td>\n",
       "      <td>Died</td>\n",
       "    </tr>\n",
       "    <tr>\n",
       "      <th>266</th>\n",
       "      <td>No</td>\n",
       "      <td>Adult</td>\n",
       "      <td>38.3</td>\n",
       "      <td>54.0</td>\n",
       "      <td>18.0</td>\n",
       "      <td>Coll</td>\n",
       "      <td>Depressed</td>\n",
       "      <td>Lived</td>\n",
       "    </tr>\n",
       "    <tr>\n",
       "      <th>231</th>\n",
       "      <td>Yes</td>\n",
       "      <td>Adult</td>\n",
       "      <td>38.5</td>\n",
       "      <td>30.0</td>\n",
       "      <td>18.0</td>\n",
       "      <td>NaN</td>\n",
       "      <td>NaN</td>\n",
       "      <td>Lived</td>\n",
       "    </tr>\n",
       "    <tr>\n",
       "      <th>...</th>\n",
       "      <td>...</td>\n",
       "      <td>...</td>\n",
       "      <td>...</td>\n",
       "      <td>...</td>\n",
       "      <td>...</td>\n",
       "      <td>...</td>\n",
       "      <td>...</td>\n",
       "      <td>...</td>\n",
       "    </tr>\n",
       "    <tr>\n",
       "      <th>251</th>\n",
       "      <td>Yes</td>\n",
       "      <td>Young</td>\n",
       "      <td>38.8</td>\n",
       "      <td>124.0</td>\n",
       "      <td>36.0</td>\n",
       "      <td>Coll</td>\n",
       "      <td>Depressed</td>\n",
       "      <td>Died</td>\n",
       "    </tr>\n",
       "    <tr>\n",
       "      <th>15</th>\n",
       "      <td>Yes</td>\n",
       "      <td>Young</td>\n",
       "      <td>NaN</td>\n",
       "      <td>128.0</td>\n",
       "      <td>36.0</td>\n",
       "      <td>Coll</td>\n",
       "      <td>Severe Pain</td>\n",
       "      <td>Died</td>\n",
       "    </tr>\n",
       "    <tr>\n",
       "      <th>130</th>\n",
       "      <td>No</td>\n",
       "      <td>Adult</td>\n",
       "      <td>37.6</td>\n",
       "      <td>88.0</td>\n",
       "      <td>36.0</td>\n",
       "      <td>Coll</td>\n",
       "      <td>Mild pain</td>\n",
       "      <td>Died</td>\n",
       "    </tr>\n",
       "    <tr>\n",
       "      <th>63</th>\n",
       "      <td>Yes</td>\n",
       "      <td>Adult</td>\n",
       "      <td>39.0</td>\n",
       "      <td>64.0</td>\n",
       "      <td>36.0</td>\n",
       "      <td>Coll</td>\n",
       "      <td>Mild pain</td>\n",
       "      <td>Lived</td>\n",
       "    </tr>\n",
       "    <tr>\n",
       "      <th>7</th>\n",
       "      <td>No</td>\n",
       "      <td>Adult</td>\n",
       "      <td>NaN</td>\n",
       "      <td>80.0</td>\n",
       "      <td>36.0</td>\n",
       "      <td>Coll</td>\n",
       "      <td>Severe Pain</td>\n",
       "      <td>Euthenized</td>\n",
       "    </tr>\n",
       "  </tbody>\n",
       "</table>\n",
       "<p>132 rows × 8 columns</p>\n",
       "</div>"
      ],
      "text/plain": [
       "    Surgery    Age  Rectal temperature  Pulse  Respiratory rate  \\\n",
       "191     Yes  Adult                38.2   48.0              18.0   \n",
       "216     Yes  Adult                38.0   76.0              18.0   \n",
       "250      No  Adult                36.6   42.0              18.0   \n",
       "266      No  Adult                38.3   54.0              18.0   \n",
       "231     Yes  Adult                38.5   30.0              18.0   \n",
       "..      ...    ...                 ...    ...               ...   \n",
       "251     Yes  Young                38.8  124.0              36.0   \n",
       "15      Yes  Young                 NaN  128.0              36.0   \n",
       "130      No  Adult                37.6   88.0              36.0   \n",
       "63      Yes  Adult                39.0   64.0              36.0   \n",
       "7        No  Adult                 NaN   80.0              36.0   \n",
       "\n",
       "    Temperature of extremities         Pain     Outcome  \n",
       "191                     Normal    Mild pain       Lived  \n",
       "216                        NaN          NaN       Lived  \n",
       "250                       Coll      No Pain        Died  \n",
       "266                       Coll    Depressed       Lived  \n",
       "231                        NaN          NaN       Lived  \n",
       "..                         ...          ...         ...  \n",
       "251                       Coll    Depressed        Died  \n",
       "15                        Coll  Severe Pain        Died  \n",
       "130                       Coll    Mild pain        Died  \n",
       "63                        Coll    Mild pain       Lived  \n",
       "7                         Coll  Severe Pain  Euthenized  \n",
       "\n",
       "[132 rows x 8 columns]"
      ]
     },
     "execution_count": 995,
     "metadata": {},
     "output_type": "execute_result"
    }
   ],
   "source": [
    "# Выбросы - Respiratory rate\n",
    "q1_r = df1['Respiratory rate'].quantile(0.25)\n",
    "q3_r = df1['Respiratory rate'].quantile(0.75)\n",
    "iqr_r = q3 - q1\n",
    "lower_bound_r = q1_r - (1.5 * iqr_r) \n",
    "print(lower_bound_r)\n",
    "upper_bound_r = q3_r + (1.5 * iqr_r)\n",
    "print(upper_bound_r)\n",
    "remove_outliers_r = df1[df1['Respiratory rate'].between(lower_bound_r, upper_bound_r, inclusive=True)].sort_values('Respiratory rate')\n",
    "remove_outliers_r"
   ]
  },
  {
   "cell_type": "code",
   "execution_count": 996,
   "metadata": {},
   "outputs": [
    {
     "data": {
      "text/plain": [
       "<AxesSubplot:ylabel='Respiratory rate'>"
      ]
     },
     "execution_count": 996,
     "metadata": {},
     "output_type": "execute_result"
    },
    {
     "data": {
      "image/png": "[encoded data removed]",
      "text/plain": [
       "<Figure size 432x288 with 1 Axes>"
      ]
     },
     "metadata": {
      "needs_background": "light"
     },
     "output_type": "display_data"
    }
   ],
   "source": [
    "sea.boxplot(data=df1, y='Respiratory rate')"
   ]
  },
  {
   "cell_type": "markdown",
   "metadata": {},
   "source": [
    "### Задание 3. Работа с пропусками\n",
    "Рассчитать количество пропусков для всех выбранных столбцов. Принять и обосновать решение о методе заполнения пропусков по каждому столбцу на основе рассчитанных статистик и возможной взаимосвязи значений в них. Сформировать датафрейм, в котором пропуски будут отсутствовать.\n"
   ]
  },
  {
   "cell_type": "code",
   "execution_count": 999,
   "metadata": {},
   "outputs": [
    {
     "name": "stdout",
     "output_type": "stream",
     "text": [
      "<class 'pandas.core.frame.DataFrame'>\n",
      "RangeIndex: 299 entries, 0 to 298\n",
      "Data columns (total 8 columns):\n",
      " #   Column                      Non-Null Count  Dtype  \n",
      "---  ------                      --------------  -----  \n",
      " 0   Surgery                     298 non-null    object \n",
      " 1   Age                         299 non-null    object \n",
      " 2   Rectal temperature          239 non-null    float64\n",
      " 3   Pulse                       275 non-null    float64\n",
      " 4   Respiratory rate            241 non-null    float64\n",
      " 5   Temperature of extremities  243 non-null    object \n",
      " 6   Pain                        244 non-null    object \n",
      " 7   Outcome                     298 non-null    object \n",
      "dtypes: float64(3), object(5)\n",
      "memory usage: 18.8+ KB\n"
     ]
    }
   ],
   "source": [
    "df_skips = total_horse_data.iloc[:,[0,1,3,4,5,6,10,22]] \n",
    "df_skips.set_axis(['Surgery', 'Age', 'Rectal temperature', 'Pulse', 'Respiratory rate', 'Temperature of extremities', 'Pain', 'Outcome'], axis=1, inplace=True)\n",
    "\n",
    "# Меняем числовые значения на категорию в номенальных столбцах\n",
    "df_skips.loc[:,'Outcome'].replace({1:'Lived', 2:'Died', 3:'Euthenized'}, inplace = True)\n",
    "df_skips.loc[:,'Age'].replace({1:'Adult', 2:'Young'}, inplace = True)\n",
    "df_skips.loc[:,'Surgery'].replace({1.0:'Yes', 2.0:'No'}, inplace = True)\n",
    "df_skips.loc[:,'Temperature of extremities'].replace({1.0:'Normal', 2.0:'Warm', 3.0:'Coll', 4.0:'Cold'}, inplace = True)\n",
    "df_skips.loc[:,'Pain'].replace({1:'No Pain', 2:'Depressed', 3:'Mild pain', 4:'Severe Pain', 5:'Greaterthansevere'}, inplace = True)\n",
    "\n",
    "df_skips.info()"
   ]
  },
  {
   "cell_type": "code",
   "execution_count": 1000,
   "metadata": {
    "scrolled": false
   },
   "outputs": [
    {
     "data": {
      "text/plain": [
       "Surgery                        1\n",
       "Age                            0\n",
       "Rectal temperature            60\n",
       "Pulse                         24\n",
       "Respiratory rate              58\n",
       "Temperature of extremities    56\n",
       "Pain                          55\n",
       "Outcome                        1\n",
       "dtype: int64"
      ]
     },
     "execution_count": 1000,
     "metadata": {},
     "output_type": "execute_result"
    }
   ],
   "source": [
    "# Кол-во пропусков для всех столбцовв\n",
    "(df_skips.isna().sum())"
   ]
  },
  {
   "cell_type": "code",
   "execution_count": 1001,
   "metadata": {},
   "outputs": [
    {
     "data": {
      "text/html": [
       "<div>\n",
       "<style scoped>\n",
       "    .dataframe tbody tr th:only-of-type {\n",
       "        vertical-align: middle;\n",
       "    }\n",
       "\n",
       "    .dataframe tbody tr th {\n",
       "        vertical-align: top;\n",
       "    }\n",
       "\n",
       "    .dataframe thead th {\n",
       "        text-align: right;\n",
       "    }\n",
       "</style>\n",
       "<table border=\"1\" class=\"dataframe\">\n",
       "  <thead>\n",
       "    <tr style=\"text-align: right;\">\n",
       "      <th></th>\n",
       "      <th>NA</th>\n",
       "    </tr>\n",
       "  </thead>\n",
       "  <tbody>\n",
       "    <tr>\n",
       "      <th>Surgery</th>\n",
       "      <td>1</td>\n",
       "    </tr>\n",
       "    <tr>\n",
       "      <th>Rectal temperature</th>\n",
       "      <td>60</td>\n",
       "    </tr>\n",
       "    <tr>\n",
       "      <th>Pulse</th>\n",
       "      <td>24</td>\n",
       "    </tr>\n",
       "    <tr>\n",
       "      <th>Respiratory rate</th>\n",
       "      <td>58</td>\n",
       "    </tr>\n",
       "    <tr>\n",
       "      <th>Temperature of extremities</th>\n",
       "      <td>56</td>\n",
       "    </tr>\n",
       "    <tr>\n",
       "      <th>Pain</th>\n",
       "      <td>55</td>\n",
       "    </tr>\n",
       "    <tr>\n",
       "      <th>Outcome</th>\n",
       "      <td>1</td>\n",
       "    </tr>\n",
       "  </tbody>\n",
       "</table>\n",
       "</div>"
      ],
      "text/plain": [
       "                            NA\n",
       "Surgery                      1\n",
       "Rectal temperature          60\n",
       "Pulse                       24\n",
       "Respiratory rate            58\n",
       "Temperature of extremities  56\n",
       "Pain                        55\n",
       "Outcome                      1"
      ]
     },
     "execution_count": 1001,
     "metadata": {},
     "output_type": "execute_result"
    }
   ],
   "source": [
    "# Вариант с созданием df с кол-вом пропусков\n",
    "null = pd.concat([df_skips.isnull().sum()], axis = 1, keys = ['NA'] )\n",
    "null.loc[(null.NA>0)]"
   ]
  },
  {
   "cell_type": "code",
   "execution_count": 1005,
   "metadata": {
    "scrolled": true
   },
   "outputs": [
    {
     "data": {
      "text/plain": [
       "array(['Yes', 'No'], dtype=object)"
      ]
     },
     "execution_count": 1005,
     "metadata": {},
     "output_type": "execute_result"
    }
   ],
   "source": [
    "# Единственный пропуск в столбце Surgery заменяем модой. Или можно не менять , не ведет к искажению результатов.\n",
    "df_skips.loc[:,'Surgery'].fillna(df_skips['Surgery'].mode()[0], inplace=True)\n",
    "df_skips['Surgery'].unique()"
   ]
  },
  {
   "cell_type": "code",
   "execution_count": 1006,
   "metadata": {},
   "outputs": [
    {
     "data": {
      "text/plain": [
       "<AxesSubplot:xlabel='Surgery', ylabel='count'>"
      ]
     },
     "execution_count": 1006,
     "metadata": {},
     "output_type": "execute_result"
    },
    {
     "data": {
      "image/png": "[encoded data removed]",
      "text/plain": [
       "<Figure size 432x288 with 1 Axes>"
      ]
     },
     "metadata": {
      "needs_background": "light"
     },
     "output_type": "display_data"
    }
   ],
   "source": [
    "sea.countplot(data=df_skips, x='Surgery')"
   ]
  },
  {
   "cell_type": "code",
   "execution_count": 1007,
   "metadata": {},
   "outputs": [],
   "source": [
    "# В стобце Rectal temperature нормальное распределение данных , поэтому пропуски заполняем медианой"
   ]
  },
  {
   "cell_type": "code",
   "execution_count": 1015,
   "metadata": {},
   "outputs": [
    {
     "data": {
      "text/plain": [
       "<AxesSubplot:xlabel='Rectal temperature', ylabel='Count'>"
      ]
     },
     "execution_count": 1015,
     "metadata": {},
     "output_type": "execute_result"
    },
    {
     "data": {
      "image/png": "[encoded data removed]",
      "text/plain": [
       "<Figure size 432x288 with 1 Axes>"
      ]
     },
     "metadata": {
      "needs_background": "light"
     },
     "output_type": "display_data"
    }
   ],
   "source": [
    "# Распределение темп до заполнения пропусков\n",
    "sea.histplot(df_skips['Rectal temperature'], bins=30)"
   ]
  },
  {
   "cell_type": "code",
   "execution_count": 1017,
   "metadata": {
    "scrolled": false
   },
   "outputs": [
    {
     "data": {
      "text/plain": [
       "array([39.2, 38.3, 39.1, 37.3, 38.2, 37.9, 38.1, 37.2, 38. , 37.6, 37.5,\n",
       "       39.4, 39.9, 38.4, 38.6, 37.8, 37.7, 39. , 35.4, 38.9, 37.4, 40.3,\n",
       "       38.5, 37. , 39.7, 38.7, 36.4, 38.8, 39.6, 36.8, 39.5, 36.5, 36. ,\n",
       "       37.1, 39.3, 36.1, 36.6, 40.8, 36.9, 40. ])"
      ]
     },
     "execution_count": 1017,
     "metadata": {},
     "output_type": "execute_result"
    }
   ],
   "source": [
    "# После заполнения медианой\n",
    "df_skips.loc[:, 'Rectal temperature'].fillna(df_skips['Rectal temperature'].median(), inplace=True)\n",
    "df_skips['Rectal temperature'].unique()"
   ]
  },
  {
   "cell_type": "code",
   "execution_count": 1020,
   "metadata": {
    "scrolled": true
   },
   "outputs": [
    {
     "data": {
      "text/plain": [
       "<AxesSubplot:xlabel='Rectal temperature', ylabel='Count'>"
      ]
     },
     "execution_count": 1020,
     "metadata": {},
     "output_type": "execute_result"
    },
    {
     "data": {
      "image/png": "[encoded data removed]",
      "text/plain": [
       "<Figure size 432x288 with 1 Axes>"
      ]
     },
     "metadata": {
      "needs_background": "light"
     },
     "output_type": "display_data"
    }
   ],
   "source": [
    "sea.histplot(df_skips['Rectal temperature'],bins=30)"
   ]
  },
  {
   "cell_type": "code",
   "execution_count": 1022,
   "metadata": {},
   "outputs": [
    {
     "data": {
      "text/plain": [
       "<AxesSubplot:xlabel='Pulse', ylabel='Count'>"
      ]
     },
     "execution_count": 1022,
     "metadata": {},
     "output_type": "execute_result"
    },
    {
     "data": {
      "image/png": "[encoded data removed]",
      "text/plain": [
       "<Figure size 432x288 with 1 Axes>"
      ]
     },
     "metadata": {
      "needs_background": "light"
     },
     "output_type": "display_data"
    }
   ],
   "source": [
    "sea.histplot(df_skips['Pulse'],bins=30)"
   ]
  },
  {
   "cell_type": "code",
   "execution_count": 1031,
   "metadata": {
    "scrolled": true
   },
   "outputs": [
    {
     "name": "stderr",
     "output_type": "stream",
     "text": [
      "C:\\Users\\vagin\\Anaconda3\\lib\\site-packages\\pandas\\core\\series.py:4517: SettingWithCopyWarning: \n",
      "A value is trying to be set on a copy of a slice from a DataFrame\n",
      "\n",
      "See the caveats in the documentation: https://pandas.pydata.org/pandas-docs/stable/user_guide/indexing.html#returning-a-view-versus-a-copy\n",
      "  return super().fillna(\n"
     ]
    },
    {
     "data": {
      "text/plain": [
       "<AxesSubplot:xlabel='Pulse', ylabel='Count'>"
      ]
     },
     "execution_count": 1031,
     "metadata": {},
     "output_type": "execute_result"
    },
    {
     "data": {
      "image/png": "[encoded data removed]",
      "text/plain": [
       "<Figure size 432x288 with 1 Axes>"
      ]
     },
     "metadata": {
      "needs_background": "light"
     },
     "output_type": "display_data"
    }
   ],
   "source": [
    "df_skips.loc[:,'Pulse'].fillna(df_skips['Pulse'].median(), inplace=True)\n",
    "df_skips['Pulse'].unique()\n",
    "sea.histplot(df_skips['Pulse'],bins=20)"
   ]
  },
  {
   "cell_type": "code",
   "execution_count": 1033,
   "metadata": {},
   "outputs": [
    {
     "data": {
      "text/plain": [
       "<AxesSubplot:xlabel='Respiratory rate', ylabel='Count'>"
      ]
     },
     "execution_count": 1033,
     "metadata": {},
     "output_type": "execute_result"
    },
    {
     "data": {
      "image/png": "[encoded data removed]",
      "text/plain": [
       "<Figure size 432x288 with 1 Axes>"
      ]
     },
     "metadata": {
      "needs_background": "light"
     },
     "output_type": "display_data"
    }
   ],
   "source": [
    "sea.histplot(df_skips['Respiratory rate'],bins=20)"
   ]
  },
  {
   "cell_type": "code",
   "execution_count": 1034,
   "metadata": {},
   "outputs": [
    {
     "name": "stderr",
     "output_type": "stream",
     "text": [
      "C:\\Users\\vagin\\Anaconda3\\lib\\site-packages\\pandas\\core\\series.py:4517: SettingWithCopyWarning: \n",
      "A value is trying to be set on a copy of a slice from a DataFrame\n",
      "\n",
      "See the caveats in the documentation: https://pandas.pydata.org/pandas-docs/stable/user_guide/indexing.html#returning-a-view-versus-a-copy\n",
      "  return super().fillna(\n"
     ]
    },
    {
     "data": {
      "text/plain": [
       "<AxesSubplot:xlabel='Respiratory rate', ylabel='Count'>"
      ]
     },
     "execution_count": 1034,
     "metadata": {},
     "output_type": "execute_result"
    },
    {
     "data": {
      "image/png": "[encoded data removed]",
      "text/plain": [
       "<Figure size 432x288 with 1 Axes>"
      ]
     },
     "metadata": {
      "needs_background": "light"
     },
     "output_type": "display_data"
    }
   ],
   "source": [
    "df_skips.loc[:,'Respiratory rate'].fillna(df_skips['Respiratory rate'].median(), inplace=True)\n",
    "sea.histplot(df_skips['Respiratory rate'],bins=20)"
   ]
  },
  {
   "cell_type": "code",
   "execution_count": 961,
   "metadata": {},
   "outputs": [
    {
     "data": {
      "text/plain": [
       "<AxesSubplot:xlabel='Temperature of extremities', ylabel='count'>"
      ]
     },
     "execution_count": 961,
     "metadata": {},
     "output_type": "execute_result"
    },
    {
     "data": {
      "image/png": "[encoded data removed]",
      "text/plain": [
       "<Figure size 432x288 with 1 Axes>"
      ]
     },
     "metadata": {
      "needs_background": "light"
     },
     "output_type": "display_data"
    }
   ],
   "source": [
    "# Категориальные стобцы заполняем модой \n",
    "sea.countplot(data=df_skips, x='Temperature of extremities')"
   ]
  },
  {
   "cell_type": "code",
   "execution_count": 1036,
   "metadata": {},
   "outputs": [
    {
     "data": {
      "text/plain": [
       "array(['Coll', 'Normal', 'Cold', 'Warm'], dtype=object)"
      ]
     },
     "execution_count": 1036,
     "metadata": {},
     "output_type": "execute_result"
    }
   ],
   "source": [
    "df_skips.loc[:,'Temperature of extremities'].fillna(df_skips['Temperature of extremities'].mode()[0], inplace=True)\n",
    "df_skips['Temperature of extremities'].unique()"
   ]
  },
  {
   "cell_type": "code",
   "execution_count": 1037,
   "metadata": {
    "scrolled": true
   },
   "outputs": [
    {
     "data": {
      "text/plain": [
       "<AxesSubplot:xlabel='Temperature of extremities', ylabel='count'>"
      ]
     },
     "execution_count": 1037,
     "metadata": {},
     "output_type": "execute_result"
    },
    {
     "data": {
      "image/png": "[encoded data removed]",
      "text/plain": [
       "<Figure size 432x288 with 1 Axes>"
      ]
     },
     "metadata": {
      "needs_background": "light"
     },
     "output_type": "display_data"
    }
   ],
   "source": [
    "sea.countplot(data=df_skips, x='Temperature of extremities')"
   ]
  },
  {
   "cell_type": "code",
   "execution_count": 1039,
   "metadata": {},
   "outputs": [
    {
     "name": "stderr",
     "output_type": "stream",
     "text": [
      "C:\\Users\\vagin\\Anaconda3\\lib\\site-packages\\pandas\\core\\series.py:4517: SettingWithCopyWarning: \n",
      "A value is trying to be set on a copy of a slice from a DataFrame\n",
      "\n",
      "See the caveats in the documentation: https://pandas.pydata.org/pandas-docs/stable/user_guide/indexing.html#returning-a-view-versus-a-copy\n",
      "  return super().fillna(\n"
     ]
    },
    {
     "data": {
      "text/plain": [
       "<AxesSubplot:xlabel='Pain', ylabel='count'>"
      ]
     },
     "execution_count": 1039,
     "metadata": {},
     "output_type": "execute_result"
    },
    {
     "data": {
      "image/png": "[encoded data removed]",
      "text/plain": [
       "<Figure size 432x288 with 1 Axes>"
      ]
     },
     "metadata": {
      "needs_background": "light"
     },
     "output_type": "display_data"
    }
   ],
   "source": [
    "df_skips.loc[:,'Pain'].fillna(df_skips['Pain'].mode()[0], inplace=True)\n",
    "sea.countplot(data=df_skips, x='Pain')"
   ]
  },
  {
   "cell_type": "code",
   "execution_count": 1040,
   "metadata": {},
   "outputs": [
    {
     "name": "stdout",
     "output_type": "stream",
     "text": [
      "<class 'pandas.core.frame.DataFrame'>\n",
      "RangeIndex: 299 entries, 0 to 298\n",
      "Data columns (total 8 columns):\n",
      " #   Column                      Non-Null Count  Dtype  \n",
      "---  ------                      --------------  -----  \n",
      " 0   Surgery                     299 non-null    object \n",
      " 1   Age                         299 non-null    object \n",
      " 2   Rectal temperature          299 non-null    float64\n",
      " 3   Pulse                       299 non-null    float64\n",
      " 4   Respiratory rate            299 non-null    float64\n",
      " 5   Temperature of extremities  299 non-null    object \n",
      " 6   Pain                        299 non-null    object \n",
      " 7   Outcome                     298 non-null    object \n",
      "dtypes: float64(3), object(5)\n",
      "memory usage: 18.8+ KB\n"
     ]
    }
   ],
   "source": [
    "# Итоговый df\n",
    "df_skips.info()"
   ]
  },
  {
   "cell_type": "code",
   "execution_count": null,
   "metadata": {},
   "outputs": [],
   "source": []
  }
 ],
 "metadata": {
  "kernelspec": {
   "display_name": "Python 3",
   "language": "python",
   "name": "python3"
  },
  "language_info": {
   "codemirror_mode": {
    "name": "ipython",
    "version": 3
   },
   "file_extension": ".py",
   "mimetype": "text/x-python",
   "name": "python",
   "nbconvert_exporter": "python",
   "pygments_lexer": "ipython3",
   "version": "3.8.5"
  }
 },
 "nbformat": 4,
 "nbformat_minor": 4
}
