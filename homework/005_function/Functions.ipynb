{
 "cells": [
  {
   "cell_type": "code",
   "execution_count": 27,
   "metadata": {},
   "outputs": [],
   "source": [
    "documents = [\n",
    " {'type': 'passport', 'number': '2207 876234', 'name': 'Василий Гупкин'},\n",
    " {'type': 'invoice', 'number': '11-2', 'name': 'Геннадий Покемонов'},\n",
    " {'type': 'insurance', 'number': '10006', 'name': 'Аристарх Павлов'}\n",
    "]\n",
    "#перечень полок, на которых хранятся документы (если документ есть в documents, то он обязательно должен быть и в directories)\n",
    "directories = {\n",
    " '1': ['2207 876234', '11-2'],\n",
    " '2': ['10006'],\n",
    " '3': []\n",
    "}\n"
   ]
  },
  {
   "cell_type": "code",
   "execution_count": 2,
   "metadata": {
    "scrolled": true
   },
   "outputs": [],
   "source": [
    "#Вывод владельца если документ найден\n",
    "\n",
    "def find_docs(doc):\n",
    "    for docs in documents:\n",
    "        if str(doc) == str(docs['number']):\n",
    "            return(docs['name'])\n",
    "    return\n",
    "# find_docs('11-2')"
   ]
  },
  {
   "cell_type": "code",
   "execution_count": 3,
   "metadata": {},
   "outputs": [],
   "source": [
    "# #Проверка места хранения документа\n",
    "\n",
    "def find_dir(doc):\n",
    "    for key, val in directories.items():\n",
    "        for i in val:\n",
    "            if str(i) == str(doc):\n",
    "                return(key)\n",
    "    return\n",
    " \n",
    "# find_dir('111-2')"
   ]
  },
  {
   "cell_type": "code",
   "execution_count": 4,
   "metadata": {
    "scrolled": true
   },
   "outputs": [],
   "source": [
    "#Вывод всей базы на экран\n",
    "\n",
    "def display_all():\n",
    "    for elem in documents:\n",
    "        print('№',elem['number'],',','Тип:', elem['type'],',', 'Владелец:', elem['name'],',', 'Полка хранения:№', find_dir(elem['number']))\n",
    "\n",
    "# display_all()"
   ]
  },
  {
   "cell_type": "code",
   "execution_count": 5,
   "metadata": {},
   "outputs": [],
   "source": [
    "# Добавление новой полки update([other])\n",
    "\n",
    "def add_dir(doc): \n",
    "    if str(doc) not in directories:\n",
    "        directories.update({doc:[]})\n",
    "        return (count_dir())\n",
    "    else:\n",
    "        return"
   ]
  },
  {
   "cell_type": "code",
   "execution_count": 6,
   "metadata": {},
   "outputs": [],
   "source": [
    "# Показывает текущее состояние полок\n",
    "\n",
    "def count_dir():\n",
    "    return(list(directories.keys()))\n"
   ]
  },
  {
   "cell_type": "code",
   "execution_count": 31,
   "metadata": {},
   "outputs": [],
   "source": [
    "def remove_dir(doc):\n",
    "    if str(doc) in directories:\n",
    "        if len(directories.get(doc)) != 0:\n",
    "            print('На полке есть документы, удалите их перед удалением полки. Текущий перечень полок: ', count_dir())\n",
    "            return\n",
    "        del directories[doc]\n",
    "        print('Полка удалена. Текущий перечень полок:', count_dir())\n",
    "        return\n",
    "    print('Такой полки не существует. Текущий перечень полок:', count_dir())\n"
   ]
  },
  {
   "cell_type": "code",
   "execution_count": null,
   "metadata": {
    "scrolled": true
   },
   "outputs": [
    {
     "name": "stdout",
     "output_type": "stream",
     "text": [
      "Введите команду: as\n",
      "Введите номер полки для добавления: 5\n",
      "Полка добавлена. Текущий перечень полок:  ['1', '2', '5']\n",
      "Введите команду: as\n",
      "Введите номер полки для добавления: 6\n",
      "Полка добавлена. Текущий перечень полок:  ['1', '2', '5', '6']\n",
      "Введите команду: ds\n",
      "Введите номер полки: 1\n",
      "На полке есть документы, удалите их перед удалением полки. Текущий перечень полок:  ['1', '2', '5', '6']\n",
      "None\n",
      "Введите команду: ds\n",
      "Введите номер полки: 5\n",
      "Полка удалена. Текущий перечень полок: ['1', '2', '6']\n",
      "None\n",
      "Введите команду: ds\n",
      "Введите номер полки: 8\n",
      "Такой полки не существует. Текущий перечень полок: ['1', '2', '6']\n",
      "None\n"
     ]
    }
   ],
   "source": [
    "def main():\n",
    "    commands = {\n",
    "        '1': 'p',\n",
    "        '2': 's',\n",
    "        '3': 'q',\n",
    "        '4': 'l',\n",
    "        '5': 'as',\n",
    "        '6': 'ds'\n",
    "    }\n",
    "    while True:\n",
    "            user_input = input(str('Введите команду: '))\n",
    "            if user_input not in commands.values():\n",
    "                print('Нет такой команды.')\n",
    "            else: \n",
    "                if user_input == 'q':\n",
    "                    print('До свидания!')\n",
    "                    break\n",
    "                elif user_input == str('l'):\n",
    "                    display_all()\n",
    "                elif user_input == str('p'):\n",
    "                    user_input_doc = input(str('Введите документ: '))\n",
    "                    if find_docs(user_input_doc):\n",
    "                        print('Владелец документа: ', find_docs(user_input_doc))\n",
    "                    else:\n",
    "                        print('Документ в базе не найден.')\n",
    "                elif user_input == str('s'):\n",
    "                    user_input_doc = input(str('Введите документ: '))\n",
    "                    if find_dir(user_input_doc):\n",
    "                        print('Документ храниться на полке №', find_dir(user_input_doc))\n",
    "                    else:\n",
    "                        print('Документ в базе не найден.')\n",
    "                elif user_input == str('as'):\n",
    "                    user_input_doc = input(str('Введите номер полки для добавления: '))\n",
    "                    if add_dir(user_input_doc):\n",
    "                        print('Полка добавлена. Текущий перечень полок: ', count_dir())\n",
    "                    else:\n",
    "                        print('Такая полка уже существует. Текущий перечень полок: ', count_dir())\n",
    "                elif user_input == str('ds'):\n",
    "                    user_input_doc = input(str('Введите номер полки: '))\n",
    "                    print(remove_dir(user_input_doc))  \n",
    "                        \n",
    "\n",
    "                        \n",
    "main()"
   ]
  }
 ],
 "metadata": {
  "kernelspec": {
   "display_name": "Python 3",
   "language": "python",
   "name": "python3"
  },
  "language_info": {
   "codemirror_mode": {
    "name": "ipython",
    "version": 3
   },
   "file_extension": ".py",
   "mimetype": "text/x-python",
   "name": "python",
   "nbconvert_exporter": "python",
   "pygments_lexer": "ipython3",
   "version": "3.8.5"
  }
 },
 "nbformat": 4,
 "nbformat_minor": 4
}
