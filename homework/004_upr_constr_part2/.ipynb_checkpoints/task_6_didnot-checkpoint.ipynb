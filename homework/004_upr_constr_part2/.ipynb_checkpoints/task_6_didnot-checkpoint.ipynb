{
 "cells": [
  {
   "cell_type": "markdown",
   "metadata": {},
   "source": [
    "Задание 6 (необязательно)\n",
    "Дана книга рецептов с информацией о том, сколько ингредиентов нужно для приготовления блюда в расчете на одну порцию (пример данных представлен ниже).\n",
    "Напишите программу, которая будет запрашивать у пользователя количество порций для приготовления этих блюд и отображать информацию о суммарном количестве требуемых ингредиентов в указанном виде.\n",
    "\n",
    "Пример работы программы:\n",
    "\n",
    "Введите количество порций:\n",
    "3\n",
    "Результат:\n",
    "\n",
    "Сыр: 210 гр\n",
    "Томаты: 6 шт\n",
    "Огурцы: 60 гр\n",
    "Маслины: 30 гр\n",
    "Оливковое Масло: 60 мл\n",
    "Салат: 30 гр\n",
    "Перец: 60 гр\n",
    "Колбаса: 90 гр\n",
    "Бекон: 90 гр\n",
    "Оливки: 30 гр\n",
    "Томаты: 60 гр\n",
    "Тесто: 300 гр\n",
    "Лимон: 3 шт\n",
    "Вода: 600 мл\n",
    "Сахар: 30 гр\n",
    "Лайм: 60 гр"
   ]
  },
  {
   "cell_type": "code",
   "execution_count": 5,
   "metadata": {},
   "outputs": [
    {
     "name": "stdout",
     "output_type": "stream",
     "text": [
      "салат\n",
      "['сыр', 50, 'гр', 'томаты', 2, 'шт', 'огурцы', 20, 'гр', 'маслины', 10, 'гр', 'оливковое масло', 20, 'мл', 'салат', 10, 'гр', 'перец', 20, 'гр']\n",
      "пицца\n",
      "['сыр', 50, 'гр', 'томаты', 2, 'шт', 'огурцы', 20, 'гр', 'маслины', 10, 'гр', 'оливковое масло', 20, 'мл', 'салат', 10, 'гр', 'перец', 20, 'гр', 'сыр', 20, 'гр', 'колбаса', 30, 'гр', 'бекон', 30, 'гр', 'оливки', 10, 'гр', 'томаты', 20, 'гр', 'тесто', 100, 'гр']\n",
      "лимонад\n",
      "['сыр', 50, 'гр', 'томаты', 2, 'шт', 'огурцы', 20, 'гр', 'маслины', 10, 'гр', 'оливковое масло', 20, 'мл', 'салат', 10, 'гр', 'перец', 20, 'гр', 'сыр', 20, 'гр', 'колбаса', 30, 'гр', 'бекон', 30, 'гр', 'оливки', 10, 'гр', 'томаты', 20, 'гр', 'тесто', 100, 'гр', 'лимон', 1, 'шт', 'вода', 200, 'мл', 'сахар', 10, 'гр', 'лайм', 20, 'гр']\n"
     ]
    }
   ],
   "source": [
    "\n",
    "cook_book = {\n",
    "'салат': [\n",
    "{'ingridient_name': 'сыр', 'quantity': 50, 'measure': 'гр'},\n",
    "{'ingridient_name': 'томаты', 'quantity': 2, 'measure': 'шт'},\n",
    "{'ingridient_name': 'огурцы', 'quantity': 20, 'measure': 'гр'},\n",
    "{'ingridient_name': 'маслины', 'quantity': 10, 'measure': 'гр'},\n",
    "{'ingridient_name': 'оливковое масло', 'quantity': 20, 'measure': 'мл'},\n",
    "{'ingridient_name': 'салат', 'quantity': 10, 'measure': 'гр'},\n",
    "{'ingridient_name': 'перец', 'quantity': 20, 'measure': 'гр'}\n",
    "],\n",
    "'пицца': [\n",
    "{'ingridient_name': 'сыр', 'quantity': 20, 'measure': 'гр'},\n",
    "{'ingridient_name': 'колбаса', 'quantity': 30, 'measure': 'гр'},\n",
    "{'ingridient_name': 'бекон', 'quantity': 30, 'measure': 'гр'},\n",
    "{'ingridient_name': 'оливки', 'quantity': 10, 'measure': 'гр'},\n",
    "{'ingridient_name': 'томаты', 'quantity': 20, 'measure': 'гр'},\n",
    "{'ingridient_name': 'тесто', 'quantity': 100, 'measure': 'гр'},\n",
    "],\n",
    "'лимонад': [\n",
    "{'ingridient_name': 'лимон', 'quantity': 1, 'measure': 'шт'},\n",
    "{'ingridient_name': 'вода', 'quantity': 200, 'measure': 'мл'},\n",
    "{'ingridient_name': 'сахар', 'quantity': 10, 'measure': 'гр'},\n",
    "{'ingridient_name': 'лайм', 'quantity': 20, 'measure': 'гр'},\n",
    "]\n",
    "}\n",
    "\n",
    "# person = int(input('Введите количество персон: '))\n",
    "l = []\n",
    "for key, val in cook_book.items():\n",
    "    print(key)\n",
    "    for lst in val:\n",
    "        for line in lst:\n",
    "            l.append(lst[line])\n",
    "    print(l)\n",
    "   \n",
    "            \n",
    " "
   ]
  }
 ],
 "metadata": {
  "kernelspec": {
   "display_name": "Python 3",
   "language": "python",
   "name": "python3"
  },
  "language_info": {
   "codemirror_mode": {
    "name": "ipython",
    "version": 3
   },
   "file_extension": ".py",
   "mimetype": "text/x-python",
   "name": "python",
   "nbconvert_exporter": "python",
   "pygments_lexer": "ipython3",
   "version": "3.8.5"
  }
 },
 "nbformat": 4,
 "nbformat_minor": 4
}
