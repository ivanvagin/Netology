{
 "cells": [
  {
   "cell_type": "markdown",
   "metadata": {},
   "source": [
    "### Задание 2.\n",
    "Обязательная часть\n",
    "Написать скрипт, который будет проверять список e-mail адресов на утечку при помощи сервиса Avast Hack Ckeck. Список email-ов задаем переменной в начале кода:\n",
    "EMAIL = [xxx@x.ru, yyy@y.com]\n",
    "\n",
    "В итоге должен формироваться датафрейм со столбцами: <дата утечки> - <источник утечки> - <описание утечки>\n",
    "\n",
    "Подсказка: сервис работает при помощи \"скрытого\" API. Внимательно изучите post-запросы."
   ]
  },
  {
   "cell_type": "code",
   "execution_count": 580,
   "metadata": {},
   "outputs": [],
   "source": [
    "import pandas as pd\n",
    "import requests\n",
    "from bs4 import BeautifulSoup\n",
    "from datetime import datetime\n",
    "import json"
   ]
  },
  {
   "cell_type": "code",
   "execution_count": 581,
   "metadata": {},
   "outputs": [],
   "source": [
    "url = 'https://identityprotection.avast.com/v1/web/query/site-breaches/unauthorized-data'\n",
    "\n",
    "headers_ = {\n",
    "    'Vaar-Header-App-Build-Version': '1.0.0',\n",
    "    'Vaar-Header-App-Product': 'hackcheck-web-avast',\n",
    "    'Vaar-Header-App-Product-Name': 'hackcheck-web-avast',\n",
    "    'Vaar-Version': '0'\n",
    "}\n",
    "emails = {\n",
    "    'emailAddresses': [\"ivan.vagin@mail.ru\", 'viv_2005@mail.ru', 'xxx@x.ru', 'yyy@y.com']\n",
    "}"
   ]
  },
  {
   "cell_type": "code",
   "execution_count": 582,
   "metadata": {},
   "outputs": [],
   "source": [
    "res = requests.post(url, json=emails, headers=headers_)"
   ]
  },
  {
   "cell_type": "code",
   "execution_count": 583,
   "metadata": {},
   "outputs": [],
   "source": [
    "res_dict = (json.loads(res.text)) # Преобразуем Response  в словарь dict"
   ]
  },
  {
   "cell_type": "code",
   "execution_count": 586,
   "metadata": {},
   "outputs": [],
   "source": [
    "res_leaked = pd.DataFrame()\n",
    "\n",
    "for line in res_dict['summary']:# проходим все email в полученном словаре\n",
    "    for breach in res_dict['summary'][line]['breaches']:# в полученных email собираем записи id  утечек\n",
    "        for el in res_dict['breaches']: #для каждой утечки собираем данные для нашего DF\n",
    "            \n",
    "            data = res_dict['breaches'][el]['publishDate']\n",
    "            info = res_dict['breaches'][el]['description']\n",
    "            site = res_dict['breaches'][el]['site']\n",
    "            email = line\n",
    "            row = {'emails': email, 'data': data, 'breachId': line, 'site':site, 'info of leak': info}\n",
    "            res_leaked = pd.concat([res_leaked, pd.DataFrame([row])])\n",
    "            \n",
    "    "
   ]
  },
  {
   "cell_type": "code",
   "execution_count": 587,
   "metadata": {},
   "outputs": [
    {
     "data": {
      "text/html": [
       "<div>\n",
       "<style scoped>\n",
       "    .dataframe tbody tr th:only-of-type {\n",
       "        vertical-align: middle;\n",
       "    }\n",
       "\n",
       "    .dataframe tbody tr th {\n",
       "        vertical-align: top;\n",
       "    }\n",
       "\n",
       "    .dataframe thead th {\n",
       "        text-align: right;\n",
       "    }\n",
       "</style>\n",
       "<table border=\"1\" class=\"dataframe\">\n",
       "  <thead>\n",
       "    <tr style=\"text-align: right;\">\n",
       "      <th></th>\n",
       "      <th>emails</th>\n",
       "      <th>data</th>\n",
       "      <th>breachId</th>\n",
       "      <th>site</th>\n",
       "      <th>info of leak</th>\n",
       "    </tr>\n",
       "  </thead>\n",
       "  <tbody>\n",
       "    <tr>\n",
       "      <th>0</th>\n",
       "      <td>ivan.vagin@mail.ru</td>\n",
       "      <td>2016-10-21T00:00:00Z</td>\n",
       "      <td>ivan.vagin@mail.ru</td>\n",
       "      <td>linkedin.com</td>\n",
       "      <td>In 2012, online professional networking platfo...</td>\n",
       "    </tr>\n",
       "    <tr>\n",
       "      <th>0</th>\n",
       "      <td>ivan.vagin@mail.ru</td>\n",
       "      <td>2016-10-21T00:00:00Z</td>\n",
       "      <td>ivan.vagin@mail.ru</td>\n",
       "      <td>adobe.com</td>\n",
       "      <td>In October of 2013, criminals penetrated Adobe...</td>\n",
       "    </tr>\n",
       "    <tr>\n",
       "      <th>0</th>\n",
       "      <td>ivan.vagin@mail.ru</td>\n",
       "      <td>2016-10-29T00:00:00Z</td>\n",
       "      <td>ivan.vagin@mail.ru</td>\n",
       "      <td>vk.com</td>\n",
       "      <td>Popular Russian social networking platform VKo...</td>\n",
       "    </tr>\n",
       "    <tr>\n",
       "      <th>0</th>\n",
       "      <td>ivan.vagin@mail.ru</td>\n",
       "      <td>2016-10-23T00:00:00Z</td>\n",
       "      <td>ivan.vagin@mail.ru</td>\n",
       "      <td>imesh.com</td>\n",
       "      <td>In June 2016, a cache of over 51 million user ...</td>\n",
       "    </tr>\n",
       "    <tr>\n",
       "      <th>0</th>\n",
       "      <td>ivan.vagin@mail.ru</td>\n",
       "      <td>2016-10-24T00:00:00Z</td>\n",
       "      <td>ivan.vagin@mail.ru</td>\n",
       "      <td>dropbox.com</td>\n",
       "      <td>Cloud storage company Dropbox suffered a major...</td>\n",
       "    </tr>\n",
       "    <tr>\n",
       "      <th>...</th>\n",
       "      <td>...</td>\n",
       "      <td>...</td>\n",
       "      <td>...</td>\n",
       "      <td>...</td>\n",
       "      <td>...</td>\n",
       "    </tr>\n",
       "    <tr>\n",
       "      <th>0</th>\n",
       "      <td>yyy@y.com</td>\n",
       "      <td>2020-01-03T00:00:00Z</td>\n",
       "      <td>yyy@y.com</td>\n",
       "      <td>azcentral.com</td>\n",
       "      <td>At an unconfirmed date, online Arizona newspap...</td>\n",
       "    </tr>\n",
       "    <tr>\n",
       "      <th>0</th>\n",
       "      <td>yyy@y.com</td>\n",
       "      <td>2020-05-07T00:00:00Z</td>\n",
       "      <td>yyy@y.com</td>\n",
       "      <td>procapital.ru</td>\n",
       "      <td>At an unconfirmed date, the Russian investment...</td>\n",
       "    </tr>\n",
       "    <tr>\n",
       "      <th>0</th>\n",
       "      <td>yyy@y.com</td>\n",
       "      <td>2020-05-28T00:00:00Z</td>\n",
       "      <td>yyy@y.com</td>\n",
       "      <td>wishbone.io</td>\n",
       "      <td>In January 2020, the online poll website Wishb...</td>\n",
       "    </tr>\n",
       "    <tr>\n",
       "      <th>0</th>\n",
       "      <td>yyy@y.com</td>\n",
       "      <td>2020-10-22T00:00:00Z</td>\n",
       "      <td>yyy@y.com</td>\n",
       "      <td>ozon.ru</td>\n",
       "      <td>At an unconfirmed date, the Russian online sto...</td>\n",
       "    </tr>\n",
       "    <tr>\n",
       "      <th>0</th>\n",
       "      <td>yyy@y.com</td>\n",
       "      <td>2021-02-11T00:00:00Z</td>\n",
       "      <td>yyy@y.com</td>\n",
       "      <td>forums.vkmonline.com</td>\n",
       "      <td>At an unconfirmed date, the Russian-language m...</td>\n",
       "    </tr>\n",
       "  </tbody>\n",
       "</table>\n",
       "<p>483 rows × 5 columns</p>\n",
       "</div>"
      ],
      "text/plain": [
       "                emails                  data            breachId  \\\n",
       "0   ivan.vagin@mail.ru  2016-10-21T00:00:00Z  ivan.vagin@mail.ru   \n",
       "0   ivan.vagin@mail.ru  2016-10-21T00:00:00Z  ivan.vagin@mail.ru   \n",
       "0   ivan.vagin@mail.ru  2016-10-29T00:00:00Z  ivan.vagin@mail.ru   \n",
       "0   ivan.vagin@mail.ru  2016-10-23T00:00:00Z  ivan.vagin@mail.ru   \n",
       "0   ivan.vagin@mail.ru  2016-10-24T00:00:00Z  ivan.vagin@mail.ru   \n",
       "..                 ...                   ...                 ...   \n",
       "0            yyy@y.com  2020-01-03T00:00:00Z           yyy@y.com   \n",
       "0            yyy@y.com  2020-05-07T00:00:00Z           yyy@y.com   \n",
       "0            yyy@y.com  2020-05-28T00:00:00Z           yyy@y.com   \n",
       "0            yyy@y.com  2020-10-22T00:00:00Z           yyy@y.com   \n",
       "0            yyy@y.com  2021-02-11T00:00:00Z           yyy@y.com   \n",
       "\n",
       "                    site                                       info of leak  \n",
       "0           linkedin.com  In 2012, online professional networking platfo...  \n",
       "0              adobe.com  In October of 2013, criminals penetrated Adobe...  \n",
       "0                 vk.com  Popular Russian social networking platform VKo...  \n",
       "0              imesh.com  In June 2016, a cache of over 51 million user ...  \n",
       "0            dropbox.com  Cloud storage company Dropbox suffered a major...  \n",
       "..                   ...                                                ...  \n",
       "0          azcentral.com  At an unconfirmed date, online Arizona newspap...  \n",
       "0          procapital.ru  At an unconfirmed date, the Russian investment...  \n",
       "0            wishbone.io  In January 2020, the online poll website Wishb...  \n",
       "0                ozon.ru  At an unconfirmed date, the Russian online sto...  \n",
       "0   forums.vkmonline.com  At an unconfirmed date, the Russian-language m...  \n",
       "\n",
       "[483 rows x 5 columns]"
      ]
     },
     "execution_count": 587,
     "metadata": {},
     "output_type": "execute_result"
    }
   ],
   "source": [
    "res_leaked\n"
   ]
  },
  {
   "cell_type": "markdown",
   "metadata": {},
   "source": [
    "### Почему так не работает ? "
   ]
  },
  {
   "cell_type": "code",
   "execution_count": 393,
   "metadata": {},
   "outputs": [
    {
     "ename": "KeyError",
     "evalue": "3858",
     "output_type": "error",
     "traceback": [
      "\u001b[1;31m---------------------------------------------------------------------------\u001b[0m",
      "\u001b[1;31mKeyError\u001b[0m                                  Traceback (most recent call last)",
      "\u001b[1;32m<ipython-input-393-56add3fb54f3>\u001b[0m in \u001b[0;36m<module>\u001b[1;34m\u001b[0m\n\u001b[0;32m      4\u001b[0m \u001b[1;32mfor\u001b[0m \u001b[0mline\u001b[0m \u001b[1;32min\u001b[0m \u001b[0mres_dict\u001b[0m\u001b[1;33m[\u001b[0m\u001b[1;34m'summary'\u001b[0m\u001b[1;33m]\u001b[0m\u001b[1;33m:\u001b[0m\u001b[1;31m# проходим все email в полученном json\u001b[0m\u001b[1;33m\u001b[0m\u001b[1;33m\u001b[0m\u001b[0m\n\u001b[0;32m      5\u001b[0m     \u001b[1;32mfor\u001b[0m \u001b[0mbreach\u001b[0m \u001b[1;32min\u001b[0m \u001b[0mres_dict\u001b[0m\u001b[1;33m[\u001b[0m\u001b[1;34m'summary'\u001b[0m\u001b[1;33m]\u001b[0m\u001b[1;33m[\u001b[0m\u001b[0mline\u001b[0m\u001b[1;33m]\u001b[0m\u001b[1;33m[\u001b[0m\u001b[1;34m'breaches'\u001b[0m\u001b[1;33m]\u001b[0m\u001b[1;33m:\u001b[0m\u001b[1;31m# в полученных email собираем записи id  утечек\u001b[0m\u001b[1;33m\u001b[0m\u001b[1;33m\u001b[0m\u001b[0m\n\u001b[1;32m----> 6\u001b[1;33m         \u001b[0mdata\u001b[0m \u001b[1;33m=\u001b[0m \u001b[0mres_dict\u001b[0m\u001b[1;33m[\u001b[0m\u001b[1;34m'breaches'\u001b[0m\u001b[1;33m]\u001b[0m\u001b[1;33m[\u001b[0m\u001b[0mbreach\u001b[0m\u001b[1;33m]\u001b[0m\u001b[1;33m[\u001b[0m\u001b[1;34m'publishDate'\u001b[0m\u001b[1;33m]\u001b[0m \u001b[1;31m#вызывает keyerror переданный сюда breach\u001b[0m\u001b[1;33m\u001b[0m\u001b[1;33m\u001b[0m\u001b[0m\n\u001b[0m\u001b[0;32m      7\u001b[0m         \u001b[0minfo\u001b[0m \u001b[1;33m=\u001b[0m \u001b[0mres_dict\u001b[0m\u001b[1;33m[\u001b[0m\u001b[1;34m'breaches'\u001b[0m\u001b[1;33m]\u001b[0m\u001b[1;33m[\u001b[0m\u001b[0mbreach\u001b[0m\u001b[1;33m]\u001b[0m\u001b[1;33m[\u001b[0m\u001b[1;34m'description'\u001b[0m\u001b[1;33m]\u001b[0m\u001b[1;33m\u001b[0m\u001b[1;33m\u001b[0m\u001b[0m\n\u001b[0;32m      8\u001b[0m         \u001b[0msite\u001b[0m \u001b[1;33m=\u001b[0m \u001b[0mres_dict\u001b[0m\u001b[1;33m[\u001b[0m\u001b[1;34m'breaches'\u001b[0m\u001b[1;33m]\u001b[0m\u001b[1;33m[\u001b[0m\u001b[0mbreach\u001b[0m\u001b[1;33m]\u001b[0m\u001b[1;33m[\u001b[0m\u001b[1;34m'site'\u001b[0m\u001b[1;33m]\u001b[0m\u001b[1;33m\u001b[0m\u001b[1;33m\u001b[0m\u001b[0m\n",
      "\u001b[1;31mKeyError\u001b[0m: 3858"
     ]
    }
   ],
   "source": [
    "res_leaked = pd.DataFrame()\n",
    "\n",
    "for line in res_dict['summary']:\n",
    "    for breach in res_dict['summary'][line]['breaches']:\n",
    "        data = res_dict['breaches'][breach]['publishDate'] #вызывает keyerror переданный сюда breach\n",
    "        info = res_dict['breaches'][breach]['description']\n",
    "        site = res_dict['breaches'][breach]['site']\n",
    "        email = line\n",
    "\n",
    "        res_leaked = pd.concat([res_leaked, pd.DataFrame([row])])\n",
    "        row = {'emails': email, 'data': data, 'breachId': line, 'site':site, 'info of leak': info}"
   ]
  },
  {
   "cell_type": "code",
   "execution_count": 395,
   "metadata": {},
   "outputs": [
    {
     "data": {
      "text/plain": [
       "'2017-04-14T00:00:00Z'"
      ]
     },
     "execution_count": 395,
     "metadata": {},
     "output_type": "execute_result"
    }
   ],
   "source": [
    "#Вне цикла с указанным breach все работает \n",
    "data = res_dict['breaches']['3858']['publishDate']\n",
    "data"
   ]
  },
  {
   "cell_type": "code",
   "execution_count": null,
   "metadata": {},
   "outputs": [],
   "source": []
  },
  {
   "cell_type": "code",
   "execution_count": null,
   "metadata": {},
   "outputs": [],
   "source": []
  },
  {
   "cell_type": "markdown",
   "metadata": {},
   "source": [
    "### Дополнительная часть (необязательная)\n",
    "Написать скрипт, который будет получать 50 последних постов указанной группы во Вконтакте.\n",
    "Документация к API VK: https://vk.com/dev/methods , вам поможет метод wall.get\n",
    "\n",
    "GROUP = 'netology'  \n",
    "TOKEN = УДАЛЯЙТЕ В ВЕРСИИ ДЛЯ ПРОВЕРКИ, НА GITHUB НЕ ВЫКЛАДЫВАТЬ\n",
    "В итоге должен формироваться датафрейм со столбцами: <дата поста> - <текст поста>"
   ]
  },
  {
   "cell_type": "code",
   "execution_count": 432,
   "metadata": {},
   "outputs": [],
   "source": [
    "group = 'https://vk.com/netology'"
   ]
  },
  {
   "cell_type": "code",
   "execution_count": 462,
   "metadata": {},
   "outputs": [],
   "source": [
    "url = 'https://api.vk.com/method/wall.get'\n",
    "with open('C:/Netology/token_vk.txt', 'r') as file_object:\n",
    "    TOKEN = file_object.read().strip()\n",
    "VERSION = '5.131'\n",
    "SLEEP = 0.33"
   ]
  },
  {
   "cell_type": "code",
   "execution_count": 572,
   "metadata": {},
   "outputs": [],
   "source": [
    "params = {\n",
    "    'access_token': TOKEN,\n",
    "    'v': VERSION,\n",
    "    'count': 50,\n",
    "    'filter': 'all',\n",
    "    #'domain': group #Без owner_id не работает\n",
    "    'owner_id': '-30159897'\n",
    "}"
   ]
  },
  {
   "cell_type": "code",
   "execution_count": 575,
   "metadata": {},
   "outputs": [],
   "source": [
    "res_vk = requests.get(url, params)"
   ]
  },
  {
   "cell_type": "code",
   "execution_count": 576,
   "metadata": {},
   "outputs": [],
   "source": [
    "res_vk = (json.loads(res_vk.text)) # Преобразуем Response  в словарь dict"
   ]
  },
  {
   "cell_type": "code",
   "execution_count": 578,
   "metadata": {},
   "outputs": [
    {
     "data": {
      "text/html": [
       "<div>\n",
       "<style scoped>\n",
       "    .dataframe tbody tr th:only-of-type {\n",
       "        vertical-align: middle;\n",
       "    }\n",
       "\n",
       "    .dataframe tbody tr th {\n",
       "        vertical-align: top;\n",
       "    }\n",
       "\n",
       "    .dataframe thead th {\n",
       "        text-align: right;\n",
       "    }\n",
       "</style>\n",
       "<table border=\"1\" class=\"dataframe\">\n",
       "  <thead>\n",
       "    <tr style=\"text-align: right;\">\n",
       "      <th></th>\n",
       "      <th>date</th>\n",
       "      <th>text</th>\n",
       "    </tr>\n",
       "  </thead>\n",
       "  <tbody>\n",
       "    <tr>\n",
       "      <th>0</th>\n",
       "      <td>2021-06-22 07:27:00</td>\n",
       "      <td>🌐 26 июня состоится бесплатный митап по тренда...</td>\n",
       "    </tr>\n",
       "    <tr>\n",
       "      <th>0</th>\n",
       "      <td>2021-06-16 06:30:02</td>\n",
       "      <td>Ну что, уже чувствуете себя Индианой Джонсом? ...</td>\n",
       "    </tr>\n",
       "    <tr>\n",
       "      <th>0</th>\n",
       "      <td>2021-07-05 07:47:00</td>\n",
       "      <td>12 июля стартует курс «Python-разработка для н...</td>\n",
       "    </tr>\n",
       "    <tr>\n",
       "      <th>0</th>\n",
       "      <td>2021-06-20 08:15:00</td>\n",
       "      <td>Если это лето вы собираетесь провести не на пл...</td>\n",
       "    </tr>\n",
       "    <tr>\n",
       "      <th>0</th>\n",
       "      <td>2021-06-24 08:25:00</td>\n",
       "      <td>И снова рассказываем о наших выпускниках 🔥 \\n ...</td>\n",
       "    </tr>\n",
       "  </tbody>\n",
       "</table>\n",
       "</div>"
      ],
      "text/plain": [
       "                 date                                               text\n",
       "0 2021-06-22 07:27:00  🌐 26 июня состоится бесплатный митап по тренда...\n",
       "0 2021-06-16 06:30:02  Ну что, уже чувствуете себя Индианой Джонсом? ...\n",
       "0 2021-07-05 07:47:00  12 июля стартует курс «Python-разработка для н...\n",
       "0 2021-06-20 08:15:00  Если это лето вы собираетесь провести не на пл...\n",
       "0 2021-06-24 08:25:00  И снова рассказываем о наших выпускниках 🔥 \\n ..."
      ]
     },
     "execution_count": 578,
     "metadata": {},
     "output_type": "execute_result"
    }
   ],
   "source": [
    "vk_group_wall = pd.DataFrame()\n",
    "data  = res_vk['response']['items'] # В data  сохраняем список элементов из словаря для последующего перебора в цикле \n",
    "\n",
    "for line in data:\n",
    "    date = line['date'] # как  можно  на этом этапе сразу сделать перевод date из unixtime ?\n",
    "    text = line['text']\n",
    "    row = {'date': date, 'text': text}\n",
    "    vk_group_wall = pd.concat([vk_group_wall, pd.DataFrame([row])])\n",
    "\n",
    "vk_group_wall['date'] = pd.to_datetime(vk_group_wall['date'], unit='s')\n",
    "\n",
    "vk_group_wall.sample(5)\n",
    "\n",
    "#vk_group_wall.iloc[5]['text'] #для проверки просмотр ячейки"
   ]
  }
 ],
 "metadata": {
  "kernelspec": {
   "display_name": "Python 3",
   "language": "python",
   "name": "python3"
  },
  "language_info": {
   "codemirror_mode": {
    "name": "ipython",
    "version": 3
   },
   "file_extension": ".py",
   "mimetype": "text/x-python",
   "name": "python",
   "nbconvert_exporter": "python",
   "pygments_lexer": "ipython3",
   "version": "3.8.5"
  }
 },
 "nbformat": 4,
 "nbformat_minor": 4
}
