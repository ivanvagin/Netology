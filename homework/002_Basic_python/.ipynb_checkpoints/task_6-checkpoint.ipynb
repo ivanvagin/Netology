{
 "cells": [
  {
   "cell_type": "code",
   "execution_count": 70,
   "metadata": {},
   "outputs": [
    {
     "name": "stdout",
     "output_type": "stream",
     "text": [
      "Введите тип фигуры: Круг, Прямоугольник или Треугольник.Треугольник\n",
      "Введите длину стороны A: 2\n",
      "Введите длину стороны B: 2\n",
      "Введите длину стороны C: 3\n",
      "Площадь Треугольника равна:   1.98\n"
     ]
    }
   ],
   "source": [
    "#Программа вычисления площади фигуры\n",
    "import math\n",
    "figure = input('Введите тип фигуры: Круг, Прямоугольник или Треугольник.')\n",
    "\n",
    "if figure == \"Круг\":\n",
    "    radius = int(input(\"Введите радиус: \"))\n",
    "    print('Площадь Круга равна: ', math.pi * (radius ** 2))\n",
    "\n",
    "if figure == \"Прямоугольник\":\n",
    "    dlina = int(input(\"Введите длину: \"))\n",
    "    shirina = int(input(\"Введите ширину: \"))\n",
    "    print('Площадь Прямоугольника равна: ', dlina * shirina)\n",
    "\n",
    "if figure == \"Треугольник\":\n",
    "    storona_a = int(input(\"Введите длину стороны A: \"))\n",
    "    storona_b = int(input(\"Введите длину стороны B: \"))\n",
    "    storona_c = int(input(\"Введите длину стороны C: \"))\n",
    "    perimetr = ((storona_a + storona_b + storona_c)/2)\n",
    "    \n",
    "#Проверяем на отрицательное число если одна из сторон больше полупериметра или на площадь равно 0 если сторона равна полупериметру\n",
    "    if storona_a > perimetr or storona_b > perimetr or storona_c > perimetr or storona_a == perimetr or storona_b == perimetr or storona_c == perimetr :\n",
    "        print('Несуществующий треугольник, измените данные!')\n",
    "    else:\n",
    "        square = round(math.sqrt(perimetr * (perimetr - storona_a) * (perimetr - storona_b) * (perimetr - storona_c)),2)\n",
    "        print('Площадь Треугольника равна:  ', square)"
   ]
  }
 ],
 "metadata": {
  "kernelspec": {
   "display_name": "Python 3",
   "language": "python",
   "name": "python3"
  },
  "language_info": {
   "codemirror_mode": {
    "name": "ipython",
    "version": 3
   },
   "file_extension": ".py",
   "mimetype": "text/x-python",
   "name": "python",
   "nbconvert_exporter": "python",
   "pygments_lexer": "ipython3",
   "version": "3.8.5"
  }
 },
 "nbformat": 4,
 "nbformat_minor": 4
}
