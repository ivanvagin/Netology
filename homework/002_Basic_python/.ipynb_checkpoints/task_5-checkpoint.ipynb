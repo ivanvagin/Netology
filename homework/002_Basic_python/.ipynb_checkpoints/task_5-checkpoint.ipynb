{
 "cells": [
  {
   "cell_type": "code",
   "execution_count": 108,
   "metadata": {},
   "outputs": [
    {
     "name": "stdout",
     "output_type": "stream",
     "text": [
      "Введите номер билета (6знаков): 324486\n",
      "НЕсчастливый билет.\n"
     ]
    }
   ],
   "source": [
    "# Определение счатсливого билета\n",
    "number =input(\"Введите номер билета (6 знаков):  \")\n",
    "#Из введенного числа выбираем посимвольно и переводим в int для сложения\n",
    "if int(number[0]) + int(number[1]) + int(number[2]) == int(number[3]) + int(number[4]) + int(number[5]):\n",
    "    print ('Счастливый билет!')\n",
    "else:\n",
    "    print('Несчастливый билет.')\n"
   ]
  }
 ],
 "metadata": {
  "kernelspec": {
   "display_name": "Python 3",
   "language": "python",
   "name": "python3"
  },
  "language_info": {
   "codemirror_mode": {
    "name": "ipython",
    "version": 3
   },
   "file_extension": ".py",
   "mimetype": "text/x-python",
   "name": "python",
   "nbconvert_exporter": "python",
   "pygments_lexer": "ipython3",
   "version": "3.8.5"
  }
 },
 "nbformat": 4,
 "nbformat_minor": 4
}
