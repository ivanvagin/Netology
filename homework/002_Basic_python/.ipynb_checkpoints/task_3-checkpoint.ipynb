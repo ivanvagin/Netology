{
 "cells": [
  {
   "cell_type": "code",
   "execution_count": 29,
   "metadata": {},
   "outputs": [
    {
     "name": "stdout",
     "output_type": "stream",
     "text": [
      "Программа определения знака Зодиака\n",
      "Введите день: 32\n",
      "Число должно быть от 1 до 31\n"
     ]
    }
   ],
   "source": [
    "print (\"Программа определения знака Зодиака\")\n",
    "\n",
    "month = 0\n",
    "\n",
    "day = int(input (\"Введите день: \"))\n",
    "\n",
    "#Проверка, что числа в диапазоне месяца\n",
    "if day > 31:\n",
    "    print ('Число должно быть от 1 до 31')\n",
    "# Не смог, чтобы после вывода этой строки , автоматом началось снова с Введите день \n",
    "\n",
    "else:\n",
    "    month = input ('Введите месяц, пример Январь: ')\n",
    "if (month == 'Декабрь'and day >= 23) or (month == 'Январь'and day <= 20):\n",
    "    print (\"Результат: Ваш знак зодиака Козерог\")\n",
    "elif (month == 'Январь'and day >= 21) or (month == 'Февраль'and day <= 19):\n",
    "    print (\"Результат: Ваш знак зодиака Водолей\")\n",
    "elif (month == 'Февраль'and day >= 20) or (month == 'Март'and day <= 20):\n",
    "    print (\"Результат: Ваш знак зодиака Рыбы\")\n",
    "elif (month == 'Март'and day >= 21) or (month == 'Апрель'and day <= 20):\n",
    "    print (\"Результат: Ваш знак зодиака Овен\")\n",
    "elif (month == 'Апрель'and day >= 21) or (month == 'Май'and day <= 21):\n",
    "    print (\"Результат: Ваш знак зодиака Телец\")\n",
    "elif (month == 'Май'and day >= 22) or (month == 'Июнь'and day <= 21):\n",
    "    print (\"Результат: Ваш знак зодиака Близнецы\")\n",
    "elif (month == 'Июнь'and day >= 22) or (month == 'Июль'and day <= 22):\n",
    "    print (\"Результат: Ваш знак зодиака Рак\")\n",
    "elif (month == 'Июль'and day >= 23) or (month == 'Август'and day <= 21):\n",
    "    print (\"Результат: Ваш знак зодиака Лев\")\n",
    "elif (month == 'Август'and day >= 22) or (month == 'Сентярь'and day <= 23):\n",
    "    print (\"Результат: Ваш знак зодиака Дева\")\n",
    "elif (month == 'Сентябрь'and day >= 24) or (month == 'Октябрь'and day <= 23):\n",
    "    print (\"Результат: Ваш знак зодиака Весы\")\n",
    "elif (month == 'Октябрь'and day >= 24) or (month == 'Ноябрь'and day <= 22):\n",
    "    print (\"Результат: Ваш знак зодиака Скорпион\")\n",
    "elif (month == 'Ноябрь'and day >= 23) or (month == 'Декарь'and day <= 22):\n",
    "    print (\"Результат: Ваш знак зодиака Стрелец\")\n",
    "    "
   ]
  }
 ],
 "metadata": {
  "kernelspec": {
   "display_name": "Python 3",
   "language": "python",
   "name": "python3"
  }
 },
 "nbformat": 4,
 "nbformat_minor": 4
}
