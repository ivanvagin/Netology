{
 "cells": [
  {
   "cell_type": "code",
   "execution_count": 117,
   "metadata": {},
   "outputs": [
    {
     "name": "stdout",
     "output_type": "stream",
     "text": [
      "Введите Год: 500\n",
      "Результат: Обычный год\n"
     ]
    }
   ],
   "source": [
    "# Високосный год должен быть кратным 4, но при этом не должен быть кратным 100, или год кратен 400\n",
    "year = int(input('Введите Год: '))\n",
    "if (year%4 == 0) and (year%100 != 0) or (year%400 == 0):\n",
    "    print ('Результат: Високосный год')\n",
    "else:\n",
    "    print ('Результат: Обычный год')\n"
   ]
  }
 ],
 "metadata": {
  "kernelspec": {
   "display_name": "Python 3",
   "language": "python",
   "name": "python3"
  },
  "language_info": {
   "codemirror_mode": {
    "name": "ipython",
    "version": 3
   },
   "file_extension": ".py",
   "mimetype": "text/x-python",
   "name": "python",
   "nbconvert_exporter": "python",
   "pygments_lexer": "ipython3",
   "version": "3.8.5"
  }
 },
 "nbformat": 4,
 "nbformat_minor": 4
}
