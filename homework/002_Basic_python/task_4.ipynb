{
 "cells": [
  {
   "cell_type": "code",
   "execution_count": 36,
   "metadata": {},
   "outputs": [
    {
     "name": "stdout",
     "output_type": "stream",
     "text": [
      "Программа подбора упаковок по размерам товара.\n",
      "Введите Ширину в см: 15\n",
      "Введите Длину в см: 201\n",
      "Введите Высоту в см: 51\n",
      "Упаковка для лыж \n"
     ]
    }
   ],
   "source": [
    "print (\"Программа подбора упаковок по размерам товара.\")\n",
    "\n",
    "width = int(input (\"Введите Ширину в см: \"))\n",
    "length = int(input (\"Введите Длину в см: \"))\n",
    "height = int(input (\"Введите Высоту в см: \"))\n",
    "if width < 15 and length < 15 and height < 15:\n",
    "    print (\"Коробка №1\")\n",
    "elif width < 50 and length < 50 and height < 50:\n",
    "    print (\"Коробка №2\")\n",
    "elif length > 200:\n",
    "    print (\"Упаковка для лыж \")\n",
    "else:\n",
    "    print (\"Стандартная коробка №3\")\n",
    "    \n",
    "\n"
   ]
  }
 ],
 "metadata": {
  "kernelspec": {
   "display_name": "Python 3",
   "language": "python",
   "name": "python3"
  },
  "language_info": {
   "codemirror_mode": {
    "name": "ipython",
    "version": 3
   },
   "file_extension": ".py",
   "mimetype": "text/x-python",
   "name": "python",
   "nbconvert_exporter": "python",
   "pygments_lexer": "ipython3",
   "version": "3.8.5"
  }
 },
 "nbformat": 4,
 "nbformat_minor": 4
}
