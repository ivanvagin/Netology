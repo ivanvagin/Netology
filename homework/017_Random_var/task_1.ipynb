{
 "cells": [
  {
   "cell_type": "code",
   "execution_count": 184,
   "metadata": {},
   "outputs": [
    {
     "name": "stdout",
     "output_type": "stream",
     "text": [
      "Закончились средства! Частота по методу Монте-Карло  = 20.349999999999998%\n"
     ]
    }
   ],
   "source": [
    "money = 10000\n",
    "tries = money\n",
    "successes = 0\n",
    "\n",
    "for i in range(tries):\n",
    "    money -= 1\n",
    "    res = np.random.randint(0, 1000)\n",
    "    if res == 777: # \n",
    "        win = 200\n",
    "        money + win\n",
    "        successes += 1\n",
    "        # print(f'Результат: {res}, Выигрыш: {win}, средства {money+ win}')\n",
    "    elif res == 999:\n",
    "        win = 100\n",
    "        money + win\n",
    "        successes += 1\n",
    "        # print(f'Результат: {res}, Выигрыш: {win}, средства {money+ win}')\n",
    "    elif res == 555:\n",
    "        win = 50\n",
    "        money + win\n",
    "        successes += 1\n",
    "        # print(f'Результат: {res}, Выигрыш: {win}, средства {money+ win}')\n",
    "    elif res == 333:\n",
    "        win = 15\n",
    "        money + win\n",
    "        successes += 1\n",
    "        # print(f'Результат: {res}, Выигрыш: {win}, средства {money+ win}')\n",
    "    elif res == 111:\n",
    "        win = 10\n",
    "        money + win\n",
    "        successes += 1\n",
    "        # print(f'Результат: {res}, Выигрыш: {win}, средства {money+ win}')\n",
    "    elif (res % 100) == 77: # *77\n",
    "        win = 5\n",
    "        money + win\n",
    "        successes += 1\n",
    "        # print(f'Результат: {res}, Выигрыш: {win}, средства {money+ win}')\n",
    "    elif (res % 10) == 7: # **7\n",
    "        win = 3\n",
    "        money + win\n",
    "        successes += 1\n",
    "        # print(f'Результат: {res}, Выигрыш: {win}, средства {money+ win}')\n",
    "    elif (res % 100) == 0: # *00\n",
    "        win = 2\n",
    "        money + win\n",
    "        successes += 1\n",
    "        # print(f'Результат: {res}, Выигрыш: {win}, средства {money+ win}')\n",
    "    elif (res % 10) == 0: # **0\n",
    "        win = 2\n",
    "        money + win\n",
    "        successes += 1\n",
    "        # print(f'Результат: {res}, Выигрыш: {win}, средства {money+ win}')\n",
    "    else:\n",
    "        pass\n",
    "\n",
    "print(f'Закончились средства! Частота по методу Монте-Карло  = {successes / tries*100}%')\n",
    "\n"
   ]
  },
  {
   "cell_type": "code",
   "execution_count": 171,
   "metadata": {},
   "outputs": [
    {
     "name": "stdout",
     "output_type": "stream",
     "text": [
      "10\n"
     ]
    }
   ],
   "source": [
    "# Теоретическая вероятность выигрыша. \n",
    "# По примеру кода ниже считаем кол-во вариантов исхода в зависимости от условия выпадения цифры  \n",
    "\n",
    "count_num = 0\n",
    "for x in range(0,1000):\n",
    "    if x % 100 == 77:\n",
    "        count_num += 1\n",
    "print(count_num)"
   ]
  },
  {
   "cell_type": "markdown",
   "metadata": {},
   "source": [
    "### Кол-во успешных вариантов\n",
    ">777, 999, 555, 333, 111 - по 1 варианту   \n",
    ">*77 - всего 10 и из них один вариант 777 уже учтен  - итого 9  \n",
    "> **7 - всего 100 и из них учтены 777 и 9 вариантов *77 - итого 90  \n",
    ">*00 - всего 9   \n",
    ">**0 - всего 100 и 9 учтены в *00 - итого 91  "
   ]
  },
  {
   "cell_type": "code",
   "execution_count": 172,
   "metadata": {
    "scrolled": true
   },
   "outputs": [
    {
     "data": {
      "text/plain": [
       "20.4"
      ]
     },
     "execution_count": 172,
     "metadata": {},
     "output_type": "execute_result"
    }
   ],
   "source": [
    "# Получаем следующий расчет \n",
    "\n",
    "(1/1000*100)*5 + 9/1000*100 + 90/1000*100 + 9/1000*100 + 91/1000*100"
   ]
  }
 ],
 "metadata": {
  "kernelspec": {
   "display_name": "Python 3",
   "language": "python",
   "name": "python3"
  },
  "language_info": {
   "codemirror_mode": {
    "name": "ipython",
    "version": 3
   },
   "file_extension": ".py",
   "mimetype": "text/x-python",
   "name": "python",
   "nbconvert_exporter": "python",
   "pygments_lexer": "ipython3",
   "version": "3.8.5"
  }
 },
 "nbformat": 4,
 "nbformat_minor": 4
}
