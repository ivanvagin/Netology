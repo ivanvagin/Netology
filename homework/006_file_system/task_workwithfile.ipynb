{
 "cells": [
  {
   "cell_type": "markdown",
   "metadata": {},
   "source": [
    "### Переведите содержимое файла purchase_log.txt в словарь purchases вида:\n",
    "{‘1840e0b9d4’: ‘Продукты’, …}\n",
    "\n",
    "Для каждого user_id в файле visit_log.csv определите третий столбец с категорией покупки (если покупка была, сам файл visit_log.csv изменять не надо). Запишите в файл funnel.csv визиты из файла visit_log.csv, в которых были покупки с указанием категории.\n",
    "Учтите условия на данные:\n",
    "содержимое purchase_log.txt помещается в оперативную память компьютера\n",
    "содержимое visit_log.csv - нет; используйте только построчную обработку этого файла"
   ]
  },
  {
   "cell_type": "code",
   "execution_count": 1,
   "metadata": {
    "scrolled": true
   },
   "outputs": [],
   "source": [
    "import json\n",
    "file_purch = open('purchase_log.txt', encoding='utf-8')\n",
    "content_purch = file_purch.readlines() #Читаем весь файл построчно в список\n",
    "file_purch.close()\n",
    "\n",
    "purchases = {} #Создаем пустой словарь \n",
    "# x = 0\n",
    "for line in content_purch:\n",
    "    line = json.loads(line.strip()) #построчно обрабатываем список через json \n",
    "    purchases.update({line['user_id']: line['category']}) # и записываем в словарь dict_purch\n",
    "#     x += 1\n",
    "#     if x > 50:\n",
    "\n",
    "# print(purchases)\n",
    "# for k, v in purchases.items(): # Проверка словаря \n",
    "#     print(k, v)\n",
    "# #     breaк\n",
    "\n",
    "with open('visit_log.csv') as visit:\n",
    "    with open('funnel.csv', 'w', encoding = 'utf-8') as funnel: #Создаем новый файл для записи полученных данных \n",
    "        for line in visit:\n",
    "            another_line = line.strip().split(',')\n",
    "            if another_line[0] in purchases:\n",
    "                funnel.write('{}:{}\\n'.format(another_line[0], purchases[another_line[0]]))"
   ]
  },
  {
   "cell_type": "markdown",
   "metadata": {},
   "source": [
    "### Проверка чтения из полученного файла"
   ]
  },
  {
   "cell_type": "code",
   "execution_count": 216,
   "metadata": {
    "scrolled": true
   },
   "outputs": [
    {
     "name": "stdout",
     "output_type": "stream",
     "text": [
      "['user_id:category\\n', '1840e0b9d4:Продукты\\n', '4e4f90fcfb:Электроника\\n']\n"
     ]
    }
   ],
   "source": [
    "f = open('funnel.csv', encoding='utf-8')\n",
    "print([next(f) for i in range(3)])"
   ]
  },
  {
   "cell_type": "markdown",
   "metadata": {},
   "source": [
    "### от Преподователя"
   ]
  },
  {
   "cell_type": "code",
   "execution_count": null,
   "metadata": {},
   "outputs": [],
   "source": [
    "Добрый день, спасибо за решения.\n",
    "\n",
    "В первом задании в файле purchase_log.txt можно пропустить первую строку с “заголовком” с помощью next(file_purch) или file_purch.readline().\n",
    "\n",
    "Также лучше не считывать содержимое файла purchase_log.txt в оперативную память в строчке content_purch = file_purch.readlines(). А читать файл построчно:\n",
    "\n",
    "1\n",
    "2\n",
    "3\n",
    "4\n",
    "with open('purchase_log.txt') as f:\n",
    "    f.readline()\n",
    "    for line in f:\n",
    "\t\t    # остальной код\n",
    "По условию файл purchase_log.txt помещается в оперативную память. Но не факт, что памяти хватит еще и на словарь purchases, который тоже может получиться большим.\n",
    "\n",
    "Во втором задании все в порядке. Только не понятно зачем выводить столько раз на экран <class ‘list’>."
   ]
  }
 ],
 "metadata": {
  "kernelspec": {
   "display_name": "Python 3",
   "language": "python",
   "name": "python3"
  },
  "language_info": {
   "codemirror_mode": {
    "name": "ipython",
    "version": 3
   },
   "file_extension": ".py",
   "mimetype": "text/x-python",
   "name": "python",
   "nbconvert_exporter": "python",
   "pygments_lexer": "ipython3",
   "version": "3.8.5"
  }
 },
 "nbformat": 4,
 "nbformat_minor": 4
}
