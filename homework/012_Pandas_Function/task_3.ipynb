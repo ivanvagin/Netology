{
 "cells": [
  {
   "cell_type": "markdown",
   "metadata": {},
   "source": [
    "### Задание 3 (бонусное)\n",
    "\n",
    "Есть мнение, что “раньше снимали настоящее кино, не то что сейчас”. Ваша задача проверить это утверждение, используя файлы с рейтингами фильмов из прошлого домашнего занятия (файл movies.csv и ratings.csv из базы grouplens.org.../movielens). Т. е. проверить верно ли, что с ростом года выпуска фильма его средний рейтинг становится ниже.\n",
    "\n",
    "При этом мы не будем затрагивать субьективные факторы выставления этих рейтингов, а пройдемся по следующему алгоритму:\n",
    "\n",
    "В переменную years запишите список из всех годов с 1950 по 2010.\n",
    "\n",
    "Напишите функцию production_year, которая каждой строке из названия фильма выставляет год выпуска. Не все названия фильмов содержат год выпуска в одинаковом формате, поэтому используйте следующий алгоритм:\n",
    "\n",
    "для каждой строки пройдите по всем годам списка years\n",
    "если номер года присутствует в названии фильма, то функция возвращает этот год как год выпуска\n",
    "если ни один из номеров года списка years не встретился в названии фильма, то возвращается 1900 год\n",
    "Запишите год выпуска фильма по алгоритму пункта 2 в новый столбец ‘year’\n",
    "\n",
    "Посчитайте средний рейтинг всех фильмов для каждого значения столбца ‘year’ и отсортируйте результат по убыванию рейтинга"
   ]
  },
  {
   "cell_type": "code",
   "execution_count": 248,
   "metadata": {},
   "outputs": [],
   "source": [
    "import pandas as pd\n",
    "import matplotlib.pyplot as plt"
   ]
  },
  {
   "cell_type": "code",
   "execution_count": 217,
   "metadata": {},
   "outputs": [],
   "source": [
    "ratings = pd.read_csv('ratings.csv')\n",
    "movies = pd.read_csv('movies.csv')"
   ]
  },
  {
   "cell_type": "code",
   "execution_count": 218,
   "metadata": {},
   "outputs": [],
   "source": [
    "# Создаем список годов указанного периода\n",
    "years = list(range(1950,2011)) "
   ]
  },
  {
   "cell_type": "code",
   "execution_count": 219,
   "metadata": {},
   "outputs": [],
   "source": [
    "# Соединяем два датафрейма \n",
    "joined  = movies.merge(ratings, on='movieId', how='left')"
   ]
  },
  {
   "cell_type": "code",
   "execution_count": 261,
   "metadata": {},
   "outputs": [],
   "source": [
    "def production_year(title):\n",
    "    \"\"\"Возвращает год выпуска из наименования фильма в виде integer - сделал так для сортировки по году \"\"\"\n",
    "    for i in years:\n",
    "        if str(i) in title:\n",
    "            return int(i)\n",
    "    return int(2021) # все фильмы без года и с годом вне нужного диапазона, убрал в 2021, чтобы на графике было от 1950"
   ]
  },
  {
   "cell_type": "code",
   "execution_count": 262,
   "metadata": {
    "scrolled": true
   },
   "outputs": [],
   "source": [
    "#Создаем новый столбец с результатом применения функции к каждому значению столба title\n",
    "joined['year'] = joined['title'].apply(production_year)"
   ]
  },
  {
   "cell_type": "code",
   "execution_count": 270,
   "metadata": {},
   "outputs": [
    {
     "data": {
      "text/html": [
       "<div>\n",
       "<style scoped>\n",
       "    .dataframe tbody tr th:only-of-type {\n",
       "        vertical-align: middle;\n",
       "    }\n",
       "\n",
       "    .dataframe tbody tr th {\n",
       "        vertical-align: top;\n",
       "    }\n",
       "\n",
       "    .dataframe thead th {\n",
       "        text-align: right;\n",
       "    }\n",
       "</style>\n",
       "<table border=\"1\" class=\"dataframe\">\n",
       "  <thead>\n",
       "    <tr style=\"text-align: right;\">\n",
       "      <th></th>\n",
       "      <th>movieId</th>\n",
       "      <th>title</th>\n",
       "      <th>genres</th>\n",
       "      <th>userId</th>\n",
       "      <th>rating</th>\n",
       "      <th>timestamp</th>\n",
       "      <th>year</th>\n",
       "    </tr>\n",
       "  </thead>\n",
       "  <tbody>\n",
       "    <tr>\n",
       "      <th>9553</th>\n",
       "      <td>318</td>\n",
       "      <td>Shawshank Redemption, The (1994)</td>\n",
       "      <td>Crime|Drama</td>\n",
       "      <td>67.0</td>\n",
       "      <td>5.0</td>\n",
       "      <td>8.547133e+08</td>\n",
       "      <td>1994</td>\n",
       "    </tr>\n",
       "    <tr>\n",
       "      <th>78007</th>\n",
       "      <td>6333</td>\n",
       "      <td>X2: X-Men United (2003)</td>\n",
       "      <td>Action|Adventure|Sci-Fi|Thriller</td>\n",
       "      <td>22.0</td>\n",
       "      <td>4.5</td>\n",
       "      <td>1.131663e+09</td>\n",
       "      <td>2003</td>\n",
       "    </tr>\n",
       "    <tr>\n",
       "      <th>64205</th>\n",
       "      <td>3614</td>\n",
       "      <td>Honeymoon in Vegas (1992)</td>\n",
       "      <td>Comedy|Romance</td>\n",
       "      <td>381.0</td>\n",
       "      <td>3.0</td>\n",
       "      <td>1.018682e+09</td>\n",
       "      <td>1992</td>\n",
       "    </tr>\n",
       "    <tr>\n",
       "      <th>9528</th>\n",
       "      <td>318</td>\n",
       "      <td>Shawshank Redemption, The (1994)</td>\n",
       "      <td>Crime|Drama</td>\n",
       "      <td>3.0</td>\n",
       "      <td>5.0</td>\n",
       "      <td>1.298862e+09</td>\n",
       "      <td>1994</td>\n",
       "    </tr>\n",
       "    <tr>\n",
       "      <th>2715</th>\n",
       "      <td>50</td>\n",
       "      <td>Usual Suspects, The (1995)</td>\n",
       "      <td>Crime|Mystery|Thriller</td>\n",
       "      <td>261.0</td>\n",
       "      <td>5.0</td>\n",
       "      <td>1.101666e+09</td>\n",
       "      <td>1995</td>\n",
       "    </tr>\n",
       "    <tr>\n",
       "      <th>...</th>\n",
       "      <td>...</td>\n",
       "      <td>...</td>\n",
       "      <td>...</td>\n",
       "      <td>...</td>\n",
       "      <td>...</td>\n",
       "      <td>...</td>\n",
       "      <td>...</td>\n",
       "    </tr>\n",
       "    <tr>\n",
       "      <th>87322</th>\n",
       "      <td>39183</td>\n",
       "      <td>Brokeback Mountain (2005)</td>\n",
       "      <td>Drama|Romance</td>\n",
       "      <td>461.0</td>\n",
       "      <td>3.5</td>\n",
       "      <td>1.150092e+09</td>\n",
       "      <td>2005</td>\n",
       "    </tr>\n",
       "    <tr>\n",
       "      <th>79770</th>\n",
       "      <td>6863</td>\n",
       "      <td>School of Rock (2003)</td>\n",
       "      <td>Comedy|Musical</td>\n",
       "      <td>580.0</td>\n",
       "      <td>3.0</td>\n",
       "      <td>1.218137e+09</td>\n",
       "      <td>2003</td>\n",
       "    </tr>\n",
       "    <tr>\n",
       "      <th>26791</th>\n",
       "      <td>1097</td>\n",
       "      <td>E.T. the Extra-Terrestrial (1982)</td>\n",
       "      <td>Children|Drama|Sci-Fi</td>\n",
       "      <td>23.0</td>\n",
       "      <td>5.0</td>\n",
       "      <td>1.148672e+09</td>\n",
       "      <td>1982</td>\n",
       "    </tr>\n",
       "    <tr>\n",
       "      <th>49561</th>\n",
       "      <td>2391</td>\n",
       "      <td>Simple Plan, A (1998)</td>\n",
       "      <td>Crime|Drama|Thriller</td>\n",
       "      <td>388.0</td>\n",
       "      <td>4.0</td>\n",
       "      <td>9.465227e+08</td>\n",
       "      <td>1998</td>\n",
       "    </tr>\n",
       "    <tr>\n",
       "      <th>71995</th>\n",
       "      <td>4857</td>\n",
       "      <td>Fiddler on the Roof (1971)</td>\n",
       "      <td>Drama|Musical</td>\n",
       "      <td>23.0</td>\n",
       "      <td>3.5</td>\n",
       "      <td>1.148669e+09</td>\n",
       "      <td>1971</td>\n",
       "    </tr>\n",
       "  </tbody>\n",
       "</table>\n",
       "<p>100 rows × 7 columns</p>\n",
       "</div>"
      ],
      "text/plain": [
       "       movieId                              title  \\\n",
       "9553       318   Shawshank Redemption, The (1994)   \n",
       "78007     6333            X2: X-Men United (2003)   \n",
       "64205     3614          Honeymoon in Vegas (1992)   \n",
       "9528       318   Shawshank Redemption, The (1994)   \n",
       "2715        50         Usual Suspects, The (1995)   \n",
       "...        ...                                ...   \n",
       "87322    39183          Brokeback Mountain (2005)   \n",
       "79770     6863              School of Rock (2003)   \n",
       "26791     1097  E.T. the Extra-Terrestrial (1982)   \n",
       "49561     2391              Simple Plan, A (1998)   \n",
       "71995     4857         Fiddler on the Roof (1971)   \n",
       "\n",
       "                                 genres  userId  rating     timestamp  year  \n",
       "9553                        Crime|Drama    67.0     5.0  8.547133e+08  1994  \n",
       "78007  Action|Adventure|Sci-Fi|Thriller    22.0     4.5  1.131663e+09  2003  \n",
       "64205                    Comedy|Romance   381.0     3.0  1.018682e+09  1992  \n",
       "9528                        Crime|Drama     3.0     5.0  1.298862e+09  1994  \n",
       "2715             Crime|Mystery|Thriller   261.0     5.0  1.101666e+09  1995  \n",
       "...                                 ...     ...     ...           ...   ...  \n",
       "87322                     Drama|Romance   461.0     3.5  1.150092e+09  2005  \n",
       "79770                    Comedy|Musical   580.0     3.0  1.218137e+09  2003  \n",
       "26791             Children|Drama|Sci-Fi    23.0     5.0  1.148672e+09  1982  \n",
       "49561              Crime|Drama|Thriller   388.0     4.0  9.465227e+08  1998  \n",
       "71995                     Drama|Musical    23.0     3.5  1.148669e+09  1971  \n",
       "\n",
       "[100 rows x 7 columns]"
      ]
     },
     "execution_count": 270,
     "metadata": {},
     "output_type": "execute_result"
    }
   ],
   "source": [
    "# Проверка на выборочных строках\n",
    "joined.sample(frac=0.001)"
   ]
  },
  {
   "cell_type": "code",
   "execution_count": 278,
   "metadata": {},
   "outputs": [
    {
     "data": {
      "text/html": [
       "<div>\n",
       "<style scoped>\n",
       "    .dataframe tbody tr th:only-of-type {\n",
       "        vertical-align: middle;\n",
       "    }\n",
       "\n",
       "    .dataframe tbody tr th {\n",
       "        vertical-align: top;\n",
       "    }\n",
       "\n",
       "    .dataframe thead th {\n",
       "        text-align: right;\n",
       "    }\n",
       "</style>\n",
       "<table border=\"1\" class=\"dataframe\">\n",
       "  <thead>\n",
       "    <tr style=\"text-align: right;\">\n",
       "      <th></th>\n",
       "      <th>movieId</th>\n",
       "      <th>userId</th>\n",
       "      <th>rating</th>\n",
       "      <th>timestamp</th>\n",
       "    </tr>\n",
       "    <tr>\n",
       "      <th>year</th>\n",
       "      <th></th>\n",
       "      <th></th>\n",
       "      <th></th>\n",
       "      <th></th>\n",
       "    </tr>\n",
       "  </thead>\n",
       "  <tbody>\n",
       "    <tr>\n",
       "      <th>1957</th>\n",
       "      <td>3001.949527</td>\n",
       "      <td>360.933544</td>\n",
       "      <td>4.014241</td>\n",
       "      <td>1.083707e+09</td>\n",
       "    </tr>\n",
       "    <tr>\n",
       "      <th>1972</th>\n",
       "      <td>3983.538976</td>\n",
       "      <td>359.694878</td>\n",
       "      <td>4.011136</td>\n",
       "      <td>1.122759e+09</td>\n",
       "    </tr>\n",
       "    <tr>\n",
       "      <th>1952</th>\n",
       "      <td>4462.532468</td>\n",
       "      <td>346.394737</td>\n",
       "      <td>4.000000</td>\n",
       "      <td>1.090512e+09</td>\n",
       "    </tr>\n",
       "    <tr>\n",
       "      <th>1954</th>\n",
       "      <td>2867.661850</td>\n",
       "      <td>358.228324</td>\n",
       "      <td>3.994220</td>\n",
       "      <td>1.070591e+09</td>\n",
       "    </tr>\n",
       "    <tr>\n",
       "      <th>1951</th>\n",
       "      <td>2605.588477</td>\n",
       "      <td>347.106996</td>\n",
       "      <td>3.983539</td>\n",
       "      <td>1.052714e+09</td>\n",
       "    </tr>\n",
       "  </tbody>\n",
       "</table>\n",
       "</div>"
      ],
      "text/plain": [
       "          movieId      userId    rating     timestamp\n",
       "year                                                 \n",
       "1957  3001.949527  360.933544  4.014241  1.083707e+09\n",
       "1972  3983.538976  359.694878  4.011136  1.122759e+09\n",
       "1952  4462.532468  346.394737  4.000000  1.090512e+09\n",
       "1954  2867.661850  358.228324  3.994220  1.070591e+09\n",
       "1951  2605.588477  347.106996  3.983539  1.052714e+09"
      ]
     },
     "execution_count": 278,
     "metadata": {},
     "output_type": "execute_result"
    }
   ],
   "source": [
    "# Сохраняем в res сгруппированный DataFrame по годам по убываниб значений Raing.\n",
    "res = joined.groupby(['year']).mean().sort_values(by='rating', ascending=False).head(50)\n",
    "res.head()"
   ]
  },
  {
   "cell_type": "markdown",
   "metadata": {},
   "source": [
    "#### Но это не наглядно и не дает ответа на вопрос : Понижается ли средний рейтинг с увеличением года производства ?  \n",
    "Поэтому сделал так ) "
   ]
  },
  {
   "cell_type": "code",
   "execution_count": 279,
   "metadata": {},
   "outputs": [],
   "source": [
    "# Сохраняем в res сгруппированный DataFrame по годам по возростанию.\n",
    "res = joined.groupby(['year']).mean().sort_values(by='year', ascending=True).head(50)"
   ]
  },
  {
   "cell_type": "code",
   "execution_count": 280,
   "metadata": {},
   "outputs": [
    {
     "data": {
      "text/html": [
       "<div>\n",
       "<style scoped>\n",
       "    .dataframe tbody tr th:only-of-type {\n",
       "        vertical-align: middle;\n",
       "    }\n",
       "\n",
       "    .dataframe tbody tr th {\n",
       "        vertical-align: top;\n",
       "    }\n",
       "\n",
       "    .dataframe thead th {\n",
       "        text-align: right;\n",
       "    }\n",
       "</style>\n",
       "<table border=\"1\" class=\"dataframe\">\n",
       "  <thead>\n",
       "    <tr style=\"text-align: right;\">\n",
       "      <th></th>\n",
       "      <th>movieId</th>\n",
       "      <th>userId</th>\n",
       "      <th>rating</th>\n",
       "      <th>timestamp</th>\n",
       "    </tr>\n",
       "    <tr>\n",
       "      <th>year</th>\n",
       "      <th></th>\n",
       "      <th></th>\n",
       "      <th></th>\n",
       "      <th></th>\n",
       "    </tr>\n",
       "  </thead>\n",
       "  <tbody>\n",
       "    <tr>\n",
       "      <th>1950</th>\n",
       "      <td>3503.427966</td>\n",
       "      <td>355.720339</td>\n",
       "      <td>3.915254</td>\n",
       "      <td>1.090648e+09</td>\n",
       "    </tr>\n",
       "    <tr>\n",
       "      <th>1951</th>\n",
       "      <td>2605.588477</td>\n",
       "      <td>347.106996</td>\n",
       "      <td>3.983539</td>\n",
       "      <td>1.052714e+09</td>\n",
       "    </tr>\n",
       "    <tr>\n",
       "      <th>1952</th>\n",
       "      <td>4462.532468</td>\n",
       "      <td>346.394737</td>\n",
       "      <td>4.000000</td>\n",
       "      <td>1.090512e+09</td>\n",
       "    </tr>\n",
       "    <tr>\n",
       "      <th>1953</th>\n",
       "      <td>4047.401826</td>\n",
       "      <td>357.252294</td>\n",
       "      <td>3.754587</td>\n",
       "      <td>1.070596e+09</td>\n",
       "    </tr>\n",
       "    <tr>\n",
       "      <th>1954</th>\n",
       "      <td>2867.661850</td>\n",
       "      <td>358.228324</td>\n",
       "      <td>3.994220</td>\n",
       "      <td>1.070591e+09</td>\n",
       "    </tr>\n",
       "  </tbody>\n",
       "</table>\n",
       "</div>"
      ],
      "text/plain": [
       "          movieId      userId    rating     timestamp\n",
       "year                                                 \n",
       "1950  3503.427966  355.720339  3.915254  1.090648e+09\n",
       "1951  2605.588477  347.106996  3.983539  1.052714e+09\n",
       "1952  4462.532468  346.394737  4.000000  1.090512e+09\n",
       "1953  4047.401826  357.252294  3.754587  1.070596e+09\n",
       "1954  2867.661850  358.228324  3.994220  1.070591e+09"
      ]
     },
     "execution_count": 280,
     "metadata": {},
     "output_type": "execute_result"
    }
   ],
   "source": [
    "res.head()"
   ]
  },
  {
   "cell_type": "code",
   "execution_count": 288,
   "metadata": {
    "scrolled": true
   },
   "outputs": [
    {
     "data": {
      "text/plain": [
       "[<matplotlib.lines.Line2D at 0x16223e3f5e0>]"
      ]
     },
     "execution_count": 288,
     "metadata": {},
     "output_type": "execute_result"
    },
    {
     "data": {
      "image/png": "[encoded data removed]",
      "text/plain": [
       "<Figure size 432x288 with 1 Axes>"
      ]
     },
     "metadata": {
      "needs_background": "light"
     },
     "output_type": "display_data"
    }
   ],
   "source": [
    "# Выводим график и все становится понятно! \n",
    "plt.plot(res.index, res['rating'])\n",
    "plt.show()"
   ]
  },
  {
   "cell_type": "code",
   "execution_count": null,
   "metadata": {},
   "outputs": [],
   "source": []
  }
 ],
 "metadata": {
  "kernelspec": {
   "display_name": "Python 3",
   "language": "python",
   "name": "python3"
  },
  "language_info": {
   "codemirror_mode": {
    "name": "ipython",
    "version": 3
   },
   "file_extension": ".py",
   "mimetype": "text/x-python",
   "name": "python",
   "nbconvert_exporter": "python",
   "pygments_lexer": "ipython3",
   "version": "3.8.5"
  }
 },
 "nbformat": 4,
 "nbformat_minor": 4
}
