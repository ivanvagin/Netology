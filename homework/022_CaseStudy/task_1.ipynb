{
 "cells": [
  {
   "cell_type": "markdown",
   "metadata": {},
   "source": [
    "### Задание 1\n",
    "Вернемся к набору данных о видеоиграх.\n",
    "\n",
    "Ответьте на следующие вопросы:\n",
    "\n",
    "1) Как критики относятся к спортивным играм?\n",
    "2) Критикам нравятся больше игры на PC или на PS4?\n",
    "3) Критикам больше нравятся стрелялки или стратегии?\n",
    "\n",
    "Для каждого вопроса:\n",
    "\n",
    "сформулируйте нулевую и альтернативную гипотезы;\n",
    "выберите пороговый уровень статистической значимости;\n",
    "опишите полученные результаты статистического теста."
   ]
  },
  {
   "cell_type": "code",
   "execution_count": 1,
   "metadata": {},
   "outputs": [],
   "source": [
    "import pandas as pd"
   ]
  },
  {
   "cell_type": "code",
   "execution_count": 2,
   "metadata": {},
   "outputs": [],
   "source": [
    "df = pd.read_csv('https://raw.githubusercontent.com/obulygin/pyda_homeworks/master/stat_case_study/vgsales.csv')"
   ]
  },
  {
   "cell_type": "code",
   "execution_count": 24,
   "metadata": {},
   "outputs": [
    {
     "data": {
      "text/html": [
       "<div>\n",
       "<style scoped>\n",
       "    .dataframe tbody tr th:only-of-type {\n",
       "        vertical-align: middle;\n",
       "    }\n",
       "\n",
       "    .dataframe tbody tr th {\n",
       "        vertical-align: top;\n",
       "    }\n",
       "\n",
       "    .dataframe thead th {\n",
       "        text-align: right;\n",
       "    }\n",
       "</style>\n",
       "<table border=\"1\" class=\"dataframe\">\n",
       "  <thead>\n",
       "    <tr style=\"text-align: right;\">\n",
       "      <th></th>\n",
       "      <th>Name</th>\n",
       "      <th>Platform</th>\n",
       "      <th>Year_of_Release</th>\n",
       "      <th>Genre</th>\n",
       "      <th>Publisher</th>\n",
       "      <th>NA_Sales</th>\n",
       "      <th>EU_Sales</th>\n",
       "      <th>JP_Sales</th>\n",
       "      <th>Other_Sales</th>\n",
       "      <th>Global_Sales</th>\n",
       "      <th>Critic_Score</th>\n",
       "      <th>Critic_Count</th>\n",
       "      <th>User_Score</th>\n",
       "      <th>User_Count</th>\n",
       "      <th>Developer</th>\n",
       "      <th>Rating</th>\n",
       "    </tr>\n",
       "  </thead>\n",
       "  <tbody>\n",
       "    <tr>\n",
       "      <th>7612</th>\n",
       "      <td>NBA 07</td>\n",
       "      <td>PSP</td>\n",
       "      <td>2006.0</td>\n",
       "      <td>Sports</td>\n",
       "      <td>Sony Computer Entertainment</td>\n",
       "      <td>0.18</td>\n",
       "      <td>0.0</td>\n",
       "      <td>0.00</td>\n",
       "      <td>0.02</td>\n",
       "      <td>0.20</td>\n",
       "      <td>68.0</td>\n",
       "      <td>24.0</td>\n",
       "      <td>7</td>\n",
       "      <td>5.0</td>\n",
       "      <td>SCEA</td>\n",
       "      <td>E</td>\n",
       "    </tr>\n",
       "    <tr>\n",
       "      <th>15261</th>\n",
       "      <td>Eureka Seven Vol. 2: The New Vision</td>\n",
       "      <td>PS2</td>\n",
       "      <td>2006.0</td>\n",
       "      <td>Shooter</td>\n",
       "      <td>Namco Bandai Games</td>\n",
       "      <td>0.00</td>\n",
       "      <td>0.0</td>\n",
       "      <td>0.02</td>\n",
       "      <td>0.00</td>\n",
       "      <td>0.02</td>\n",
       "      <td>40.0</td>\n",
       "      <td>17.0</td>\n",
       "      <td>7</td>\n",
       "      <td>5.0</td>\n",
       "      <td>Namco Bandai Games America</td>\n",
       "      <td>T</td>\n",
       "    </tr>\n",
       "    <tr>\n",
       "      <th>3780</th>\n",
       "      <td>NBA 06</td>\n",
       "      <td>PS2</td>\n",
       "      <td>2005.0</td>\n",
       "      <td>Sports</td>\n",
       "      <td>Sony Computer Entertainment</td>\n",
       "      <td>0.26</td>\n",
       "      <td>0.2</td>\n",
       "      <td>0.00</td>\n",
       "      <td>0.07</td>\n",
       "      <td>0.53</td>\n",
       "      <td>63.0</td>\n",
       "      <td>26.0</td>\n",
       "      <td>6.3</td>\n",
       "      <td>27.0</td>\n",
       "      <td>SCEA Sports Studio</td>\n",
       "      <td>E</td>\n",
       "    </tr>\n",
       "  </tbody>\n",
       "</table>\n",
       "</div>"
      ],
      "text/plain": [
       "                                      Name Platform  Year_of_Release    Genre  \\\n",
       "7612                                NBA 07      PSP           2006.0   Sports   \n",
       "15261  Eureka Seven Vol. 2: The New Vision      PS2           2006.0  Shooter   \n",
       "3780                                NBA 06      PS2           2005.0   Sports   \n",
       "\n",
       "                         Publisher  NA_Sales  EU_Sales  JP_Sales  Other_Sales  \\\n",
       "7612   Sony Computer Entertainment      0.18       0.0      0.00         0.02   \n",
       "15261           Namco Bandai Games      0.00       0.0      0.02         0.00   \n",
       "3780   Sony Computer Entertainment      0.26       0.2      0.00         0.07   \n",
       "\n",
       "       Global_Sales  Critic_Score  Critic_Count User_Score  User_Count  \\\n",
       "7612           0.20          68.0          24.0          7         5.0   \n",
       "15261          0.02          40.0          17.0          7         5.0   \n",
       "3780           0.53          63.0          26.0        6.3        27.0   \n",
       "\n",
       "                        Developer Rating  \n",
       "7612                         SCEA      E  \n",
       "15261  Namco Bandai Games America      T  \n",
       "3780           SCEA Sports Studio      E  "
      ]
     },
     "execution_count": 24,
     "metadata": {},
     "output_type": "execute_result"
    }
   ],
   "source": [
    "df.sample(3)"
   ]
  },
  {
   "cell_type": "markdown",
   "metadata": {},
   "source": [
    "### 1. Как критики относятся к спортивным играм?  \n",
    "Для ответа на первый вопрос условимся,   что количество баллов для положительной оценки критиков более 50. \n",
    " \n",
    " #### Формулируем нулевую гипотезу.  \n",
    " \n",
    " Н0: Средняя оценка критиков по играм в жанре спорт меньше или равна 50.   \n",
    " Н1: Средняя оценка критиков по играм в жанре спорт более 50. \n",
    " \n",
    " Уровень статистической значимости Alpha за неимением других данных будем принимать 0.05  \n",
    " \n",
    " Сравниваем значение по выборке с константой, поэтому нужен одновыборочный критерий.\n",
    " "
   ]
  },
  {
   "cell_type": "markdown",
   "metadata": {},
   "source": [
    "#### Создадим выборку с отбором по играм в жанре Спорт "
   ]
  },
  {
   "cell_type": "code",
   "execution_count": 4,
   "metadata": {},
   "outputs": [
    {
     "name": "stdout",
     "output_type": "stream",
     "text": [
      "<class 'pandas.core.frame.DataFrame'>\n",
      "Int64Index: 1194 entries, 0 to 16555\n",
      "Data columns (total 2 columns):\n",
      " #   Column        Non-Null Count  Dtype  \n",
      "---  ------        --------------  -----  \n",
      " 0   Genre         1194 non-null   object \n",
      " 1   Critic_Score  1194 non-null   float64\n",
      "dtypes: float64(1), object(1)\n",
      "memory usage: 28.0+ KB\n"
     ]
    },
    {
     "data": {
      "text/html": [
       "<div>\n",
       "<style scoped>\n",
       "    .dataframe tbody tr th:only-of-type {\n",
       "        vertical-align: middle;\n",
       "    }\n",
       "\n",
       "    .dataframe tbody tr th {\n",
       "        vertical-align: top;\n",
       "    }\n",
       "\n",
       "    .dataframe thead th {\n",
       "        text-align: right;\n",
       "    }\n",
       "</style>\n",
       "<table border=\"1\" class=\"dataframe\">\n",
       "  <thead>\n",
       "    <tr style=\"text-align: right;\">\n",
       "      <th></th>\n",
       "      <th>Genre</th>\n",
       "      <th>Critic_Score</th>\n",
       "    </tr>\n",
       "  </thead>\n",
       "  <tbody>\n",
       "    <tr>\n",
       "      <th>571</th>\n",
       "      <td>Sports</td>\n",
       "      <td>84.0</td>\n",
       "    </tr>\n",
       "    <tr>\n",
       "      <th>14891</th>\n",
       "      <td>Sports</td>\n",
       "      <td>68.0</td>\n",
       "    </tr>\n",
       "    <tr>\n",
       "      <th>9146</th>\n",
       "      <td>Sports</td>\n",
       "      <td>53.0</td>\n",
       "    </tr>\n",
       "  </tbody>\n",
       "</table>\n",
       "</div>"
      ],
      "text/plain": [
       "        Genre  Critic_Score\n",
       "571    Sports          84.0\n",
       "14891  Sports          68.0\n",
       "9146   Sports          53.0"
      ]
     },
     "execution_count": 4,
     "metadata": {},
     "output_type": "execute_result"
    }
   ],
   "source": [
    "columns = ['Genre', 'Critic_Score']\n",
    "df_sport = df.loc[df['Genre'] == 'Sports'][columns]\n",
    "df_sport = df_sport[df_sport['Critic_Score'].notna()] # Удаляем строки с NaN, расчитываем только среди игр у которых есть оценка. \n",
    "df_sport.info()\n",
    "df_sport.sample(3)"
   ]
  },
  {
   "cell_type": "code",
   "execution_count": 15,
   "metadata": {},
   "outputs": [
    {
     "name": "stdout",
     "output_type": "stream",
     "text": [
      "71.96817420435511\n",
      "Ttest_1sampResult(statistic=54.696017932916575, pvalue=0.0)\n",
      "Отвергаем нулевую гипотезу, средняя оценка больше 50 (жанр игр \"Cпорт\" нравится критикам)\n"
     ]
    }
   ],
   "source": [
    "from scipy import stats as st\n",
    "alpha = 0.05\n",
    "res_sport = st.ttest_1samp(df_sport['Critic_Score'], 50, alternative='greater')\n",
    "\n",
    "print(df_sport['Critic_Score'].mean())\n",
    "print(res_sport)\n",
    "\n",
    "if res_sport.pvalue < alpha: \n",
    "    print('Отвергаем нулевую гипотезу, средняя оценка больше 50 (жанр игр \"Cпорт\" нравится критикам)')\n",
    "else:\n",
    "    print('Не отвергаем нулевую  гипотезу, жанр \"Спорт\" не нравится критикам ')"
   ]
  },
  {
   "cell_type": "markdown",
   "metadata": {},
   "source": [
    "#### По результатам теста можно со 100% уверенностью сказать , что критики положительно оценивают игры в жанре \"Спорт\""
   ]
  },
  {
   "cell_type": "markdown",
   "metadata": {},
   "source": [
    "### 2.  Критикам нравятся больше игры на PC или на PS4?  \n",
    "В следствие того, что сравниваем две выборки и необходимо определить в чью сторону перевес, будем использовать двухвыборочный двухсторонний критерий Т - Стьюдента.\n",
    " \n",
    " #### Формулируем нулевую гипотезу.  \n",
    " \n",
    " Н0: Средняя оценка критиков по платформам РС и  PS4 одинаковая.   \n",
    " Н1: Средняя оценка критиков по платформам РС и  PS4 различается. \n",
    " \n",
    " Уровень статистическеой значимости Alpha за неимением других данных будем принимать 0.05  "
   ]
  },
  {
   "cell_type": "markdown",
   "metadata": {},
   "source": [
    "#### Сформируем две выборки "
   ]
  },
  {
   "cell_type": "code",
   "execution_count": 6,
   "metadata": {
    "scrolled": true
   },
   "outputs": [
    {
     "name": "stdout",
     "output_type": "stream",
     "text": [
      "<class 'pandas.core.frame.DataFrame'>\n",
      "Int64Index: 715 entries, 85 to 16709\n",
      "Data columns (total 2 columns):\n",
      " #   Column        Non-Null Count  Dtype  \n",
      "---  ------        --------------  -----  \n",
      " 0   Platform      715 non-null    object \n",
      " 1   Critic_Score  715 non-null    float64\n",
      "dtypes: float64(1), object(1)\n",
      "memory usage: 16.8+ KB\n"
     ]
    },
    {
     "data": {
      "text/html": [
       "<div>\n",
       "<style scoped>\n",
       "    .dataframe tbody tr th:only-of-type {\n",
       "        vertical-align: middle;\n",
       "    }\n",
       "\n",
       "    .dataframe tbody tr th {\n",
       "        vertical-align: top;\n",
       "    }\n",
       "\n",
       "    .dataframe thead th {\n",
       "        text-align: right;\n",
       "    }\n",
       "</style>\n",
       "<table border=\"1\" class=\"dataframe\">\n",
       "  <thead>\n",
       "    <tr style=\"text-align: right;\">\n",
       "      <th></th>\n",
       "      <th>Platform</th>\n",
       "      <th>Critic_Score</th>\n",
       "    </tr>\n",
       "  </thead>\n",
       "  <tbody>\n",
       "    <tr>\n",
       "      <th>7266</th>\n",
       "      <td>PC</td>\n",
       "      <td>80.0</td>\n",
       "    </tr>\n",
       "    <tr>\n",
       "      <th>8694</th>\n",
       "      <td>PC</td>\n",
       "      <td>55.0</td>\n",
       "    </tr>\n",
       "    <tr>\n",
       "      <th>8494</th>\n",
       "      <td>PC</td>\n",
       "      <td>47.0</td>\n",
       "    </tr>\n",
       "  </tbody>\n",
       "</table>\n",
       "</div>"
      ],
      "text/plain": [
       "     Platform  Critic_Score\n",
       "7266       PC          80.0\n",
       "8694       PC          55.0\n",
       "8494       PC          47.0"
      ]
     },
     "execution_count": 6,
     "metadata": {},
     "output_type": "execute_result"
    }
   ],
   "source": [
    "# Выбрка для платформы РС\n",
    "columns = ['Platform', 'Critic_Score']\n",
    "df_PC = df.loc[df['Platform'] == 'PC'][columns]\n",
    "df_PC = df_PC[df_PC['Critic_Score'].notna()] # Удаляем строки с NaN, расчитываем только среди игр у которых есть оценка. \n",
    "df_PC.info()\n",
    "df_PC.sample(3)"
   ]
  },
  {
   "cell_type": "code",
   "execution_count": 7,
   "metadata": {},
   "outputs": [
    {
     "name": "stdout",
     "output_type": "stream",
     "text": [
      "<class 'pandas.core.frame.DataFrame'>\n",
      "Int64Index: 252 entries, 42 to 16534\n",
      "Data columns (total 2 columns):\n",
      " #   Column        Non-Null Count  Dtype  \n",
      "---  ------        --------------  -----  \n",
      " 0   Platform      252 non-null    object \n",
      " 1   Critic_Score  252 non-null    float64\n",
      "dtypes: float64(1), object(1)\n",
      "memory usage: 5.9+ KB\n"
     ]
    },
    {
     "data": {
      "text/html": [
       "<div>\n",
       "<style scoped>\n",
       "    .dataframe tbody tr th:only-of-type {\n",
       "        vertical-align: middle;\n",
       "    }\n",
       "\n",
       "    .dataframe tbody tr th {\n",
       "        vertical-align: top;\n",
       "    }\n",
       "\n",
       "    .dataframe thead th {\n",
       "        text-align: right;\n",
       "    }\n",
       "</style>\n",
       "<table border=\"1\" class=\"dataframe\">\n",
       "  <thead>\n",
       "    <tr style=\"text-align: right;\">\n",
       "      <th></th>\n",
       "      <th>Platform</th>\n",
       "      <th>Critic_Score</th>\n",
       "    </tr>\n",
       "  </thead>\n",
       "  <tbody>\n",
       "    <tr>\n",
       "      <th>12275</th>\n",
       "      <td>PS4</td>\n",
       "      <td>72.0</td>\n",
       "    </tr>\n",
       "    <tr>\n",
       "      <th>7967</th>\n",
       "      <td>PS4</td>\n",
       "      <td>69.0</td>\n",
       "    </tr>\n",
       "    <tr>\n",
       "      <th>10726</th>\n",
       "      <td>PS4</td>\n",
       "      <td>73.0</td>\n",
       "    </tr>\n",
       "  </tbody>\n",
       "</table>\n",
       "</div>"
      ],
      "text/plain": [
       "      Platform  Critic_Score\n",
       "12275      PS4          72.0\n",
       "7967       PS4          69.0\n",
       "10726      PS4          73.0"
      ]
     },
     "execution_count": 7,
     "metadata": {},
     "output_type": "execute_result"
    }
   ],
   "source": [
    "# Выбрка для платформы PS4\n",
    "columns = ['Platform', 'Critic_Score']\n",
    "df_PS4 = df.loc[df['Platform'] == 'PS4'][columns]\n",
    "df_PS4 = df_PS4[df_PS4['Critic_Score'].notna()] # Удаляем строки с NaN, расчитываем только среди игр у которых есть оценка. \n",
    "df_PS4.info()\n",
    "df_PS4.sample(3)"
   ]
  },
  {
   "cell_type": "code",
   "execution_count": 18,
   "metadata": {},
   "outputs": [
    {
     "name": "stdout",
     "output_type": "stream",
     "text": [
      "75.92867132867133\n",
      "72.09126984126983\n",
      "Ttest_indResult(statistic=4.3087588262138725, pvalue=2.067249157283479e-05)\n",
      "Отвергаем нулевую гипотезу, критики по разному оценивают платформы РС  и PS4\n"
     ]
    }
   ],
   "source": [
    "res_platform = st.ttest_ind(df_PC['Critic_Score'], df_PS4['Critic_Score'], equal_var=False)\n",
    "\n",
    "print(df_PC['Critic_Score'].mean())\n",
    "print(df_PS4['Critic_Score'].mean())\n",
    "\n",
    "print(res_platform)\n",
    "\n",
    "if (res_platform.pvalue < alpha):\n",
    "    print('Отвергаем нулевую гипотезу, критики по разному оценивают платформы РС  и PS4')\n",
    "else:\n",
    "    print('Не отвергаем нулевую гипотезу')"
   ]
  },
  {
   "cell_type": "markdown",
   "metadata": {},
   "source": [
    "### По результатам теста получаем, что в среднем критики  чуть лучше оценивают игры на PC. И с учетом P-value меньше Альфа эта разница статистически значима.  А значит отвергаем нулевую гипотезу  - Критикам больше нарвятся игры на платформе PC. "
   ]
  },
  {
   "cell_type": "markdown",
   "metadata": {},
   "source": [
    "### 3. Критикам больше нравятся стрелялки или стратегии?  \n",
    "Также необходимо вычислить есть ли различие между выборками, будем использовать двухвыборочный двухсторонний критерий Т - Стьюдента.\n",
    "\n",
    "#### Формулируем нулевую гипотезу.\n",
    "Н0: Средняя оценка критиков по жанрам Shooter и Strategy не различается.  \n",
    "Н1: Средняя оценка критиков по платформам Shooter и Strategy различается.\n",
    "\n",
    "Уровень статистическеой значимости Alpha за неимением других данных будем принимать 0.05\n",
    "\n",
    "#### Сформируем две выборки\n"
   ]
  },
  {
   "cell_type": "code",
   "execution_count": 26,
   "metadata": {},
   "outputs": [
    {
     "data": {
      "text/html": [
       "<div>\n",
       "<style scoped>\n",
       "    .dataframe tbody tr th:only-of-type {\n",
       "        vertical-align: middle;\n",
       "    }\n",
       "\n",
       "    .dataframe tbody tr th {\n",
       "        vertical-align: top;\n",
       "    }\n",
       "\n",
       "    .dataframe thead th {\n",
       "        text-align: right;\n",
       "    }\n",
       "</style>\n",
       "<table border=\"1\" class=\"dataframe\">\n",
       "  <thead>\n",
       "    <tr style=\"text-align: right;\">\n",
       "      <th></th>\n",
       "      <th>Genre</th>\n",
       "      <th>Critic_Score</th>\n",
       "    </tr>\n",
       "  </thead>\n",
       "  <tbody>\n",
       "    <tr>\n",
       "      <th>3535</th>\n",
       "      <td>Shooter</td>\n",
       "      <td>69.0</td>\n",
       "    </tr>\n",
       "    <tr>\n",
       "      <th>2662</th>\n",
       "      <td>Shooter</td>\n",
       "      <td>69.0</td>\n",
       "    </tr>\n",
       "    <tr>\n",
       "      <th>2188</th>\n",
       "      <td>Shooter</td>\n",
       "      <td>81.0</td>\n",
       "    </tr>\n",
       "  </tbody>\n",
       "</table>\n",
       "</div>"
      ],
      "text/plain": [
       "        Genre  Critic_Score\n",
       "3535  Shooter          69.0\n",
       "2662  Shooter          69.0\n",
       "2188  Shooter          81.0"
      ]
     },
     "execution_count": 26,
     "metadata": {},
     "output_type": "execute_result"
    }
   ],
   "source": [
    "# Выборка по жанру Стрелялки \n",
    "columns = ['Genre', 'Critic_Score']\n",
    "df = df[df['Critic_Score'].notna()] # Удаляем строки с NaN, расчитываем только среди игр у которых есть оценка.\n",
    "df_Shooter = df.loc[df['Genre'] == 'Shooter'][columns]\n",
    "df_Shooter.sample(3)"
   ]
  },
  {
   "cell_type": "code",
   "execution_count": 25,
   "metadata": {},
   "outputs": [
    {
     "data": {
      "text/html": [
       "<div>\n",
       "<style scoped>\n",
       "    .dataframe tbody tr th:only-of-type {\n",
       "        vertical-align: middle;\n",
       "    }\n",
       "\n",
       "    .dataframe tbody tr th {\n",
       "        vertical-align: top;\n",
       "    }\n",
       "\n",
       "    .dataframe thead th {\n",
       "        text-align: right;\n",
       "    }\n",
       "</style>\n",
       "<table border=\"1\" class=\"dataframe\">\n",
       "  <thead>\n",
       "    <tr style=\"text-align: right;\">\n",
       "      <th></th>\n",
       "      <th>Genre</th>\n",
       "      <th>Critic_Score</th>\n",
       "    </tr>\n",
       "  </thead>\n",
       "  <tbody>\n",
       "    <tr>\n",
       "      <th>5379</th>\n",
       "      <td>Strategy</td>\n",
       "      <td>80.0</td>\n",
       "    </tr>\n",
       "    <tr>\n",
       "      <th>7692</th>\n",
       "      <td>Strategy</td>\n",
       "      <td>85.0</td>\n",
       "    </tr>\n",
       "    <tr>\n",
       "      <th>4788</th>\n",
       "      <td>Strategy</td>\n",
       "      <td>76.0</td>\n",
       "    </tr>\n",
       "  </tbody>\n",
       "</table>\n",
       "</div>"
      ],
      "text/plain": [
       "         Genre  Critic_Score\n",
       "5379  Strategy          80.0\n",
       "7692  Strategy          85.0\n",
       "4788  Strategy          76.0"
      ]
     },
     "execution_count": 25,
     "metadata": {},
     "output_type": "execute_result"
    }
   ],
   "source": [
    "# Выборка по жанру Стратегии \n",
    "columns = ['Genre', 'Critic_Score']\n",
    "df_Strategy= df.loc[df['Genre'] == 'Strategy'][columns]\n",
    "df_Strategy.sample(3)"
   ]
  },
  {
   "cell_type": "code",
   "execution_count": 23,
   "metadata": {
    "scrolled": true
   },
   "outputs": [
    {
     "name": "stdout",
     "output_type": "stream",
     "text": [
      "70.18114406779661\n",
      "72.08609271523179\n",
      "Ttest_indResult(statistic=-2.2972408230640315, pvalue=0.021938989522304823)\n",
      "Отвергаем нулевую гипотезу, критики по разному оценивают жанры Shooter и Strategy\n"
     ]
    }
   ],
   "source": [
    "res_genre = st.ttest_ind(df_Shooter['Critic_Score'], df_Strategy['Critic_Score'], equal_var=False)\n",
    "\n",
    "print(df_Shooter['Critic_Score'].mean())\n",
    "print(df_Strategy['Critic_Score'].mean())\n",
    "\n",
    "print(res_genre)\n",
    "\n",
    "if (res_genre.pvalue < alpha):\n",
    "    print('Отвергаем нулевую гипотезу, критики по разному оценивают жанры Shooter и Strategy')\n",
    "else:\n",
    "    print('Не отвергаем нулевую гипотезу - Средняя оценка критиков по жанрам Shooter и Strategy не различается')"
   ]
  },
  {
   "cell_type": "markdown",
   "metadata": {},
   "source": [
    "### По результатам теста получаем, что в среднем критики  чуть лучше оценивают игры в жанре Стратегии. . И с учетом P-value меньше Альфа эта разница статистически значима.  Соответственно отвергаем нулевую гипотезу  - Критикам больше нравятся игры в жанре Стратегии. "
   ]
  }
 ],
 "metadata": {
  "kernelspec": {
   "display_name": "Python 3",
   "language": "python",
   "name": "python3"
  },
  "language_info": {
   "codemirror_mode": {
    "name": "ipython",
    "version": 3
   },
   "file_extension": ".py",
   "mimetype": "text/x-python",
   "name": "python",
   "nbconvert_exporter": "python",
   "pygments_lexer": "ipython3",
   "version": "3.8.5"
  }
 },
 "nbformat": 4,
 "nbformat_minor": 4
}
