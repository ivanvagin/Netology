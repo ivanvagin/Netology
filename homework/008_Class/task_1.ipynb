{
 "cells": [
  {
   "cell_type": "markdown",
   "metadata": {},
   "source": [
    "### Задание 1\n",
    "Напишите функцию, которая возвращает название валюты (поле ‘Name’) с максимальным значением курса с помощью сервиса https://www.cbr-xml-daily.ru/daily_json.js"
   ]
  },
  {
   "cell_type": "code",
   "execution_count": 151,
   "metadata": {},
   "outputs": [
    {
     "name": "stdout",
     "output_type": "stream",
     "text": [
      "СДР (специальные права заимствования) 105.7536\n"
     ]
    }
   ],
   "source": [
    "import requests\n",
    "\n",
    "dict_requests = requests.get('https://www.cbr-xml-daily.ru/daily_json.js').json()['Valute']\n",
    "dict_value = {}\n",
    "for key, val in dict_requests.items():\n",
    "    dict_value.update({val['Name']:val['Value']}) # Создаем словарь с парами :  Имя Валюты : Курс\n",
    "for key, val in dict_value.items():\n",
    "    if val == max(dict_value.values()): # Находим максимальное значение курса и возвращаем его ключ\n",
    "        print(key, val)\n"
   ]
  },
  {
   "cell_type": "markdown",
   "metadata": {},
   "source": [
    "### от Преподователя "
   ]
  },
  {
   "cell_type": "code",
   "execution_count": 158,
   "metadata": {},
   "outputs": [
    {
     "data": {
      "text/plain": [
       "'СДР (специальные права заимствования)'"
      ]
     },
     "execution_count": 158,
     "metadata": {},
     "output_type": "execute_result"
    }
   ],
   "source": [
    "import requests\n",
    "r = requests.get('https://www.cbr-xml-daily.ru/daily_json.js')\n",
    "\n",
    "data_dict = r.json()['Valute']\n",
    "# print(data_dict)\n",
    "max(data_dict.items(), key=lambda x: x[1]['Value'])[1]['Name']"
   ]
  }
 ],
 "metadata": {
  "kernelspec": {
   "display_name": "Python 3",
   "language": "python",
   "name": "python3"
  },
  "language_info": {
   "codemirror_mode": {
    "name": "ipython",
    "version": 3
   },
   "file_extension": ".py",
   "mimetype": "text/x-python",
   "name": "python",
   "nbconvert_exporter": "python",
   "pygments_lexer": "ipython3",
   "version": "3.8.5"
  }
 },
 "nbformat": 4,
 "nbformat_minor": 4
}
