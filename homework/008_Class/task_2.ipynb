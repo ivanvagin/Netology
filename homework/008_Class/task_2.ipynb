{
 "cells": [
  {
   "cell_type": "markdown",
   "metadata": {},
   "source": [
    "### Задание 2\n",
    "Добавьте в класс Rate параметр diff (со значениями True или False), который в случае значения True в методах курсов валют (eur, usd итд) будет возвращать не курс валюты, а изменение по сравнению в прошлым значением. Считайте, self.diff будет принимать значение True только при возврате значения курса. При отображении всей информации о валюте он не используется."
   ]
  },
  {
   "cell_type": "code",
   "execution_count": null,
   "metadata": {},
   "outputs": [],
   "source": []
  },
  {
   "cell_type": "code",
   "execution_count": 246,
   "metadata": {},
   "outputs": [
    {
     "data": {
      "text/plain": [
       "{'ID': 'R01775',\n",
       " 'NumCode': '756',\n",
       " 'CharCode': 'CHF',\n",
       " 'Nominal': 1,\n",
       " 'Name': 'Швейцарский франк',\n",
       " 'Value': 80.9368,\n",
       " 'Previous': 81.395}"
      ]
     },
     "execution_count": 246,
     "metadata": {},
     "output_type": "execute_result"
    }
   ],
   "source": [
    "import requests\n",
    "\n",
    "class Rate:\n",
    "    \"\"\" Класс для получения информации по валюте \n",
    "    Принимает атрибуты:\n",
    "        - currency - Наименование валюты в формате 'USD'.  По умолчанию None\n",
    "        - format_ - Определение формата вывода  информаци. Full - полная информация, Value - только курс. \n",
    "        - diff - Параметр для получения разницы с предыдущим значением курса\n",
    "    \"\"\"\n",
    "    def __init__(self, currency = None, format_ = 'Full', diff = False):\n",
    "        self.currency = currency\n",
    "        self.format_ = format_\n",
    "        self.diff = diff\n",
    "        \n",
    "    def request(self):\n",
    "        \"\"\" Возвращает информацию с сервиса www.cbr-xml-daily.ru по ключу Valute в виде словаря:\n",
    "                {'AUD':\n",
    "                {'ID': 'R01010', 'NumCode': '036', 'CharCode': \n",
    "                'AUD', 'Nominal': 1, 'Name': 'Австралийский доллар', \n",
    "                'Value': 56.1411, 'Previous': 56.6328}\n",
    "            \n",
    "        \"\"\"\n",
    "        dict_requests = requests.get('https://www.cbr-xml-daily.ru/daily_json.js').json()['Valute']\n",
    "        if self.currency in dict_requests:\n",
    "            return dict_requests[self.currency]\n",
    "        else:\n",
    "            return 'Валюта не найдена в базе'\n",
    "        \n",
    "    def info(self):\n",
    "        \"\"\" Возвращает информацию по заданной валюте в вариантах Full и Value.\n",
    "            В варианте Value при условии diff == True, возвращает разницу с предыдущим курсом\n",
    "        \"\"\"\n",
    "        info = self.request()\n",
    "        if self.format_ == 'Full':\n",
    "            return info\n",
    "        if self.format_ == 'Value':\n",
    "            if self.diff:\n",
    "                return self.previous() \n",
    "            else:\n",
    "                return info['Value']\n",
    "        \n",
    "    def previous(self):\n",
    "        \"\"\"Возвращает значение разницы текущего и предыдущего курсов\"\"\"\n",
    "        request = self.request()\n",
    "        return request['Value'] - request['Previous']\n",
    "        \n",
    "cur = Rate('CHF')\n",
    "cur.info()\n",
    "\n",
    "# cur = Rate('EUR', 'Value')\n",
    "# cur.info()\n",
    "\n",
    "# cur = Rate('JPY', 'Value')\n",
    "# cur.diff = True\n",
    "# cur.info()\n",
    "\n",
    "# cur = Rate('SSS')\n",
    "# cur.info()\n",
    " "
   ]
  }
 ],
 "metadata": {
  "kernelspec": {
   "display_name": "Python 3",
   "language": "python",
   "name": "python3"
  },
  "language_info": {
   "codemirror_mode": {
    "name": "ipython",
    "version": 3
   },
   "file_extension": ".py",
   "mimetype": "text/x-python",
   "name": "python",
   "nbconvert_exporter": "python",
   "pygments_lexer": "ipython3",
   "version": "3.8.5"
  }
 },
 "nbformat": 4,
 "nbformat_minor": 4
}
