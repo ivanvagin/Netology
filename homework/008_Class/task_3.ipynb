{
 "cells": [
  {
   "cell_type": "markdown",
   "metadata": {},
   "source": [
    "### Задание 3\n",
    "\n",
    "Напишите класс Designer, который учитывает количество международных премий для дизайнеров (из презентации: “Повышение на 1 грейд за каждые 7 баллов. Получение международной премии – это +2 балла”). Считайте, что при выходе на работу сотрудник уже имеет две премии и их количество не меняется со стажем (конечно если хотите это можно вручную менять).\n"
   ]
  },
  {
   "cell_type": "code",
   "execution_count": 102,
   "metadata": {},
   "outputs": [],
   "source": [
    "class Employee:\n",
    "    def __init__(self, name, seniority):\n",
    "        self.name = name\n",
    "        self.seniority = seniority\n",
    "        \n",
    "        self.grade = 1\n",
    "    \n",
    "    def grade_up(self):\n",
    "        \"\"\"Повышает уровень сотрудника\"\"\"\n",
    "        self.grade += 1\n",
    "    \n",
    "    def publish_grade(self):\n",
    "        \"\"\"Публикация результатов аккредитации сотрудников\"\"\"\n",
    "        print(self.name, self.grade, self.seniority)    "
   ]
  },
  {
   "cell_type": "code",
   "execution_count": 121,
   "metadata": {},
   "outputs": [],
   "source": [
    "class Designer(Employee):\n",
    "    def __init__(self, name, seniority):\n",
    "        super().__init__(name, seniority = 4) # При поступлении у сотрудника Designer есть две международные  премии, значит seniority по умолчанию 4 балла\n",
    "        \n",
    "        self.grade = 1\n",
    "    \n",
    "    def upgrade_if_get_inter_award(self):\n",
    "        \"\"\" Прибавляет к seniority +2 балла за получение международной премии\n",
    "        \"\"\"\n",
    "        self.seniority += 2\n",
    "        \n",
    "        # условие повышения сотрудника из презентации\n",
    "        if self.seniority // 7 >= self.grade: #Повышаем грейд каждые 7 баллов и учитываем входящий грейд сотрудника\n",
    "            self.grade_up()\n",
    "        # публикация результатов дя проверки \n",
    "        return self.publish_grade()"
   ]
  },
  {
   "cell_type": "code",
   "execution_count": 122,
   "metadata": {
    "scrolled": false
   },
   "outputs": [
    {
     "name": "stdout",
     "output_type": "stream",
     "text": [
      "Антонина 1 6\n",
      "Антонина 2 8\n",
      "Антонина 2 10\n",
      "Антонина 2 12\n",
      "Антонина 3 14\n",
      "Антонина 3 16\n",
      "Антонина 3 18\n",
      "Антонина 3 20\n",
      "Антонина 4 22\n",
      "Антонина 4 24\n",
      "Антонина 4 26\n",
      "Антонина 5 28\n",
      "Антонина 5 30\n",
      "Антонина 5 32\n",
      "Антонина 5 34\n",
      "Антонина 6 36\n",
      "Антонина 6 38\n",
      "Антонина 6 40\n",
      "Антонина 7 42\n",
      "Антонина 7 44\n"
     ]
    }
   ],
   "source": [
    "antonina = Designer('Антонина', 0)\n",
    "for i in range(20):\n",
    "    antonina.upgrade_if_get_inter_award()\n",
    "\n",
    "\n"
   ]
  }
 ],
 "metadata": {
  "kernelspec": {
   "display_name": "Python 3",
   "language": "python",
   "name": "python3"
  },
  "language_info": {
   "codemirror_mode": {
    "name": "ipython",
    "version": 3
   },
   "file_extension": ".py",
   "mimetype": "text/x-python",
   "name": "python",
   "nbconvert_exporter": "python",
   "pygments_lexer": "ipython3",
   "version": "3.8.5"
  }
 },
 "nbformat": 4,
 "nbformat_minor": 4
}
