{
 "cells": [
  {
   "cell_type": "code",
   "execution_count": 63,
   "metadata": {},
   "outputs": [
    {
     "name": "stdout",
     "output_type": "stream",
     "text": [
      "Результат:\n",
      "Идеальные пары:\n",
      "Alex и Barbara\n",
      "Arthur и Emma\n",
      "Gosha и Kate\n",
      "John и Kira\n",
      "Peter и Liza\n",
      "Richard и Trisha\n"
     ]
    }
   ],
   "source": [
    "%%time\n",
    "\n",
    "boys = ['Peter', 'Alex', 'John', 'Arthur', 'Richard', 'Gosha']\n",
    "girls = ['Kate', 'Liza', 'Kira', 'Emma', 'Trisha', 'Barbara']\n",
    "#girls = ['Kate', 'Liza', 'Kira', 'Emma', 'Trisha', 'Barbara', 'Alba']\n",
    "# Проверяем что в списках равное кол-во значений\n",
    "if len(boys) != len(girls):\n",
    "    print('Результат:', 'Внимание, кто-то может остаться без пары!', sep = '\\n')\n",
    "else:\n",
    "# Создаем два новых списка с сортировкой по алфавиту\n",
    "    b = sorted(boys)\n",
    "    g = sorted (girls)\n",
    "# Создаем переменные для цикла, для авто добавления любого кол-ва значений в новый список пар\n",
    "    n = len(boys)\n",
    "    x = 0\n",
    "    print ('Результат:', 'Идеальные пары:', sep = '\\n')\n",
    "    while x != len(boys):\n",
    "        for i in boys:\n",
    "            pairs = []\n",
    "            pairs.append(b[x] + ' и ' + g[x])\n",
    "            x += 1\n",
    "# Выводим на печать отдельно каждый элемент нового списка\n",
    "            for elem in pairs:\n",
    "                print(elem)\n"
   ]
  },
  {
   "cell_type": "markdown",
   "metadata": {},
   "source": [
    "### Комментарий от преподователя \n"
   ]
  },
  {
   "cell_type": "code",
   "execution_count": 1,
   "metadata": {},
   "outputs": [
    {
     "name": "stdout",
     "output_type": "stream",
     "text": [
      "Лучшие пары:\n",
      "Alex и Barbara\n",
      "Arthur и Emma\n",
      "Gosha и Kate\n",
      "John и Kira\n",
      "Peter и Liza\n",
      "Richard и Trisha\n"
     ]
    }
   ],
   "source": [
    "boys = ['Peter', 'Alex', 'John', 'Arthur', 'Richard', 'Gosha']\n",
    "girls = ['Kate', 'Liza', 'Kira', 'Emma', 'Trisha', 'Barbara']\n",
    "\n",
    "if len(boys) != len(girls):\n",
    " print('Внимание, кто-то может остаться без пары!')\n",
    "else:\n",
    " print('Лучшие пары:')\n",
    " for boy, girl in zip(sorted(boys), sorted(girls)):\n",
    "   print(f'{boy} и {girl}')"
   ]
  }
 ],
 "metadata": {
  "kernelspec": {
   "display_name": "Python 3",
   "language": "python",
   "name": "python3"
  },
  "language_info": {
   "codemirror_mode": {
    "name": "ipython",
    "version": 3
   },
   "file_extension": ".py",
   "mimetype": "text/x-python",
   "name": "python",
   "nbconvert_exporter": "python",
   "pygments_lexer": "ipython3",
   "version": "3.8.5"
  }
 },
 "nbformat": 4,
 "nbformat_minor": 4
}
