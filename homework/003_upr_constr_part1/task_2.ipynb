{
 "cells": [
  {
   "cell_type": "code",
   "execution_count": 8,
   "metadata": {},
   "outputs": [
    {
     "name": "stdout",
     "output_type": "stream",
     "text": [
      "Введите Число: 51\n",
      "Введите Число: 9\n",
      "Введите Число: 7\n",
      "Введите Число: 153\n",
      "Введите Число: 0\n",
      "Сумма введенных чисел: 220\n"
     ]
    }
   ],
   "source": [
    "\"\"\" Задание №2 Напишите программу, которая последовательно запрашивает у пользователя числа (по одному за раз) \n",
    "и после первого нуля выводит сумму всех ранее введенных чисел.\"\"\"\n",
    "spisok = []\n",
    "# Цикл ввода данных пока в списке кол-во значений равных 0 - равно 0\n",
    "while spisok.count(0) != 1:\n",
    "    spisok.append(int(input('Введите Число: ')))\n",
    "else:\n",
    "    print('Сумма введенных чисел:', sum(spisok[0:]))"
   ]
  }
 ],
 "metadata": {
  "kernelspec": {
   "display_name": "Python 3",
   "language": "python",
   "name": "python3"
  },
  "language_info": {
   "codemirror_mode": {
    "name": "ipython",
    "version": 3
   },
   "file_extension": ".py",
   "mimetype": "text/x-python",
   "name": "python",
   "nbconvert_exporter": "python",
   "pygments_lexer": "ipython3",
   "version": "3.8.5"
  }
 },
 "nbformat": 4,
 "nbformat_minor": 4
}
