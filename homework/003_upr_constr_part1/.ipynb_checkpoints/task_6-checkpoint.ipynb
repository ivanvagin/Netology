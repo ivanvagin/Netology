{
 "cells": [
  {
   "cell_type": "markdown",
   "metadata": {},
   "source": [
    "Задание 6 (необязательное)\n",
    "Необходимо у пользователя запрашивать набор чисел разделенных пробелом. В результате должны выводиться числа, которые повторяются в вводе более одного раза.\n"
   ]
  },
  {
   "cell_type": "code",
   "execution_count": 35,
   "metadata": {},
   "outputs": [
    {
     "name": "stdout",
     "output_type": "stream",
     "text": [
      "Введите числа через пробел: 1 3 2 5 1 3 2 5 6 8 5\n",
      "5 3\n"
     ]
    }
   ],
   "source": [
    "lst = input('Введите числа через пробел: ').split()\n",
    "\n",
    "[item for item in set(lst) if lst.count(item) > 1]\n",
    "print(' '.join(item))\n",
    "          \n",
    "        \n",
    "        "
   ]
  }
 ],
 "metadata": {
  "kernelspec": {
   "display_name": "Python 3",
   "language": "python",
   "name": "python3"
  },
  "language_info": {
   "codemirror_mode": {
    "name": "ipython",
    "version": 3
   },
   "file_extension": ".py",
   "mimetype": "text/x-python",
   "name": "python",
   "nbconvert_exporter": "python",
   "pygments_lexer": "ipython3",
   "version": "3.8.5"
  }
 },
 "nbformat": 4,
 "nbformat_minor": 4
}
