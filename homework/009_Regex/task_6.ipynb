{
 "cells": [
  {
   "cell_type": "markdown",
   "metadata": {},
   "source": [
    "### Задание 6 (необязательное)\n",
    "\n",
    "Напишите функцию, которая будет проверять номер сотового телефона на валидность, если он валиден, то переводить его в формат:\n",
    "+7-xxx-xxx-xx-xx\n",
    "Постарайтесь предусмотреть как можно больше адекватных форматов изначального ввода номера. Примеры работы программы:\n",
    "\n",
    "phone = '+7 955 555-55-55’\n",
    "Результат: +7-950-555-55-55\n",
    "\n",
    "phone = '8(955)555-55-55’\n",
    "Результат: +7-950-555-55-55\n",
    "\n",
    "phone = '+7 955 555 55 55’\n",
    "Результат: +7-950-555-55-55\n",
    "\n",
    "phone = '7(955) 555-55-55’\n",
    "Результат: +7-950-555-55-55\n",
    "\n",
    "phone = '423-555-55-5555’\n",
    "Результат: Номер не валиден\n",
    "\n",
    "phone = '123-456-789’\n",
    "Результат: Номер не валиден"
   ]
  },
  {
   "cell_type": "code",
   "execution_count": 60,
   "metadata": {},
   "outputs": [
    {
     "name": "stdout",
     "output_type": "stream",
     "text": [
      "Результат:  +7-961-816-3330\n"
     ]
    }
   ],
   "source": [
    "import re\n",
    "\n",
    "# +7 955 555-55-55\n",
    "# 8(966)666-66-66\n",
    "# +7 955 555 55 55\n",
    "# +7 955 555 55 55\n",
    "# 423-555-55-5555\n",
    "# 123-456-789\n",
    "# 89618163330\n",
    "# 9618163330\n",
    "# 961-816-3330\n",
    "\n",
    "number = '961-816-3330'\n",
    "\n",
    "def validate_RU_phone_number(text):\n",
    "    patt_1 = r'(\\D\\d{1}|\\d{1})\\D(\\d{3})\\D(\\d{3})\\D(\\d{2})\\D(\\d{2})'\n",
    "    patt_2 = r'(\\d|\\s|)(\\d{3})(\\d{3})(\\d{2})(\\d{2})'\n",
    "    patt_3 = r'(\\d|\\s|| )(\\d{3})\\D(\\d{3})\\D(\\d{4})'\n",
    "    patt_4 = r'(\\d|\\s|| )(\\d{3})\\D(\\d{3})\\D(\\d{2})\\D(\\d{2}\\b|\\D)'\n",
    "    if re.findall(patt_1, text):\n",
    "        print('Результат: ', re.sub(patt_1, r'+7-\\2-\\3-\\4-\\5', text))\n",
    "    elif re.findall(patt_2, text):\n",
    "        print('Результат: ', re.sub(patt_2, r'+7-\\2-\\3-\\4-\\5', text))\n",
    "    elif re.findall(patt_3, text):\n",
    "        print('Результат: ', re.sub(patt_3, r'+7-\\2-\\3-\\4', text))\n",
    "    elif re.findall(patt_4, text):\n",
    "        print('Результат: ', re.sub(patt_4, r'+7-\\2-\\3-\\4-\\5', text))\n",
    "    else:\n",
    "        print('Номер не валиден.')\n",
    "    \n",
    "validate_RU_phone_number(number)\n",
    "\n",
    "\n"
   ]
  }
 ],
 "metadata": {
  "kernelspec": {
   "display_name": "Python 3",
   "language": "python",
   "name": "python3"
  },
  "language_info": {
   "codemirror_mode": {
    "name": "ipython",
    "version": 3
   },
   "file_extension": ".py",
   "mimetype": "text/x-python",
   "name": "python",
   "nbconvert_exporter": "python",
   "pygments_lexer": "ipython3",
   "version": "3.8.5"
  }
 },
 "nbformat": 4,
 "nbformat_minor": 4
}
