{
 "cells": [
  {
   "cell_type": "markdown",
   "metadata": {},
   "source": [
    "## Задание 1\n",
    "\n",
    "Напишите функцию, которая принимает на вход строку и проверяет является ли она валидным транспортным номером (1 буква, 3 цифры, 2 буквы, 2-3 цифры). Обратите внимание, что не все буквы кириллического алфавита используются в транспортных номерах. \n",
    "\n",
    "«й», «ц», «г», «ш», «щ», «з», «ф», «ы», «п», «л», «д», «ж», «э», «я», «ч», «ь», «ъ», «б», «ю», \n",
    "\n",
    "Если номер валиден, то функция должна возвращать отдельно номер и регион.\n",
    "\n",
    "Примеры работы программы:  \n",
    "\n",
    "1. `car_id = 'АВ222С96'`\n",
    "\n",
    "Результат: \n",
    "`Номер АВ222С валиден. Регион: 96`\n",
    "\n",
    "2. `car_id = 'АБ22ВВ193'`\n",
    "\n",
    "Результат: \n",
    "`Номер не валиден`"
   ]
  },
  {
   "cell_type": "code",
   "execution_count": 94,
   "metadata": {},
   "outputs": [
    {
     "name": "stdout",
     "output_type": "stream",
     "text": [
      "Номер А777ТУ валиден. Регион:  177\n"
     ]
    }
   ],
   "source": [
    "import re\n",
    "\n",
    "def validate_number(car_id):\n",
    "    patt = r'^[^ЙЦГШЩЗФЫПЛДЖЭЯЧЬЪБЮ0-9]{1}\\d{3}\\w{2}\\d{2,3}' # ^  Ищем в начале слова любую букву кроме исключения ^ЙЦГШЩЗФЫПЛДЖЭЯЧЬЪБЮ0-9 \n",
    "    get_num = re.findall(patt, car_id)\n",
    "    if get_num:\n",
    "        print('Номер', car_id[:6], 'валиден.', 'Регион: ', car_id[6:])\n",
    "    else:\n",
    "        print('Номер не валиден')  \n",
    "\n",
    "# car_id = 'А777ТУ30'\n",
    "# car_id = 'АА777ТУ30'\n",
    "car_id = 'А777ТУ177'\n",
    "\n",
    "validate_number(car_id)"
   ]
  },
  {
   "cell_type": "markdown",
   "metadata": {},
   "source": [
    "Убираем все символы кроме букв и переводим в верхний регистр"
   ]
  },
  {
   "cell_type": "code",
   "execution_count": 89,
   "metadata": {
    "scrolled": true
   },
   "outputs": [
    {
     "name": "stdout",
     "output_type": "stream",
     "text": [
      "ЙЦГШЩЗФЫПЛДЖЭЯЧЬЪБЮ\n"
     ]
    }
   ],
   "source": [
    "exc = '«й», «ц», «г», «ш», «щ», «з», «ф», «ы», «п», «л», «д», «ж», «э», «я», «ч», «ь», «ъ», «б», «ю»'\n",
    "a = re.sub(r'[«»,\\s]','', exc)\n",
    "print(a.swapcase())"
   ]
  }
 ],
 "metadata": {
  "kernelspec": {
   "display_name": "Python 3",
   "language": "python",
   "name": "python3"
  },
  "language_info": {
   "codemirror_mode": {
    "name": "ipython",
    "version": 3
   },
   "file_extension": ".py",
   "mimetype": "text/x-python",
   "name": "python",
   "nbconvert_exporter": "python",
   "pygments_lexer": "ipython3",
   "version": "3.8.5"
  }
 },
 "nbformat": 4,
 "nbformat_minor": 4
}
