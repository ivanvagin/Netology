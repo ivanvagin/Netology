{
 "cells": [
  {
   "cell_type": "markdown",
   "metadata": {},
   "source": [
    "### Задание 4\n",
    "Напишите функцию, которая будет принимать на вход список email-адресов и выводить их распределение по доменным зонам.\n",
    "\n",
    "Пример работы программы:\n",
    "\n",
    "emails = [‘test@gmail.com, xyz@test.in, test@ya.ru, xyz@mail.ru, xyz@ya.ru’, xyz@gmail.com]\n",
    "\n",
    "Результат:\n",
    "\n",
    "gmail.com: 2\n",
    "test.in: 1\n",
    "ya.ru: 2\n",
    "mail.ru: 1\n"
   ]
  },
  {
   "cell_type": "code",
   "execution_count": 56,
   "metadata": {},
   "outputs": [
    {
     "name": "stdout",
     "output_type": "stream",
     "text": [
      "{'gmail.com': 3, 'test.in': 1, 'ya.ru': 2, 'mail.ru': 1, 'new.ru': 1}\n"
     ]
    }
   ],
   "source": [
    "import re\n",
    "\n",
    "emails = ['test@gmail.com, xyz@test.in, test@ya.ru, xyz@mail.ru, xyz@ya.ru, xyz@gmail.com, xyz@gmail.com, new@new.ru']\n",
    "\n",
    "def domain_email(list_):\n",
    "    patt = r'\\w+\\.\\w+\\b' # Шаблон для поиска : любая буква множ раз (исключает @) , далее точка, далее любая буква множ раз\n",
    "    find_domain = re.findall(patt, ','.join(list_)) # создаем список из найденных по шаблону в списке преобразованном в строку \n",
    "    count_domain = {} #Создаем пустой словарь для добавления ключей \"найденных доменов\" и значений \"кол-во доменов в найденных\"\n",
    "    for i in find_domain:\n",
    "        if i not in count_domain:\n",
    "            count_domain.update({i:find_domain.count(i)})\n",
    "    print(count_domain)\n",
    "\n",
    "domain_email(emails)"
   ]
  }
 ],
 "metadata": {
  "kernelspec": {
   "display_name": "Python 3",
   "language": "python",
   "name": "python3"
  },
  "language_info": {
   "codemirror_mode": {
    "name": "ipython",
    "version": 3
   },
   "file_extension": ".py",
   "mimetype": "text/x-python",
   "name": "python",
   "nbconvert_exporter": "python",
   "pygments_lexer": "ipython3",
   "version": "3.8.5"
  }
 },
 "nbformat": 4,
 "nbformat_minor": 4
}
