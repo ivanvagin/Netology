{
 "cells": [
  {
   "cell_type": "markdown",
   "metadata": {},
   "source": [
    "### Домашнее задание по теме «Рекомендации на основе содержания»"
   ]
  },
  {
   "cell_type": "markdown",
   "metadata": {},
   "source": [
    "Построить рекомендации (регрессия, предсказываем оценку) на фичах: TF-IDF на тегах и жанрах   \n",
    "\n",
    "Средние оценки (+ median, variance, etc.) пользователя и фильма   \n",
    "\n",
    "Оценить RMSE на тестовой выборке"
   ]
  },
  {
   "cell_type": "code",
   "execution_count": 254,
   "metadata": {},
   "outputs": [],
   "source": [
    "import pandas as pd\n",
    "import numpy as np\n",
    "\n",
    "from tqdm import tqdm_notebook\n",
    "\n",
    "from sklearn.feature_extraction.text import TfidfVectorizer\n",
    "from sklearn.neighbors import NearestNeighbors\n",
    "from sklearn.linear_model import LinearRegression\n",
    "from sklearn.model_selection import train_test_split\n",
    "from sklearn.metrics import mean_squared_error\n",
    "\n",
    "%matplotlib inline"
   ]
  },
  {
   "cell_type": "markdown",
   "metadata": {},
   "source": [
    "Заугрузим данные в датафреймы"
   ]
  },
  {
   "cell_type": "code",
   "execution_count": 487,
   "metadata": {},
   "outputs": [],
   "source": [
    "links = pd.read_csv('links.csv')\n",
    "movies = pd.read_csv('movies.csv')\n",
    "ratings = pd.read_csv('ratings.csv')\n",
    "tags = pd.read_csv('tags.csv')"
   ]
  },
  {
   "cell_type": "code",
   "execution_count": 256,
   "metadata": {
    "scrolled": true
   },
   "outputs": [
    {
     "data": {
      "text/html": [
       "<div>\n",
       "<style scoped>\n",
       "    .dataframe tbody tr th:only-of-type {\n",
       "        vertical-align: middle;\n",
       "    }\n",
       "\n",
       "    .dataframe tbody tr th {\n",
       "        vertical-align: top;\n",
       "    }\n",
       "\n",
       "    .dataframe thead th {\n",
       "        text-align: right;\n",
       "    }\n",
       "</style>\n",
       "<table border=\"1\" class=\"dataframe\">\n",
       "  <thead>\n",
       "    <tr style=\"text-align: right;\">\n",
       "      <th></th>\n",
       "      <th>movieId</th>\n",
       "      <th>title</th>\n",
       "      <th>genres</th>\n",
       "    </tr>\n",
       "  </thead>\n",
       "  <tbody>\n",
       "    <tr>\n",
       "      <th>3672</th>\n",
       "      <td>5059</td>\n",
       "      <td>Little Dieter Needs to Fly (1997)</td>\n",
       "      <td>Documentary</td>\n",
       "    </tr>\n",
       "    <tr>\n",
       "      <th>8240</th>\n",
       "      <td>104272</td>\n",
       "      <td>Blackfish (2013)</td>\n",
       "      <td>Documentary</td>\n",
       "    </tr>\n",
       "    <tr>\n",
       "      <th>830</th>\n",
       "      <td>1091</td>\n",
       "      <td>Weekend at Bernie's (1989)</td>\n",
       "      <td>Comedy</td>\n",
       "    </tr>\n",
       "  </tbody>\n",
       "</table>\n",
       "</div>"
      ],
      "text/plain": [
       "      movieId                              title       genres\n",
       "3672     5059  Little Dieter Needs to Fly (1997)  Documentary\n",
       "8240   104272                   Blackfish (2013)  Documentary\n",
       "830      1091         Weekend at Bernie's (1989)       Comedy"
      ]
     },
     "execution_count": 256,
     "metadata": {},
     "output_type": "execute_result"
    }
   ],
   "source": [
    "movies.sample(3)"
   ]
  },
  {
   "cell_type": "markdown",
   "metadata": {},
   "source": [
    "Очистим признак жанры от служебных симоволов и разделим пробелами"
   ]
  },
  {
   "cell_type": "code",
   "execution_count": 488,
   "metadata": {},
   "outputs": [],
   "source": [
    "movies['genres'] = movies.genres.apply(lambda x: ' '.join(x.replace(' ', '').replace('-', '').split('|')))"
   ]
  },
  {
   "cell_type": "code",
   "execution_count": 489,
   "metadata": {},
   "outputs": [
    {
     "data": {
      "text/html": [
       "<div>\n",
       "<style scoped>\n",
       "    .dataframe tbody tr th:only-of-type {\n",
       "        vertical-align: middle;\n",
       "    }\n",
       "\n",
       "    .dataframe tbody tr th {\n",
       "        vertical-align: top;\n",
       "    }\n",
       "\n",
       "    .dataframe thead th {\n",
       "        text-align: right;\n",
       "    }\n",
       "</style>\n",
       "<table border=\"1\" class=\"dataframe\">\n",
       "  <thead>\n",
       "    <tr style=\"text-align: right;\">\n",
       "      <th></th>\n",
       "      <th>movieId</th>\n",
       "      <th>title</th>\n",
       "      <th>genres</th>\n",
       "    </tr>\n",
       "  </thead>\n",
       "  <tbody>\n",
       "    <tr>\n",
       "      <th>438</th>\n",
       "      <td>502</td>\n",
       "      <td>Next Karate Kid, The (1994)</td>\n",
       "      <td>Action Children Romance</td>\n",
       "    </tr>\n",
       "    <tr>\n",
       "      <th>2491</th>\n",
       "      <td>3325</td>\n",
       "      <td>Next Best Thing, The (2000)</td>\n",
       "      <td>Comedy Drama</td>\n",
       "    </tr>\n",
       "    <tr>\n",
       "      <th>3470</th>\n",
       "      <td>4734</td>\n",
       "      <td>Jay and Silent Bob Strike Back (2001)</td>\n",
       "      <td>Adventure Comedy</td>\n",
       "    </tr>\n",
       "  </tbody>\n",
       "</table>\n",
       "</div>"
      ],
      "text/plain": [
       "      movieId                                  title                   genres\n",
       "438       502            Next Karate Kid, The (1994)  Action Children Romance\n",
       "2491     3325            Next Best Thing, The (2000)             Comedy Drama\n",
       "3470     4734  Jay and Silent Bob Strike Back (2001)         Adventure Comedy"
      ]
     },
     "execution_count": 489,
     "metadata": {},
     "output_type": "execute_result"
    }
   ],
   "source": [
    "movies.sample(3)"
   ]
  },
  {
   "cell_type": "markdown",
   "metadata": {},
   "source": [
    "Очистим признак тэги от служебных симоволов и разделим пробелами"
   ]
  },
  {
   "cell_type": "code",
   "execution_count": 490,
   "metadata": {},
   "outputs": [],
   "source": [
    "tags['tag'] = tags.tag.apply(lambda x: ' '.join(x.replace(' ', ' ').replace('-', '').split('|')))"
   ]
  },
  {
   "cell_type": "code",
   "execution_count": 497,
   "metadata": {},
   "outputs": [
    {
     "data": {
      "text/html": [
       "<div>\n",
       "<style scoped>\n",
       "    .dataframe tbody tr th:only-of-type {\n",
       "        vertical-align: middle;\n",
       "    }\n",
       "\n",
       "    .dataframe tbody tr th {\n",
       "        vertical-align: top;\n",
       "    }\n",
       "\n",
       "    .dataframe thead th {\n",
       "        text-align: right;\n",
       "    }\n",
       "</style>\n",
       "<table border=\"1\" class=\"dataframe\">\n",
       "  <thead>\n",
       "    <tr style=\"text-align: right;\">\n",
       "      <th></th>\n",
       "      <th>userId</th>\n",
       "      <th>movieId</th>\n",
       "      <th>tag</th>\n",
       "      <th>timestamp</th>\n",
       "    </tr>\n",
       "  </thead>\n",
       "  <tbody>\n",
       "    <tr>\n",
       "      <th>2882</th>\n",
       "      <td>537</td>\n",
       "      <td>105504</td>\n",
       "      <td>suspense</td>\n",
       "      <td>1424141149</td>\n",
       "    </tr>\n",
       "    <tr>\n",
       "      <th>1285</th>\n",
       "      <td>474</td>\n",
       "      <td>1088</td>\n",
       "      <td>music</td>\n",
       "      <td>1138306856</td>\n",
       "    </tr>\n",
       "    <tr>\n",
       "      <th>1163</th>\n",
       "      <td>474</td>\n",
       "      <td>647</td>\n",
       "      <td>Gulf War</td>\n",
       "      <td>1137375718</td>\n",
       "    </tr>\n",
       "  </tbody>\n",
       "</table>\n",
       "</div>"
      ],
      "text/plain": [
       "      userId  movieId       tag   timestamp\n",
       "2882     537   105504  suspense  1424141149\n",
       "1285     474     1088     music  1138306856\n",
       "1163     474      647  Gulf War  1137375718"
      ]
     },
     "execution_count": 497,
     "metadata": {},
     "output_type": "execute_result"
    }
   ],
   "source": [
    "tags.sample(3)"
   ]
  },
  {
   "cell_type": "markdown",
   "metadata": {},
   "source": [
    "Объединим датафремы"
   ]
  },
  {
   "cell_type": "code",
   "execution_count": 474,
   "metadata": {
    "scrolled": false
   },
   "outputs": [
    {
     "name": "stdout",
     "output_type": "stream",
     "text": [
      "<class 'pandas.core.frame.DataFrame'>\n",
      "Int64Index: 11853 entries, 0 to 11852\n",
      "Data columns (total 6 columns):\n",
      " #   Column     Non-Null Count  Dtype \n",
      "---  ------     --------------  ----- \n",
      " 0   movieId    11853 non-null  int64 \n",
      " 1   title      11853 non-null  object\n",
      " 2   genres     11853 non-null  object\n",
      " 3   userId     11853 non-null  object\n",
      " 4   tag        11853 non-null  object\n",
      " 5   timestamp  11853 non-null  object\n",
      "dtypes: int64(1), object(5)\n",
      "memory usage: 648.2+ KB\n",
      "None\n"
     ]
    },
    {
     "data": {
      "text/html": [
       "<div>\n",
       "<style scoped>\n",
       "    .dataframe tbody tr th:only-of-type {\n",
       "        vertical-align: middle;\n",
       "    }\n",
       "\n",
       "    .dataframe tbody tr th {\n",
       "        vertical-align: top;\n",
       "    }\n",
       "\n",
       "    .dataframe thead th {\n",
       "        text-align: right;\n",
       "    }\n",
       "</style>\n",
       "<table border=\"1\" class=\"dataframe\">\n",
       "  <thead>\n",
       "    <tr style=\"text-align: right;\">\n",
       "      <th></th>\n",
       "      <th>movieId</th>\n",
       "      <th>title</th>\n",
       "      <th>genres</th>\n",
       "      <th>userId</th>\n",
       "      <th>tag</th>\n",
       "      <th>timestamp</th>\n",
       "    </tr>\n",
       "  </thead>\n",
       "  <tbody>\n",
       "    <tr>\n",
       "      <th>760</th>\n",
       "      <td>476</td>\n",
       "      <td>Inkwell, The (1994)</td>\n",
       "      <td>Comedy Drama</td>\n",
       "      <td>0</td>\n",
       "      <td>0</td>\n",
       "      <td>0</td>\n",
       "    </tr>\n",
       "    <tr>\n",
       "      <th>11480</th>\n",
       "      <td>165347</td>\n",
       "      <td>Jack Reacher: Never Go Back (2016)</td>\n",
       "      <td>Action Crime Drama Mystery Thriller</td>\n",
       "      <td>0</td>\n",
       "      <td>0</td>\n",
       "      <td>0</td>\n",
       "    </tr>\n",
       "    <tr>\n",
       "      <th>5095</th>\n",
       "      <td>5633</td>\n",
       "      <td>Heaven (2002)</td>\n",
       "      <td>Drama</td>\n",
       "      <td>474</td>\n",
       "      <td>bombs</td>\n",
       "      <td>1.13804e+09</td>\n",
       "    </tr>\n",
       "  </tbody>\n",
       "</table>\n",
       "</div>"
      ],
      "text/plain": [
       "       movieId                               title  \\\n",
       "760        476                 Inkwell, The (1994)   \n",
       "11480   165347  Jack Reacher: Never Go Back (2016)   \n",
       "5095      5633                       Heaven (2002)   \n",
       "\n",
       "                                    genres userId    tag    timestamp  \n",
       "760                           Comedy Drama      0      0            0  \n",
       "11480  Action Crime Drama Mystery Thriller      0      0            0  \n",
       "5095                                 Drama    474  bombs  1.13804e+09  "
      ]
     },
     "execution_count": 474,
     "metadata": {},
     "output_type": "execute_result"
    }
   ],
   "source": [
    "movie_tags_merge = movies.merge(tags, how='left', on='movieId').fillna('0')\n",
    "print(movie_tags_merge.info())\n",
    "movie_tags_merge.sample(3)"
   ]
  },
  {
   "cell_type": "code",
   "execution_count": 413,
   "metadata": {},
   "outputs": [
    {
     "name": "stdout",
     "output_type": "stream",
     "text": [
      "<class 'pandas.core.frame.DataFrame'>\n",
      "RangeIndex: 100836 entries, 0 to 100835\n",
      "Data columns (total 4 columns):\n",
      " #   Column     Non-Null Count   Dtype  \n",
      "---  ------     --------------   -----  \n",
      " 0   userId     100836 non-null  int64  \n",
      " 1   movieId    100836 non-null  int64  \n",
      " 2   rating     100836 non-null  float64\n",
      " 3   timestamp  100836 non-null  int64  \n",
      "dtypes: float64(1), int64(3)\n",
      "memory usage: 3.1 MB\n"
     ]
    }
   ],
   "source": [
    "ratings.info()"
   ]
  },
  {
   "cell_type": "code",
   "execution_count": 415,
   "metadata": {},
   "outputs": [],
   "source": [
    "movie_ratings_merge = movie_tags_merge.merge(ratings, how='left', on='movieId').fillna(0)"
   ]
  },
  {
   "cell_type": "code",
   "execution_count": 420,
   "metadata": {},
   "outputs": [
    {
     "name": "stdout",
     "output_type": "stream",
     "text": [
      "<class 'pandas.core.frame.DataFrame'>\n",
      "Int64Index: 285783 entries, 0 to 285782\n",
      "Data columns (total 9 columns):\n",
      " #   Column       Non-Null Count   Dtype  \n",
      "---  ------       --------------   -----  \n",
      " 0   movieId      285783 non-null  int64  \n",
      " 1   title        285783 non-null  object \n",
      " 2   genres       285783 non-null  object \n",
      " 3   userId_x     285783 non-null  object \n",
      " 4   tag          285783 non-null  object \n",
      " 5   timestamp_x  285783 non-null  object \n",
      " 6   userId_y     285783 non-null  float64\n",
      " 7   rating       285783 non-null  float64\n",
      " 8   timestamp_y  285783 non-null  float64\n",
      "dtypes: float64(3), int64(1), object(5)\n",
      "memory usage: 21.8+ MB\n",
      "None\n"
     ]
    },
    {
     "data": {
      "text/html": [
       "<div>\n",
       "<style scoped>\n",
       "    .dataframe tbody tr th:only-of-type {\n",
       "        vertical-align: middle;\n",
       "    }\n",
       "\n",
       "    .dataframe tbody tr th {\n",
       "        vertical-align: top;\n",
       "    }\n",
       "\n",
       "    .dataframe thead th {\n",
       "        text-align: right;\n",
       "    }\n",
       "</style>\n",
       "<table border=\"1\" class=\"dataframe\">\n",
       "  <thead>\n",
       "    <tr style=\"text-align: right;\">\n",
       "      <th></th>\n",
       "      <th>movieId</th>\n",
       "      <th>title</th>\n",
       "      <th>genres</th>\n",
       "      <th>userId_x</th>\n",
       "      <th>tag</th>\n",
       "      <th>timestamp_x</th>\n",
       "      <th>userId_y</th>\n",
       "      <th>rating</th>\n",
       "      <th>timestamp_y</th>\n",
       "    </tr>\n",
       "  </thead>\n",
       "  <tbody>\n",
       "    <tr>\n",
       "      <th>256232</th>\n",
       "      <td>66934</td>\n",
       "      <td>Dr. Horrible's Sing-Along Blog (2008)</td>\n",
       "      <td>Comedy Drama Musical SciFi</td>\n",
       "      <td>477</td>\n",
       "      <td>Neil Patrick Harris</td>\n",
       "      <td>1.24479e+09</td>\n",
       "      <td>177.0</td>\n",
       "      <td>4.0</td>\n",
       "      <td>1.435525e+09</td>\n",
       "    </tr>\n",
       "    <tr>\n",
       "      <th>129424</th>\n",
       "      <td>1219</td>\n",
       "      <td>Psycho (1960)</td>\n",
       "      <td>Crime Horror</td>\n",
       "      <td>477</td>\n",
       "      <td>Alfred Hitchcock</td>\n",
       "      <td>1.24258e+09</td>\n",
       "      <td>367.0</td>\n",
       "      <td>4.0</td>\n",
       "      <td>9.978113e+08</td>\n",
       "    </tr>\n",
       "    <tr>\n",
       "      <th>188999</th>\n",
       "      <td>3527</td>\n",
       "      <td>Predator (1987)</td>\n",
       "      <td>Action SciFi Thriller</td>\n",
       "      <td>477</td>\n",
       "      <td>Jesse Ventura</td>\n",
       "      <td>1.26983e+09</td>\n",
       "      <td>95.0</td>\n",
       "      <td>4.5</td>\n",
       "      <td>1.105401e+09</td>\n",
       "    </tr>\n",
       "  </tbody>\n",
       "</table>\n",
       "</div>"
      ],
      "text/plain": [
       "        movieId                                  title  \\\n",
       "256232    66934  Dr. Horrible's Sing-Along Blog (2008)   \n",
       "129424     1219                          Psycho (1960)   \n",
       "188999     3527                        Predator (1987)   \n",
       "\n",
       "                            genres userId_x                  tag  timestamp_x  \\\n",
       "256232  Comedy Drama Musical SciFi      477  Neil Patrick Harris  1.24479e+09   \n",
       "129424                Crime Horror      477     Alfred Hitchcock  1.24258e+09   \n",
       "188999       Action SciFi Thriller      477        Jesse Ventura  1.26983e+09   \n",
       "\n",
       "        userId_y  rating   timestamp_y  \n",
       "256232     177.0     4.0  1.435525e+09  \n",
       "129424     367.0     4.0  9.978113e+08  \n",
       "188999      95.0     4.5  1.105401e+09  "
      ]
     },
     "execution_count": 420,
     "metadata": {},
     "output_type": "execute_result"
    }
   ],
   "source": [
    "print(movie_ratings_merge.info())\n",
    "movie_ratings_merge.sample(3)"
   ]
  },
  {
   "cell_type": "markdown",
   "metadata": {},
   "source": [
    "Получим итоговый датафрейм с данными "
   ]
  },
  {
   "cell_type": "code",
   "execution_count": 500,
   "metadata": {
    "scrolled": true
   },
   "outputs": [
    {
     "name": "stdout",
     "output_type": "stream",
     "text": [
      "<class 'pandas.core.frame.DataFrame'>\n",
      "Int64Index: 285783 entries, 0 to 285782\n",
      "Data columns (total 4 columns):\n",
      " #   Column   Non-Null Count   Dtype  \n",
      "---  ------   --------------   -----  \n",
      " 0   movieId  285783 non-null  int64  \n",
      " 1   genres   285783 non-null  object \n",
      " 2   tag      285783 non-null  object \n",
      " 3   rating   285783 non-null  float64\n",
      "dtypes: float64(1), int64(1), object(2)\n",
      "memory usage: 10.9+ MB\n"
     ]
    }
   ],
   "source": [
    "movies_result = movie_ratings_merge[['movieId', 'genres', 'tag', 'rating']]\n",
    "movies_result.sample(3)\n",
    "movies_result.info()"
   ]
  },
  {
   "cell_type": "markdown",
   "metadata": {},
   "source": [
    "Подготовим данные для обучения модели"
   ]
  },
  {
   "cell_type": "code",
   "execution_count": 461,
   "metadata": {},
   "outputs": [],
   "source": [
    "X = (movies_result['genres'] + ' ' + movies_result['tag']).values\n",
    "y = movies_result['rating'].values"
   ]
  },
  {
   "cell_type": "markdown",
   "metadata": {},
   "source": [
    "Преобразуем данные о жанрах и тэгах в векторы и обучим модель Линейной регрессии"
   ]
  },
  {
   "cell_type": "code",
   "execution_count": 465,
   "metadata": {},
   "outputs": [],
   "source": [
    "tfidf = TfidfVectorizer()\n",
    "X_tfidf = tfidf.fit_transform(X)"
   ]
  },
  {
   "cell_type": "code",
   "execution_count": 466,
   "metadata": {},
   "outputs": [],
   "source": [
    "X_train, X_test, y_train, y_test= train_test_split(X_tfidf, y, test_size=0.2, random_state=42)"
   ]
  },
  {
   "cell_type": "code",
   "execution_count": 467,
   "metadata": {},
   "outputs": [],
   "source": [
    "lr = LinearRegression().fit(X_train, y_train)"
   ]
  },
  {
   "cell_type": "code",
   "execution_count": 468,
   "metadata": {
    "scrolled": true
   },
   "outputs": [],
   "source": [
    "y_pred = lr.predict(X_test)"
   ]
  },
  {
   "cell_type": "code",
   "execution_count": 469,
   "metadata": {},
   "outputs": [
    {
     "data": {
      "text/plain": [
       "0.9602211162551327"
      ]
     },
     "execution_count": 469,
     "metadata": {},
     "output_type": "execute_result"
    }
   ],
   "source": [
    "mean_squared_error(y_test, y_pred, squared=False)"
   ]
  },
  {
   "cell_type": "markdown",
   "metadata": {},
   "source": [
    "Добавим колонку с предсказаниями в наш итоговый датафрейм"
   ]
  },
  {
   "cell_type": "code",
   "execution_count": 502,
   "metadata": {},
   "outputs": [],
   "source": [
    "prediction_rating = lr.predict(X_tfidf)"
   ]
  },
  {
   "cell_type": "code",
   "execution_count": 503,
   "metadata": {
    "scrolled": true
   },
   "outputs": [
    {
     "name": "stderr",
     "output_type": "stream",
     "text": [
      "<ipython-input-503-30c9251c3883>:1: SettingWithCopyWarning: \n",
      "A value is trying to be set on a copy of a slice from a DataFrame.\n",
      "Try using .loc[row_indexer,col_indexer] = value instead\n",
      "\n",
      "See the caveats in the documentation: https://pandas.pydata.org/pandas-docs/stable/user_guide/indexing.html#returning-a-view-versus-a-copy\n",
      "  movies_result['Prediction'] = prediction_rating\n"
     ]
    }
   ],
   "source": [
    "movies_result['Prediction'] = prediction_rating"
   ]
  },
  {
   "cell_type": "code",
   "execution_count": 507,
   "metadata": {},
   "outputs": [
    {
     "data": {
      "text/html": [
       "<div>\n",
       "<style scoped>\n",
       "    .dataframe tbody tr th:only-of-type {\n",
       "        vertical-align: middle;\n",
       "    }\n",
       "\n",
       "    .dataframe tbody tr th {\n",
       "        vertical-align: top;\n",
       "    }\n",
       "\n",
       "    .dataframe thead th {\n",
       "        text-align: right;\n",
       "    }\n",
       "</style>\n",
       "<table border=\"1\" class=\"dataframe\">\n",
       "  <thead>\n",
       "    <tr style=\"text-align: right;\">\n",
       "      <th></th>\n",
       "      <th>movieId</th>\n",
       "      <th>genres</th>\n",
       "      <th>tag</th>\n",
       "      <th>rating</th>\n",
       "      <th>Prediction</th>\n",
       "    </tr>\n",
       "  </thead>\n",
       "  <tbody>\n",
       "    <tr>\n",
       "      <th>246974</th>\n",
       "      <td>49530</td>\n",
       "      <td>Action Adventure Crime Drama Thriller War</td>\n",
       "      <td>Jennifer Connelly</td>\n",
       "      <td>4.0</td>\n",
       "      <td>3.681821</td>\n",
       "    </tr>\n",
       "    <tr>\n",
       "      <th>9605</th>\n",
       "      <td>110</td>\n",
       "      <td>Action Drama War</td>\n",
       "      <td>Medieval</td>\n",
       "      <td>4.0</td>\n",
       "      <td>4.018135</td>\n",
       "    </tr>\n",
       "    <tr>\n",
       "      <th>266175</th>\n",
       "      <td>79132</td>\n",
       "      <td>Action Crime Drama Mystery SciFi Thriller IMAX</td>\n",
       "      <td>complicated</td>\n",
       "      <td>5.0</td>\n",
       "      <td>4.149748</td>\n",
       "    </tr>\n",
       "    <tr>\n",
       "      <th>47397</th>\n",
       "      <td>296</td>\n",
       "      <td>Comedy Crime Drama Thriller</td>\n",
       "      <td>ensemble cast</td>\n",
       "      <td>4.5</td>\n",
       "      <td>4.176957</td>\n",
       "    </tr>\n",
       "    <tr>\n",
       "      <th>4812</th>\n",
       "      <td>39</td>\n",
       "      <td>Comedy Romance</td>\n",
       "      <td>chick flick</td>\n",
       "      <td>3.0</td>\n",
       "      <td>3.069541</td>\n",
       "    </tr>\n",
       "    <tr>\n",
       "      <th>2330</th>\n",
       "      <td>25</td>\n",
       "      <td>Drama Romance</td>\n",
       "      <td>alcoholism</td>\n",
       "      <td>2.0</td>\n",
       "      <td>3.700549</td>\n",
       "    </tr>\n",
       "    <tr>\n",
       "      <th>107769</th>\n",
       "      <td>780</td>\n",
       "      <td>Action Adventure SciFi Thriller</td>\n",
       "      <td>aliens</td>\n",
       "      <td>4.0</td>\n",
       "      <td>3.709327</td>\n",
       "    </tr>\n",
       "    <tr>\n",
       "      <th>113780</th>\n",
       "      <td>924</td>\n",
       "      <td>Adventure Drama SciFi</td>\n",
       "      <td>revolutionary</td>\n",
       "      <td>4.5</td>\n",
       "      <td>3.951612</td>\n",
       "    </tr>\n",
       "    <tr>\n",
       "      <th>54707</th>\n",
       "      <td>296</td>\n",
       "      <td>Comedy Crime Drama Thriller</td>\n",
       "      <td>Harvey Keitel</td>\n",
       "      <td>5.0</td>\n",
       "      <td>4.141394</td>\n",
       "    </tr>\n",
       "    <tr>\n",
       "      <th>57984</th>\n",
       "      <td>296</td>\n",
       "      <td>Comedy Crime Drama Thriller</td>\n",
       "      <td>intellectual</td>\n",
       "      <td>4.0</td>\n",
       "      <td>4.143521</td>\n",
       "    </tr>\n",
       "  </tbody>\n",
       "</table>\n",
       "</div>"
      ],
      "text/plain": [
       "        movieId                                          genres  \\\n",
       "246974    49530       Action Adventure Crime Drama Thriller War   \n",
       "9605        110                                Action Drama War   \n",
       "266175    79132  Action Crime Drama Mystery SciFi Thriller IMAX   \n",
       "47397       296                     Comedy Crime Drama Thriller   \n",
       "4812         39                                  Comedy Romance   \n",
       "2330         25                                   Drama Romance   \n",
       "107769      780                 Action Adventure SciFi Thriller   \n",
       "113780      924                           Adventure Drama SciFi   \n",
       "54707       296                     Comedy Crime Drama Thriller   \n",
       "57984       296                     Comedy Crime Drama Thriller   \n",
       "\n",
       "                      tag  rating  Prediction  \n",
       "246974  Jennifer Connelly     4.0    3.681821  \n",
       "9605             Medieval     4.0    4.018135  \n",
       "266175        complicated     5.0    4.149748  \n",
       "47397       ensemble cast     4.5    4.176957  \n",
       "4812          chick flick     3.0    3.069541  \n",
       "2330           alcoholism     2.0    3.700549  \n",
       "107769             aliens     4.0    3.709327  \n",
       "113780      revolutionary     4.5    3.951612  \n",
       "54707       Harvey Keitel     5.0    4.141394  \n",
       "57984        intellectual     4.0    4.143521  "
      ]
     },
     "execution_count": 507,
     "metadata": {},
     "output_type": "execute_result"
    }
   ],
   "source": [
    "movies_result.sample(10)"
   ]
  },
  {
   "cell_type": "markdown",
   "metadata": {},
   "source": [
    "#### Обучим модель Линейной регрессии на средних оценках пользователей"
   ]
  }
 ],
 "metadata": {
  "kernelspec": {
   "display_name": "Python 3",
   "language": "python",
   "name": "python3"
  },
  "language_info": {
   "codemirror_mode": {
    "name": "ipython",
    "version": 3
   },
   "file_extension": ".py",
   "mimetype": "text/x-python",
   "name": "python",
   "nbconvert_exporter": "python",
   "pygments_lexer": "ipython3",
   "version": "3.8.5"
  }
 },
 "nbformat": 4,
 "nbformat_minor": 4
}
