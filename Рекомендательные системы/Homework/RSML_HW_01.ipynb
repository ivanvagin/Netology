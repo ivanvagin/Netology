{
 "cells": [
  {
   "cell_type": "markdown",
   "metadata": {},
   "source": [
    "### Домашнее задание по теме «Рекомендации на основе содержания»"
   ]
  },
  {
   "cell_type": "markdown",
   "metadata": {},
   "source": [
    "Построить рекомендации (регрессия, предсказываем оценку) на фичах: TF-IDF на тегах и жанрах   \n",
    "\n",
    "Средние оценки (+ median, variance, etc.) пользователя и фильма   \n",
    "\n",
    "Оценить RMSE на тестовой выборке"
   ]
  },
  {
   "cell_type": "code",
   "execution_count": 1,
   "metadata": {},
   "outputs": [],
   "source": [
    "import pandas as pd\n",
    "import numpy as np\n",
    "\n",
    "from sklearn.feature_extraction.text import TfidfVectorizer\n",
    "from sklearn.linear_model import LinearRegression\n",
    "from sklearn.model_selection import train_test_split\n",
    "from sklearn.metrics import mean_squared_error"
   ]
  },
  {
   "cell_type": "markdown",
   "metadata": {},
   "source": [
    "Заугрузим данные в датафреймы"
   ]
  },
  {
   "cell_type": "code",
   "execution_count": 34,
   "metadata": {},
   "outputs": [],
   "source": [
    "# links = pd.read_csv('links.csv')\n",
    "movies = pd.read_csv('movies.csv')\n",
    "ratings = pd.read_csv('ratings.csv')\n",
    "tags = pd.read_csv('tags.csv')"
   ]
  },
  {
   "cell_type": "code",
   "execution_count": 3,
   "metadata": {
    "scrolled": true
   },
   "outputs": [
    {
     "data": {
      "text/html": [
       "<div>\n",
       "<style scoped>\n",
       "    .dataframe tbody tr th:only-of-type {\n",
       "        vertical-align: middle;\n",
       "    }\n",
       "\n",
       "    .dataframe tbody tr th {\n",
       "        vertical-align: top;\n",
       "    }\n",
       "\n",
       "    .dataframe thead th {\n",
       "        text-align: right;\n",
       "    }\n",
       "</style>\n",
       "<table border=\"1\" class=\"dataframe\">\n",
       "  <thead>\n",
       "    <tr style=\"text-align: right;\">\n",
       "      <th></th>\n",
       "      <th>movieId</th>\n",
       "      <th>title</th>\n",
       "      <th>genres</th>\n",
       "    </tr>\n",
       "  </thead>\n",
       "  <tbody>\n",
       "    <tr>\n",
       "      <th>7788</th>\n",
       "      <td>91935</td>\n",
       "      <td>Albatross (2011)</td>\n",
       "      <td>Drama</td>\n",
       "    </tr>\n",
       "    <tr>\n",
       "      <th>6051</th>\n",
       "      <td>40491</td>\n",
       "      <td>Match Factory Girl, The (Tulitikkutehtaan tytt...</td>\n",
       "      <td>Comedy|Drama</td>\n",
       "    </tr>\n",
       "    <tr>\n",
       "      <th>2259</th>\n",
       "      <td>2997</td>\n",
       "      <td>Being John Malkovich (1999)</td>\n",
       "      <td>Comedy|Drama|Fantasy</td>\n",
       "    </tr>\n",
       "  </tbody>\n",
       "</table>\n",
       "</div>"
      ],
      "text/plain": [
       "      movieId                                              title  \\\n",
       "7788    91935                                   Albatross (2011)   \n",
       "6051    40491  Match Factory Girl, The (Tulitikkutehtaan tytt...   \n",
       "2259     2997                        Being John Malkovich (1999)   \n",
       "\n",
       "                    genres  \n",
       "7788                 Drama  \n",
       "6051          Comedy|Drama  \n",
       "2259  Comedy|Drama|Fantasy  "
      ]
     },
     "execution_count": 3,
     "metadata": {},
     "output_type": "execute_result"
    }
   ],
   "source": [
    "movies.sample(3)"
   ]
  },
  {
   "cell_type": "markdown",
   "metadata": {},
   "source": [
    "Очистим признак жанры от служебных симоволов и разделим пробелами"
   ]
  },
  {
   "cell_type": "code",
   "execution_count": 35,
   "metadata": {},
   "outputs": [],
   "source": [
    "movies['genres'] = movies.genres.apply(lambda x: ' '.join(x.replace(' ', '').replace('-', '').split('|')))"
   ]
  },
  {
   "cell_type": "code",
   "execution_count": 4,
   "metadata": {},
   "outputs": [
    {
     "data": {
      "text/html": [
       "<div>\n",
       "<style scoped>\n",
       "    .dataframe tbody tr th:only-of-type {\n",
       "        vertical-align: middle;\n",
       "    }\n",
       "\n",
       "    .dataframe tbody tr th {\n",
       "        vertical-align: top;\n",
       "    }\n",
       "\n",
       "    .dataframe thead th {\n",
       "        text-align: right;\n",
       "    }\n",
       "</style>\n",
       "<table border=\"1\" class=\"dataframe\">\n",
       "  <thead>\n",
       "    <tr style=\"text-align: right;\">\n",
       "      <th></th>\n",
       "      <th>movieId</th>\n",
       "      <th>title</th>\n",
       "      <th>genres</th>\n",
       "    </tr>\n",
       "  </thead>\n",
       "  <tbody>\n",
       "    <tr>\n",
       "      <th>6682</th>\n",
       "      <td>58047</td>\n",
       "      <td>Definitely, Maybe (2008)</td>\n",
       "      <td>Comedy Drama Romance</td>\n",
       "    </tr>\n",
       "    <tr>\n",
       "      <th>6780</th>\n",
       "      <td>60291</td>\n",
       "      <td>Gonzo: The Life and Work of Dr. Hunter S. Thom...</td>\n",
       "      <td>Documentary</td>\n",
       "    </tr>\n",
       "    <tr>\n",
       "      <th>982</th>\n",
       "      <td>1283</td>\n",
       "      <td>High Noon (1952)</td>\n",
       "      <td>Drama Western</td>\n",
       "    </tr>\n",
       "  </tbody>\n",
       "</table>\n",
       "</div>"
      ],
      "text/plain": [
       "      movieId                                              title  \\\n",
       "6682    58047                           Definitely, Maybe (2008)   \n",
       "6780    60291  Gonzo: The Life and Work of Dr. Hunter S. Thom...   \n",
       "982      1283                                   High Noon (1952)   \n",
       "\n",
       "                    genres  \n",
       "6682  Comedy Drama Romance  \n",
       "6780           Documentary  \n",
       "982          Drama Western  "
      ]
     },
     "execution_count": 4,
     "metadata": {},
     "output_type": "execute_result"
    }
   ],
   "source": [
    "movies.sample(3)"
   ]
  },
  {
   "cell_type": "markdown",
   "metadata": {},
   "source": [
    "Очистим признак тэги от служебных симоволов и разделим пробелами"
   ]
  },
  {
   "cell_type": "code",
   "execution_count": 37,
   "metadata": {
    "scrolled": true
   },
   "outputs": [],
   "source": [
    "tags['tag'] = tags.tag.apply(lambda x: ' '.join(x.replace(' ', ' ').replace('-', ' ').split(' ')))"
   ]
  },
  {
   "cell_type": "code",
   "execution_count": 15,
   "metadata": {},
   "outputs": [
    {
     "data": {
      "text/html": [
       "<div>\n",
       "<style scoped>\n",
       "    .dataframe tbody tr th:only-of-type {\n",
       "        vertical-align: middle;\n",
       "    }\n",
       "\n",
       "    .dataframe tbody tr th {\n",
       "        vertical-align: top;\n",
       "    }\n",
       "\n",
       "    .dataframe thead th {\n",
       "        text-align: right;\n",
       "    }\n",
       "</style>\n",
       "<table border=\"1\" class=\"dataframe\">\n",
       "  <thead>\n",
       "    <tr style=\"text-align: right;\">\n",
       "      <th></th>\n",
       "      <th>userId</th>\n",
       "      <th>movieId</th>\n",
       "      <th>tag</th>\n",
       "      <th>timestamp</th>\n",
       "    </tr>\n",
       "  </thead>\n",
       "  <tbody>\n",
       "    <tr>\n",
       "      <th>653</th>\n",
       "      <td>357</td>\n",
       "      <td>1059</td>\n",
       "      <td>shakespeare</td>\n",
       "      <td>1348627264</td>\n",
       "    </tr>\n",
       "    <tr>\n",
       "      <th>765</th>\n",
       "      <td>424</td>\n",
       "      <td>1200</td>\n",
       "      <td>sci fi</td>\n",
       "      <td>1457901245</td>\n",
       "    </tr>\n",
       "    <tr>\n",
       "      <th>3675</th>\n",
       "      <td>606</td>\n",
       "      <td>3578</td>\n",
       "      <td>Romans</td>\n",
       "      <td>1173212944</td>\n",
       "    </tr>\n",
       "    <tr>\n",
       "      <th>1906</th>\n",
       "      <td>474</td>\n",
       "      <td>4326</td>\n",
       "      <td>rasicm</td>\n",
       "      <td>1137375204</td>\n",
       "    </tr>\n",
       "    <tr>\n",
       "      <th>1207</th>\n",
       "      <td>474</td>\n",
       "      <td>918</td>\n",
       "      <td>1900s</td>\n",
       "      <td>1138137949</td>\n",
       "    </tr>\n",
       "    <tr>\n",
       "      <th>1782</th>\n",
       "      <td>474</td>\n",
       "      <td>3385</td>\n",
       "      <td>Peace Corp</td>\n",
       "      <td>1137374553</td>\n",
       "    </tr>\n",
       "    <tr>\n",
       "      <th>594</th>\n",
       "      <td>318</td>\n",
       "      <td>68954</td>\n",
       "      <td>computer animation</td>\n",
       "      <td>1266408645</td>\n",
       "    </tr>\n",
       "    <tr>\n",
       "      <th>168</th>\n",
       "      <td>62</td>\n",
       "      <td>45447</td>\n",
       "      <td>treasure hunt</td>\n",
       "      <td>1525637084</td>\n",
       "    </tr>\n",
       "    <tr>\n",
       "      <th>325</th>\n",
       "      <td>62</td>\n",
       "      <td>128360</td>\n",
       "      <td>violent</td>\n",
       "      <td>1526078912</td>\n",
       "    </tr>\n",
       "    <tr>\n",
       "      <th>2061</th>\n",
       "      <td>474</td>\n",
       "      <td>6016</td>\n",
       "      <td>violence</td>\n",
       "      <td>1138039157</td>\n",
       "    </tr>\n",
       "  </tbody>\n",
       "</table>\n",
       "</div>"
      ],
      "text/plain": [
       "      userId  movieId                 tag   timestamp\n",
       "653      357     1059         shakespeare  1348627264\n",
       "765      424     1200              sci fi  1457901245\n",
       "3675     606     3578              Romans  1173212944\n",
       "1906     474     4326              rasicm  1137375204\n",
       "1207     474      918               1900s  1138137949\n",
       "1782     474     3385          Peace Corp  1137374553\n",
       "594      318    68954  computer animation  1266408645\n",
       "168       62    45447       treasure hunt  1525637084\n",
       "325       62   128360             violent  1526078912\n",
       "2061     474     6016            violence  1138039157"
      ]
     },
     "execution_count": 15,
     "metadata": {},
     "output_type": "execute_result"
    }
   ],
   "source": [
    "tags.sample(10)"
   ]
  },
  {
   "cell_type": "markdown",
   "metadata": {},
   "source": [
    "Объединим датафремы"
   ]
  },
  {
   "cell_type": "code",
   "execution_count": 38,
   "metadata": {
    "scrolled": false
   },
   "outputs": [
    {
     "name": "stdout",
     "output_type": "stream",
     "text": [
      "<class 'pandas.core.frame.DataFrame'>\n",
      "Int64Index: 11853 entries, 0 to 11852\n",
      "Data columns (total 6 columns):\n",
      " #   Column     Non-Null Count  Dtype \n",
      "---  ------     --------------  ----- \n",
      " 0   movieId    11853 non-null  int64 \n",
      " 1   title      11853 non-null  object\n",
      " 2   genres     11853 non-null  object\n",
      " 3   userId     11853 non-null  object\n",
      " 4   tag        11853 non-null  object\n",
      " 5   timestamp  11853 non-null  object\n",
      "dtypes: int64(1), object(5)\n",
      "memory usage: 648.2+ KB\n",
      "None\n"
     ]
    },
    {
     "data": {
      "text/html": [
       "<div>\n",
       "<style scoped>\n",
       "    .dataframe tbody tr th:only-of-type {\n",
       "        vertical-align: middle;\n",
       "    }\n",
       "\n",
       "    .dataframe tbody tr th {\n",
       "        vertical-align: top;\n",
       "    }\n",
       "\n",
       "    .dataframe thead th {\n",
       "        text-align: right;\n",
       "    }\n",
       "</style>\n",
       "<table border=\"1\" class=\"dataframe\">\n",
       "  <thead>\n",
       "    <tr style=\"text-align: right;\">\n",
       "      <th></th>\n",
       "      <th>movieId</th>\n",
       "      <th>title</th>\n",
       "      <th>genres</th>\n",
       "      <th>userId</th>\n",
       "      <th>tag</th>\n",
       "      <th>timestamp</th>\n",
       "    </tr>\n",
       "  </thead>\n",
       "  <tbody>\n",
       "    <tr>\n",
       "      <th>6868</th>\n",
       "      <td>26590</td>\n",
       "      <td>G.I. Joe: The Movie (1987)</td>\n",
       "      <td>Action Adventure Animation Children Fantasy SciFi</td>\n",
       "      <td>0</td>\n",
       "      <td>0</td>\n",
       "      <td>0</td>\n",
       "    </tr>\n",
       "    <tr>\n",
       "      <th>10661</th>\n",
       "      <td>122912</td>\n",
       "      <td>Avengers: Infinity War - Part I (2018)</td>\n",
       "      <td>Action Adventure SciFi</td>\n",
       "      <td>62</td>\n",
       "      <td>Robert Downey Jr.</td>\n",
       "      <td>1.52603e+09</td>\n",
       "    </tr>\n",
       "    <tr>\n",
       "      <th>7915</th>\n",
       "      <td>51935</td>\n",
       "      <td>Shooter (2007)</td>\n",
       "      <td>Action Drama Thriller</td>\n",
       "      <td>0</td>\n",
       "      <td>0</td>\n",
       "      <td>0</td>\n",
       "    </tr>\n",
       "  </tbody>\n",
       "</table>\n",
       "</div>"
      ],
      "text/plain": [
       "       movieId                                   title  \\\n",
       "6868     26590              G.I. Joe: The Movie (1987)   \n",
       "10661   122912  Avengers: Infinity War - Part I (2018)   \n",
       "7915     51935                          Shooter (2007)   \n",
       "\n",
       "                                                  genres userId  \\\n",
       "6868   Action Adventure Animation Children Fantasy SciFi      0   \n",
       "10661                             Action Adventure SciFi     62   \n",
       "7915                               Action Drama Thriller      0   \n",
       "\n",
       "                     tag    timestamp  \n",
       "6868                   0            0  \n",
       "10661  Robert Downey Jr.  1.52603e+09  \n",
       "7915                   0            0  "
      ]
     },
     "execution_count": 38,
     "metadata": {},
     "output_type": "execute_result"
    }
   ],
   "source": [
    "movie_tags_merge = movies.merge(tags, how='left', on='movieId').fillna('0')\n",
    "print(movie_tags_merge.info())\n",
    "movie_tags_merge.sample(3)"
   ]
  },
  {
   "cell_type": "code",
   "execution_count": 39,
   "metadata": {},
   "outputs": [
    {
     "name": "stdout",
     "output_type": "stream",
     "text": [
      "<class 'pandas.core.frame.DataFrame'>\n",
      "RangeIndex: 100836 entries, 0 to 100835\n",
      "Data columns (total 4 columns):\n",
      " #   Column     Non-Null Count   Dtype  \n",
      "---  ------     --------------   -----  \n",
      " 0   userId     100836 non-null  int64  \n",
      " 1   movieId    100836 non-null  int64  \n",
      " 2   rating     100836 non-null  float64\n",
      " 3   timestamp  100836 non-null  int64  \n",
      "dtypes: float64(1), int64(3)\n",
      "memory usage: 3.1 MB\n"
     ]
    }
   ],
   "source": [
    "ratings.info()"
   ]
  },
  {
   "cell_type": "code",
   "execution_count": 40,
   "metadata": {},
   "outputs": [],
   "source": [
    "movie_ratings_merge = movie_tags_merge.merge(ratings, how='left', on='movieId').fillna(0)"
   ]
  },
  {
   "cell_type": "code",
   "execution_count": 41,
   "metadata": {},
   "outputs": [
    {
     "name": "stdout",
     "output_type": "stream",
     "text": [
      "<class 'pandas.core.frame.DataFrame'>\n",
      "Int64Index: 285783 entries, 0 to 285782\n",
      "Data columns (total 9 columns):\n",
      " #   Column       Non-Null Count   Dtype  \n",
      "---  ------       --------------   -----  \n",
      " 0   movieId      285783 non-null  int64  \n",
      " 1   title        285783 non-null  object \n",
      " 2   genres       285783 non-null  object \n",
      " 3   userId_x     285783 non-null  object \n",
      " 4   tag          285783 non-null  object \n",
      " 5   timestamp_x  285783 non-null  object \n",
      " 6   userId_y     285783 non-null  float64\n",
      " 7   rating       285783 non-null  float64\n",
      " 8   timestamp_y  285783 non-null  float64\n",
      "dtypes: float64(3), int64(1), object(5)\n",
      "memory usage: 21.8+ MB\n",
      "None\n"
     ]
    },
    {
     "data": {
      "text/html": [
       "<div>\n",
       "<style scoped>\n",
       "    .dataframe tbody tr th:only-of-type {\n",
       "        vertical-align: middle;\n",
       "    }\n",
       "\n",
       "    .dataframe tbody tr th {\n",
       "        vertical-align: top;\n",
       "    }\n",
       "\n",
       "    .dataframe thead th {\n",
       "        text-align: right;\n",
       "    }\n",
       "</style>\n",
       "<table border=\"1\" class=\"dataframe\">\n",
       "  <thead>\n",
       "    <tr style=\"text-align: right;\">\n",
       "      <th></th>\n",
       "      <th>movieId</th>\n",
       "      <th>title</th>\n",
       "      <th>genres</th>\n",
       "      <th>userId_x</th>\n",
       "      <th>tag</th>\n",
       "      <th>timestamp_x</th>\n",
       "      <th>userId_y</th>\n",
       "      <th>rating</th>\n",
       "      <th>timestamp_y</th>\n",
       "    </tr>\n",
       "  </thead>\n",
       "  <tbody>\n",
       "    <tr>\n",
       "      <th>9399</th>\n",
       "      <td>110</td>\n",
       "      <td>Braveheart (1995)</td>\n",
       "      <td>Action Drama War</td>\n",
       "      <td>62</td>\n",
       "      <td>inspirational</td>\n",
       "      <td>1.52815e+09</td>\n",
       "      <td>160.0</td>\n",
       "      <td>4.0</td>\n",
       "      <td>9.711127e+08</td>\n",
       "    </tr>\n",
       "    <tr>\n",
       "      <th>215099</th>\n",
       "      <td>5803</td>\n",
       "      <td>I Spy (2002)</td>\n",
       "      <td>Action Adventure Comedy Crime</td>\n",
       "      <td>0</td>\n",
       "      <td>0</td>\n",
       "      <td>0</td>\n",
       "      <td>275.0</td>\n",
       "      <td>2.0</td>\n",
       "      <td>1.049078e+09</td>\n",
       "    </tr>\n",
       "    <tr>\n",
       "      <th>78156</th>\n",
       "      <td>296</td>\n",
       "      <td>Pulp Fiction (1994)</td>\n",
       "      <td>Comedy Crime Drama Thriller</td>\n",
       "      <td>599</td>\n",
       "      <td>Steve Buscemi</td>\n",
       "      <td>1.49846e+09</td>\n",
       "      <td>328.0</td>\n",
       "      <td>5.0</td>\n",
       "      <td>1.494212e+09</td>\n",
       "    </tr>\n",
       "  </tbody>\n",
       "</table>\n",
       "</div>"
      ],
      "text/plain": [
       "        movieId                title                         genres userId_x  \\\n",
       "9399        110    Braveheart (1995)               Action Drama War       62   \n",
       "215099     5803         I Spy (2002)  Action Adventure Comedy Crime        0   \n",
       "78156       296  Pulp Fiction (1994)    Comedy Crime Drama Thriller      599   \n",
       "\n",
       "                  tag  timestamp_x  userId_y  rating   timestamp_y  \n",
       "9399    inspirational  1.52815e+09     160.0     4.0  9.711127e+08  \n",
       "215099              0            0     275.0     2.0  1.049078e+09  \n",
       "78156   Steve Buscemi  1.49846e+09     328.0     5.0  1.494212e+09  "
      ]
     },
     "execution_count": 41,
     "metadata": {},
     "output_type": "execute_result"
    }
   ],
   "source": [
    "print(movie_ratings_merge.info())\n",
    "movie_ratings_merge.sample(3)"
   ]
  },
  {
   "cell_type": "markdown",
   "metadata": {},
   "source": [
    "Добавим столбец со средним значением оценки  по каждому пользователю"
   ]
  },
  {
   "cell_type": "code",
   "execution_count": 43,
   "metadata": {},
   "outputs": [],
   "source": [
    "movie_ratings_merge['avg_rate_user'] = movie_ratings_merge.groupby('userId_x')['rating'].transform('mean')"
   ]
  },
  {
   "cell_type": "markdown",
   "metadata": {},
   "source": [
    "Добавим столбец со средним значением оценки по каждому фильму"
   ]
  },
  {
   "cell_type": "code",
   "execution_count": 44,
   "metadata": {},
   "outputs": [],
   "source": [
    "movie_ratings_merge['avg_rate_movie'] = movie_ratings_merge.groupby('movieId')['rating'].transform('mean')"
   ]
  },
  {
   "cell_type": "code",
   "execution_count": 45,
   "metadata": {},
   "outputs": [
    {
     "data": {
      "text/html": [
       "<div>\n",
       "<style scoped>\n",
       "    .dataframe tbody tr th:only-of-type {\n",
       "        vertical-align: middle;\n",
       "    }\n",
       "\n",
       "    .dataframe tbody tr th {\n",
       "        vertical-align: top;\n",
       "    }\n",
       "\n",
       "    .dataframe thead th {\n",
       "        text-align: right;\n",
       "    }\n",
       "</style>\n",
       "<table border=\"1\" class=\"dataframe\">\n",
       "  <thead>\n",
       "    <tr style=\"text-align: right;\">\n",
       "      <th></th>\n",
       "      <th>movieId</th>\n",
       "      <th>title</th>\n",
       "      <th>genres</th>\n",
       "      <th>userId_x</th>\n",
       "      <th>tag</th>\n",
       "      <th>timestamp_x</th>\n",
       "      <th>userId_y</th>\n",
       "      <th>rating</th>\n",
       "      <th>timestamp_y</th>\n",
       "      <th>avg_rate_user</th>\n",
       "      <th>avg_rate_movie</th>\n",
       "    </tr>\n",
       "  </thead>\n",
       "  <tbody>\n",
       "    <tr>\n",
       "      <th>231976</th>\n",
       "      <td>7572</td>\n",
       "      <td>Wit (2001)</td>\n",
       "      <td>Drama</td>\n",
       "      <td>474</td>\n",
       "      <td>cancer</td>\n",
       "      <td>1.13718e+09</td>\n",
       "      <td>474.0</td>\n",
       "      <td>4.5</td>\n",
       "      <td>1.132173e+09</td>\n",
       "      <td>3.776389</td>\n",
       "      <td>4.500000</td>\n",
       "    </tr>\n",
       "    <tr>\n",
       "      <th>200597</th>\n",
       "      <td>4226</td>\n",
       "      <td>Memento (2000)</td>\n",
       "      <td>Mystery Thriller</td>\n",
       "      <td>567</td>\n",
       "      <td>dreamlike</td>\n",
       "      <td>1.52528e+09</td>\n",
       "      <td>105.0</td>\n",
       "      <td>3.5</td>\n",
       "      <td>1.446573e+09</td>\n",
       "      <td>4.020959</td>\n",
       "      <td>4.122642</td>\n",
       "    </tr>\n",
       "    <tr>\n",
       "      <th>180765</th>\n",
       "      <td>2959</td>\n",
       "      <td>Fight Club (1999)</td>\n",
       "      <td>Action Crime Drama Thriller</td>\n",
       "      <td>599</td>\n",
       "      <td>violent</td>\n",
       "      <td>1.49846e+09</td>\n",
       "      <td>533.0</td>\n",
       "      <td>5.0</td>\n",
       "      <td>1.424754e+09</td>\n",
       "      <td>4.168586</td>\n",
       "      <td>4.272936</td>\n",
       "    </tr>\n",
       "  </tbody>\n",
       "</table>\n",
       "</div>"
      ],
      "text/plain": [
       "        movieId              title                       genres userId_x  \\\n",
       "231976     7572         Wit (2001)                        Drama      474   \n",
       "200597     4226     Memento (2000)             Mystery Thriller      567   \n",
       "180765     2959  Fight Club (1999)  Action Crime Drama Thriller      599   \n",
       "\n",
       "              tag  timestamp_x  userId_y  rating   timestamp_y  avg_rate_user  \\\n",
       "231976     cancer  1.13718e+09     474.0     4.5  1.132173e+09       3.776389   \n",
       "200597  dreamlike  1.52528e+09     105.0     3.5  1.446573e+09       4.020959   \n",
       "180765    violent  1.49846e+09     533.0     5.0  1.424754e+09       4.168586   \n",
       "\n",
       "        avg_rate_movie  \n",
       "231976        4.500000  \n",
       "200597        4.122642  \n",
       "180765        4.272936  "
      ]
     },
     "execution_count": 45,
     "metadata": {},
     "output_type": "execute_result"
    }
   ],
   "source": [
    "movie_ratings_merge.sample(3)"
   ]
  },
  {
   "cell_type": "markdown",
   "metadata": {},
   "source": [
    "Заполним  строки с нулевыми данными медианой из соответсвующий стобцов"
   ]
  },
  {
   "cell_type": "code",
   "execution_count": 46,
   "metadata": {
    "scrolled": true
   },
   "outputs": [],
   "source": [
    "movie_ratings_merge['avg_rate_user'].fillna(movie_ratings_merge['avg_rate_user'].median(), inplace=True)\n",
    "movie_ratings_merge['avg_rate_movie'].fillna(movie_ratings_merge['avg_rate_movie'].median(), inplace=True)\n",
    "movie_ratings_merge['rating'].fillna(movie_ratings_merge['rating'].median(), inplace=True)"
   ]
  },
  {
   "cell_type": "code",
   "execution_count": 47,
   "metadata": {},
   "outputs": [
    {
     "name": "stdout",
     "output_type": "stream",
     "text": [
      "<class 'pandas.core.frame.DataFrame'>\n",
      "Int64Index: 285783 entries, 0 to 285782\n",
      "Data columns (total 11 columns):\n",
      " #   Column          Non-Null Count   Dtype  \n",
      "---  ------          --------------   -----  \n",
      " 0   movieId         285783 non-null  int64  \n",
      " 1   title           285783 non-null  object \n",
      " 2   genres          285783 non-null  object \n",
      " 3   userId_x        285783 non-null  object \n",
      " 4   tag             285783 non-null  object \n",
      " 5   timestamp_x     285783 non-null  object \n",
      " 6   userId_y        285783 non-null  float64\n",
      " 7   rating          285783 non-null  float64\n",
      " 8   timestamp_y     285783 non-null  float64\n",
      " 9   avg_rate_user   285783 non-null  float64\n",
      " 10  avg_rate_movie  285783 non-null  float64\n",
      "dtypes: float64(5), int64(1), object(5)\n",
      "memory usage: 26.2+ MB\n"
     ]
    }
   ],
   "source": [
    "movie_ratings_merge.info()"
   ]
  },
  {
   "cell_type": "markdown",
   "metadata": {},
   "source": [
    "Получим итоговый датафрейм с данными "
   ]
  },
  {
   "cell_type": "code",
   "execution_count": 81,
   "metadata": {
    "scrolled": false
   },
   "outputs": [
    {
     "data": {
      "text/html": [
       "<div>\n",
       "<style scoped>\n",
       "    .dataframe tbody tr th:only-of-type {\n",
       "        vertical-align: middle;\n",
       "    }\n",
       "\n",
       "    .dataframe tbody tr th {\n",
       "        vertical-align: top;\n",
       "    }\n",
       "\n",
       "    .dataframe thead th {\n",
       "        text-align: right;\n",
       "    }\n",
       "</style>\n",
       "<table border=\"1\" class=\"dataframe\">\n",
       "  <thead>\n",
       "    <tr style=\"text-align: right;\">\n",
       "      <th></th>\n",
       "      <th>genres</th>\n",
       "      <th>tag</th>\n",
       "      <th>rating</th>\n",
       "      <th>avg_rate_user</th>\n",
       "      <th>avg_rate_movie</th>\n",
       "    </tr>\n",
       "  </thead>\n",
       "  <tbody>\n",
       "    <tr>\n",
       "      <th>117129</th>\n",
       "      <td>Drama Romance</td>\n",
       "      <td>Leonardo DiCaprio</td>\n",
       "      <td>5.0</td>\n",
       "      <td>3.792018</td>\n",
       "      <td>3.722222</td>\n",
       "    </tr>\n",
       "    <tr>\n",
       "      <th>14937</th>\n",
       "      <td>Adventure Comedy</td>\n",
       "      <td>0</td>\n",
       "      <td>2.5</td>\n",
       "      <td>3.285343</td>\n",
       "      <td>3.060150</td>\n",
       "    </tr>\n",
       "    <tr>\n",
       "      <th>121075</th>\n",
       "      <td>Comedy Drama</td>\n",
       "      <td>0</td>\n",
       "      <td>1.0</td>\n",
       "      <td>3.285343</td>\n",
       "      <td>3.136364</td>\n",
       "    </tr>\n",
       "    <tr>\n",
       "      <th>162443</th>\n",
       "      <td>Action Adventure Comedy</td>\n",
       "      <td>0</td>\n",
       "      <td>0.5</td>\n",
       "      <td>3.285343</td>\n",
       "      <td>3.198347</td>\n",
       "    </tr>\n",
       "    <tr>\n",
       "      <th>229408</th>\n",
       "      <td>Drama Romance SciFi</td>\n",
       "      <td>feel good</td>\n",
       "      <td>4.0</td>\n",
       "      <td>4.020959</td>\n",
       "      <td>4.160305</td>\n",
       "    </tr>\n",
       "    <tr>\n",
       "      <th>275244</th>\n",
       "      <td>Action Drama Western</td>\n",
       "      <td>Soundtrack</td>\n",
       "      <td>4.0</td>\n",
       "      <td>3.955575</td>\n",
       "      <td>3.943662</td>\n",
       "    </tr>\n",
       "    <tr>\n",
       "      <th>20618</th>\n",
       "      <td>Action Adventure SciFi</td>\n",
       "      <td>sci fi</td>\n",
       "      <td>5.0</td>\n",
       "      <td>3.990667</td>\n",
       "      <td>4.231076</td>\n",
       "    </tr>\n",
       "    <tr>\n",
       "      <th>163097</th>\n",
       "      <td>Animation Comedy Musical</td>\n",
       "      <td>free speech</td>\n",
       "      <td>4.0</td>\n",
       "      <td>3.990667</td>\n",
       "      <td>3.861842</td>\n",
       "    </tr>\n",
       "    <tr>\n",
       "      <th>188513</th>\n",
       "      <td>Comedy Romance</td>\n",
       "      <td>alternate endings</td>\n",
       "      <td>4.0</td>\n",
       "      <td>3.776389</td>\n",
       "      <td>3.611111</td>\n",
       "    </tr>\n",
       "    <tr>\n",
       "      <th>69407</th>\n",
       "      <td>Comedy Crime Drama Thriller</td>\n",
       "      <td>philosophical</td>\n",
       "      <td>5.0</td>\n",
       "      <td>4.168586</td>\n",
       "      <td>4.197068</td>\n",
       "    </tr>\n",
       "  </tbody>\n",
       "</table>\n",
       "</div>"
      ],
      "text/plain": [
       "                             genres                tag  rating  avg_rate_user  \\\n",
       "117129                Drama Romance  Leonardo DiCaprio     5.0       3.792018   \n",
       "14937              Adventure Comedy                  0     2.5       3.285343   \n",
       "121075                 Comedy Drama                  0     1.0       3.285343   \n",
       "162443      Action Adventure Comedy                  0     0.5       3.285343   \n",
       "229408          Drama Romance SciFi          feel good     4.0       4.020959   \n",
       "275244         Action Drama Western         Soundtrack     4.0       3.955575   \n",
       "20618        Action Adventure SciFi             sci fi     5.0       3.990667   \n",
       "163097     Animation Comedy Musical        free speech     4.0       3.990667   \n",
       "188513               Comedy Romance  alternate endings     4.0       3.776389   \n",
       "69407   Comedy Crime Drama Thriller      philosophical     5.0       4.168586   \n",
       "\n",
       "        avg_rate_movie  \n",
       "117129        3.722222  \n",
       "14937         3.060150  \n",
       "121075        3.136364  \n",
       "162443        3.198347  \n",
       "229408        4.160305  \n",
       "275244        3.943662  \n",
       "20618         4.231076  \n",
       "163097        3.861842  \n",
       "188513        3.611111  \n",
       "69407         4.197068  "
      ]
     },
     "execution_count": 81,
     "metadata": {},
     "output_type": "execute_result"
    }
   ],
   "source": [
    "movie_result = movie_ratings_merge[['genres', 'tag', 'rating', 'avg_rate_user', 'avg_rate_movie']]\n",
    "movie_result.sample(10)\n",
    "# movie_result.info()"
   ]
  },
  {
   "cell_type": "markdown",
   "metadata": {},
   "source": [
    "Преобразуем полученные средние оценки в массив "
   ]
  },
  {
   "cell_type": "code",
   "execution_count": 50,
   "metadata": {},
   "outputs": [],
   "source": [
    "X_means = movie_result[['avg_rate_user', 'avg_rate_movie']].to_numpy()"
   ]
  },
  {
   "cell_type": "code",
   "execution_count": 51,
   "metadata": {},
   "outputs": [
    {
     "data": {
      "text/plain": [
       "(285783, 2)"
      ]
     },
     "execution_count": 51,
     "metadata": {},
     "output_type": "execute_result"
    }
   ],
   "source": [
    "X_means.shape\n"
   ]
  },
  {
   "cell_type": "markdown",
   "metadata": {},
   "source": [
    "Преобразуем данные о жанрах и тэгах в векторыx"
   ]
  },
  {
   "cell_type": "code",
   "execution_count": 52,
   "metadata": {
    "scrolled": true
   },
   "outputs": [],
   "source": [
    "tfidf_model = TfidfVectorizer()\n",
    "X_genres = tfidf_model.fit_transform(movie_result['genres']).toarray()"
   ]
  },
  {
   "cell_type": "code",
   "execution_count": 53,
   "metadata": {},
   "outputs": [
    {
     "data": {
      "text/plain": [
       "(285783, 20)"
      ]
     },
     "execution_count": 53,
     "metadata": {},
     "output_type": "execute_result"
    }
   ],
   "source": [
    "X_genres.shape"
   ]
  },
  {
   "cell_type": "code",
   "execution_count": 55,
   "metadata": {},
   "outputs": [],
   "source": [
    "tfidf_transformer = TfidfVectorizer(tokenizer=lambda x: x.split('|'))\n",
    "X_tags = tfidf_transformer.fit_transform(movie_result['tag']).toarray()"
   ]
  },
  {
   "cell_type": "code",
   "execution_count": 56,
   "metadata": {},
   "outputs": [
    {
     "data": {
      "text/plain": [
       "(285783, 1468)"
      ]
     },
     "execution_count": 56,
     "metadata": {},
     "output_type": "execute_result"
    }
   ],
   "source": [
    "X_tags.shape"
   ]
  },
  {
   "cell_type": "code",
   "execution_count": 57,
   "metadata": {},
   "outputs": [],
   "source": [
    "X_tfidf = np.hstack((X_tags, X_genres))"
   ]
  },
  {
   "cell_type": "code",
   "execution_count": 58,
   "metadata": {},
   "outputs": [
    {
     "data": {
      "text/plain": [
       "(285783, 1488)"
      ]
     },
     "execution_count": 58,
     "metadata": {},
     "output_type": "execute_result"
    }
   ],
   "source": [
    "X_tfidf.shape"
   ]
  },
  {
   "cell_type": "markdown",
   "metadata": {},
   "source": [
    "Подготовим данные и обучим модель Линейной регрессии"
   ]
  },
  {
   "cell_type": "code",
   "execution_count": 63,
   "metadata": {},
   "outputs": [],
   "source": [
    "X = np.hstack((X_tfidf, X_means))"
   ]
  },
  {
   "cell_type": "code",
   "execution_count": 60,
   "metadata": {},
   "outputs": [],
   "source": [
    "y = movie_result['rating'].to_numpy().flatten()"
   ]
  },
  {
   "cell_type": "code",
   "execution_count": 64,
   "metadata": {},
   "outputs": [],
   "source": [
    "X_train, X_test, y_train, y_test= train_test_split(X, y, test_size=0.2, random_state=42)"
   ]
  },
  {
   "cell_type": "code",
   "execution_count": 65,
   "metadata": {},
   "outputs": [],
   "source": [
    "lr = LinearRegression().fit(X_train, y_train)"
   ]
  },
  {
   "cell_type": "code",
   "execution_count": 66,
   "metadata": {
    "scrolled": true
   },
   "outputs": [],
   "source": [
    "y_pred = lr.predict(X_test)"
   ]
  },
  {
   "cell_type": "code",
   "execution_count": 67,
   "metadata": {
    "scrolled": true
   },
   "outputs": [
    {
     "data": {
      "text/plain": [
       "0.9020290186759707"
      ]
     },
     "execution_count": 67,
     "metadata": {},
     "output_type": "execute_result"
    }
   ],
   "source": [
    "mean_squared_error(y_test, y_pred, squared=False)"
   ]
  },
  {
   "cell_type": "code",
   "execution_count": 68,
   "metadata": {},
   "outputs": [
    {
     "name": "stdout",
     "output_type": "stream",
     "text": [
      "21.63815496166289 %\n"
     ]
    }
   ],
   "source": [
    "r2_score = lr.score(X_test,y_test)\n",
    "print(r2_score*100,'%')"
   ]
  },
  {
   "cell_type": "markdown",
   "metadata": {},
   "source": [
    "Добавим колонку с предсказаниями в наш итоговый датафрейм"
   ]
  },
  {
   "cell_type": "code",
   "execution_count": 77,
   "metadata": {},
   "outputs": [],
   "source": [
    "prediction_rating = lr.predict(X)"
   ]
  },
  {
   "cell_type": "code",
   "execution_count": 78,
   "metadata": {},
   "outputs": [
    {
     "name": "stderr",
     "output_type": "stream",
     "text": [
      "<ipython-input-78-55c0692beb44>:1: SettingWithCopyWarning: \n",
      "A value is trying to be set on a copy of a slice from a DataFrame.\n",
      "Try using .loc[row_indexer,col_indexer] = value instead\n",
      "\n",
      "See the caveats in the documentation: https://pandas.pydata.org/pandas-docs/stable/user_guide/indexing.html#returning-a-view-versus-a-copy\n",
      "  movie_result['Prediction'] = prediction_rating\n"
     ]
    }
   ],
   "source": [
    "movie_result['Prediction'] = prediction_rating"
   ]
  },
  {
   "cell_type": "code",
   "execution_count": 80,
   "metadata": {
    "scrolled": false
   },
   "outputs": [
    {
     "data": {
      "text/html": [
       "<div>\n",
       "<style scoped>\n",
       "    .dataframe tbody tr th:only-of-type {\n",
       "        vertical-align: middle;\n",
       "    }\n",
       "\n",
       "    .dataframe tbody tr th {\n",
       "        vertical-align: top;\n",
       "    }\n",
       "\n",
       "    .dataframe thead th {\n",
       "        text-align: right;\n",
       "    }\n",
       "</style>\n",
       "<table border=\"1\" class=\"dataframe\">\n",
       "  <thead>\n",
       "    <tr style=\"text-align: right;\">\n",
       "      <th></th>\n",
       "      <th>genres</th>\n",
       "      <th>tag</th>\n",
       "      <th>rating</th>\n",
       "      <th>avg_rate_user</th>\n",
       "      <th>avg_rate_movie</th>\n",
       "      <th>Prediction</th>\n",
       "    </tr>\n",
       "  </thead>\n",
       "  <tbody>\n",
       "    <tr>\n",
       "      <th>168191</th>\n",
       "      <td>Horror SciFi</td>\n",
       "      <td>0</td>\n",
       "      <td>3.0</td>\n",
       "      <td>3.285343</td>\n",
       "      <td>2.500000</td>\n",
       "      <td>2.482561</td>\n",
       "    </tr>\n",
       "    <tr>\n",
       "      <th>173118</th>\n",
       "      <td>Action Crime Drama Thriller</td>\n",
       "      <td>dark comedy</td>\n",
       "      <td>4.5</td>\n",
       "      <td>4.168586</td>\n",
       "      <td>4.272936</td>\n",
       "      <td>4.274812</td>\n",
       "    </tr>\n",
       "    <tr>\n",
       "      <th>87375</th>\n",
       "      <td>Comedy Drama Romance War</td>\n",
       "      <td>bubba gump shrimp</td>\n",
       "      <td>5.0</td>\n",
       "      <td>4.164134</td>\n",
       "      <td>4.164134</td>\n",
       "      <td>4.164766</td>\n",
       "    </tr>\n",
       "    <tr>\n",
       "      <th>244068</th>\n",
       "      <td>Action Comedy Horror Thriller</td>\n",
       "      <td>0</td>\n",
       "      <td>3.0</td>\n",
       "      <td>3.285343</td>\n",
       "      <td>2.642857</td>\n",
       "      <td>2.633378</td>\n",
       "    </tr>\n",
       "    <tr>\n",
       "      <th>148182</th>\n",
       "      <td>Drama SciFi Thriller</td>\n",
       "      <td>atmospheric</td>\n",
       "      <td>1.0</td>\n",
       "      <td>4.020959</td>\n",
       "      <td>3.851064</td>\n",
       "      <td>3.842012</td>\n",
       "    </tr>\n",
       "    <tr>\n",
       "      <th>79869</th>\n",
       "      <td>Comedy Crime Drama Thriller</td>\n",
       "      <td>thought provoking</td>\n",
       "      <td>4.0</td>\n",
       "      <td>4.168586</td>\n",
       "      <td>4.197068</td>\n",
       "      <td>4.195658</td>\n",
       "    </tr>\n",
       "    <tr>\n",
       "      <th>8616</th>\n",
       "      <td>Adventure Children Comedy Musical</td>\n",
       "      <td>muppets</td>\n",
       "      <td>4.0</td>\n",
       "      <td>3.776389</td>\n",
       "      <td>3.326923</td>\n",
       "      <td>3.339235</td>\n",
       "    </tr>\n",
       "    <tr>\n",
       "      <th>156845</th>\n",
       "      <td>Drama</td>\n",
       "      <td>0</td>\n",
       "      <td>3.5</td>\n",
       "      <td>3.285343</td>\n",
       "      <td>3.375000</td>\n",
       "      <td>3.375305</td>\n",
       "    </tr>\n",
       "    <tr>\n",
       "      <th>159500</th>\n",
       "      <td>Action SciFi</td>\n",
       "      <td>0</td>\n",
       "      <td>2.0</td>\n",
       "      <td>3.285343</td>\n",
       "      <td>2.777778</td>\n",
       "      <td>2.766340</td>\n",
       "    </tr>\n",
       "    <tr>\n",
       "      <th>274809</th>\n",
       "      <td>Action Drama Western</td>\n",
       "      <td>Humour</td>\n",
       "      <td>4.5</td>\n",
       "      <td>3.651496</td>\n",
       "      <td>3.943662</td>\n",
       "      <td>3.943009</td>\n",
       "    </tr>\n",
       "  </tbody>\n",
       "</table>\n",
       "</div>"
      ],
      "text/plain": [
       "                                   genres                tag  rating  \\\n",
       "168191                       Horror SciFi                  0     3.0   \n",
       "173118        Action Crime Drama Thriller        dark comedy     4.5   \n",
       "87375            Comedy Drama Romance War  bubba gump shrimp     5.0   \n",
       "244068      Action Comedy Horror Thriller                  0     3.0   \n",
       "148182               Drama SciFi Thriller        atmospheric     1.0   \n",
       "79869         Comedy Crime Drama Thriller  thought provoking     4.0   \n",
       "8616    Adventure Children Comedy Musical            muppets     4.0   \n",
       "156845                              Drama                  0     3.5   \n",
       "159500                       Action SciFi                  0     2.0   \n",
       "274809               Action Drama Western             Humour     4.5   \n",
       "\n",
       "        avg_rate_user  avg_rate_movie  Prediction  \n",
       "168191       3.285343        2.500000    2.482561  \n",
       "173118       4.168586        4.272936    4.274812  \n",
       "87375        4.164134        4.164134    4.164766  \n",
       "244068       3.285343        2.642857    2.633378  \n",
       "148182       4.020959        3.851064    3.842012  \n",
       "79869        4.168586        4.197068    4.195658  \n",
       "8616         3.776389        3.326923    3.339235  \n",
       "156845       3.285343        3.375000    3.375305  \n",
       "159500       3.285343        2.777778    2.766340  \n",
       "274809       3.651496        3.943662    3.943009  "
      ]
     },
     "execution_count": 80,
     "metadata": {},
     "output_type": "execute_result"
    }
   ],
   "source": [
    "movie_result.sample(10)"
   ]
  }
 ],
 "metadata": {
  "kernelspec": {
   "display_name": "Python 3",
   "language": "python",
   "name": "python3"
  },
  "language_info": {
   "codemirror_mode": {
    "name": "ipython",
    "version": 3
   },
   "file_extension": ".py",
   "mimetype": "text/x-python",
   "name": "python",
   "nbconvert_exporter": "python",
   "pygments_lexer": "ipython3",
   "version": "3.8.5"
  }
 },
 "nbformat": 4,
 "nbformat_minor": 4
}
